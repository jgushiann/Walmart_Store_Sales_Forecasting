{
  "cells": [
    {
      "cell_type": "code",
      "source": [
        "from google.colab import drive\n",
        "drive.mount('/content/drive')"
      ],
      "metadata": {
        "colab": {
          "base_uri": "https://localhost:8080/"
        },
        "id": "OREAcqk1WBTJ",
        "outputId": "8d2acef7-832d-4c41-dd6b-65b6d3a319a0"
      },
      "execution_count": 68,
      "outputs": [
        {
          "output_type": "stream",
          "name": "stdout",
          "text": [
            "Mounted at /content/drive\n"
          ]
        }
      ]
    },
    {
      "cell_type": "code",
      "source": [
        "!pip install dagshub --upgrade"
      ],
      "metadata": {
        "colab": {
          "base_uri": "https://localhost:8080/"
        },
        "id": "7QCLRvTBtKuE",
        "outputId": "872b03a0-00d7-44ad-852d-f3c83549b781"
      },
      "execution_count": 69,
      "outputs": [
        {
          "output_type": "stream",
          "name": "stdout",
          "text": [
            "Requirement already satisfied: dagshub in /usr/local/lib/python3.11/dist-packages (0.6.2)\n",
            "Requirement already satisfied: PyYAML>=5 in /usr/local/lib/python3.11/dist-packages (from dagshub) (6.0.2)\n",
            "Requirement already satisfied: appdirs>=1.4.4 in /usr/local/lib/python3.11/dist-packages (from dagshub) (1.4.4)\n",
            "Requirement already satisfied: click>=8.0.4 in /usr/local/lib/python3.11/dist-packages (from dagshub) (8.2.1)\n",
            "Requirement already satisfied: httpx>=0.23.0 in /usr/local/lib/python3.11/dist-packages (from dagshub) (0.28.1)\n",
            "Requirement already satisfied: GitPython>=3.1.29 in /usr/local/lib/python3.11/dist-packages (from dagshub) (3.1.45)\n",
            "Requirement already satisfied: rich>=13.1.0 in /usr/local/lib/python3.11/dist-packages (from dagshub) (13.9.4)\n",
            "Requirement already satisfied: dacite~=1.6.0 in /usr/local/lib/python3.11/dist-packages (from dagshub) (1.6.0)\n",
            "Requirement already satisfied: tenacity>=8.2.2 in /usr/local/lib/python3.11/dist-packages (from dagshub) (8.5.0)\n",
            "Requirement already satisfied: gql[requests] in /usr/local/lib/python3.11/dist-packages (from dagshub) (3.5.3)\n",
            "Requirement already satisfied: dataclasses-json in /usr/local/lib/python3.11/dist-packages (from dagshub) (0.6.7)\n",
            "Requirement already satisfied: pandas in /usr/local/lib/python3.11/dist-packages (from dagshub) (2.2.2)\n",
            "Requirement already satisfied: treelib>=1.6.4 in /usr/local/lib/python3.11/dist-packages (from dagshub) (1.8.0)\n",
            "Requirement already satisfied: pathvalidate>=3.0.0 in /usr/local/lib/python3.11/dist-packages (from dagshub) (3.3.1)\n",
            "Requirement already satisfied: python-dateutil in /usr/local/lib/python3.11/dist-packages (from dagshub) (2.9.0.post0)\n",
            "Requirement already satisfied: boto3 in /usr/local/lib/python3.11/dist-packages (from dagshub) (1.39.16)\n",
            "Requirement already satisfied: semver in /usr/local/lib/python3.11/dist-packages (from dagshub) (3.0.4)\n",
            "Requirement already satisfied: dagshub-annotation-converter>=0.1.5 in /usr/local/lib/python3.11/dist-packages (from dagshub) (0.1.11)\n",
            "Requirement already satisfied: lxml in /usr/local/lib/python3.11/dist-packages (from dagshub-annotation-converter>=0.1.5->dagshub) (5.4.0)\n",
            "Requirement already satisfied: pillow in /usr/local/lib/python3.11/dist-packages (from dagshub-annotation-converter>=0.1.5->dagshub) (11.3.0)\n",
            "Requirement already satisfied: pydantic>=2.0.0 in /usr/local/lib/python3.11/dist-packages (from dagshub-annotation-converter>=0.1.5->dagshub) (2.11.7)\n",
            "Requirement already satisfied: typing-extensions in /usr/local/lib/python3.11/dist-packages (from dagshub-annotation-converter>=0.1.5->dagshub) (4.14.1)\n",
            "Requirement already satisfied: gitdb<5,>=4.0.1 in /usr/local/lib/python3.11/dist-packages (from GitPython>=3.1.29->dagshub) (4.0.12)\n",
            "Requirement already satisfied: anyio in /usr/local/lib/python3.11/dist-packages (from httpx>=0.23.0->dagshub) (4.9.0)\n",
            "Requirement already satisfied: certifi in /usr/local/lib/python3.11/dist-packages (from httpx>=0.23.0->dagshub) (2025.7.14)\n",
            "Requirement already satisfied: httpcore==1.* in /usr/local/lib/python3.11/dist-packages (from httpx>=0.23.0->dagshub) (1.0.9)\n",
            "Requirement already satisfied: idna in /usr/local/lib/python3.11/dist-packages (from httpx>=0.23.0->dagshub) (3.10)\n",
            "Requirement already satisfied: h11>=0.16 in /usr/local/lib/python3.11/dist-packages (from httpcore==1.*->httpx>=0.23.0->dagshub) (0.16.0)\n",
            "Requirement already satisfied: markdown-it-py>=2.2.0 in /usr/local/lib/python3.11/dist-packages (from rich>=13.1.0->dagshub) (3.0.0)\n",
            "Requirement already satisfied: pygments<3.0.0,>=2.13.0 in /usr/local/lib/python3.11/dist-packages (from rich>=13.1.0->dagshub) (2.19.2)\n",
            "Requirement already satisfied: six>=1.13.0 in /usr/local/lib/python3.11/dist-packages (from treelib>=1.6.4->dagshub) (1.17.0)\n",
            "Requirement already satisfied: botocore<1.40.0,>=1.39.16 in /usr/local/lib/python3.11/dist-packages (from boto3->dagshub) (1.39.16)\n",
            "Requirement already satisfied: jmespath<2.0.0,>=0.7.1 in /usr/local/lib/python3.11/dist-packages (from boto3->dagshub) (1.0.1)\n",
            "Requirement already satisfied: s3transfer<0.14.0,>=0.13.0 in /usr/local/lib/python3.11/dist-packages (from boto3->dagshub) (0.13.1)\n",
            "Requirement already satisfied: marshmallow<4.0.0,>=3.18.0 in /usr/local/lib/python3.11/dist-packages (from dataclasses-json->dagshub) (3.26.1)\n",
            "Requirement already satisfied: typing-inspect<1,>=0.4.0 in /usr/local/lib/python3.11/dist-packages (from dataclasses-json->dagshub) (0.9.0)\n",
            "Requirement already satisfied: graphql-core<3.2.7,>=3.2 in /usr/local/lib/python3.11/dist-packages (from gql[requests]->dagshub) (3.2.6)\n",
            "Requirement already satisfied: yarl<2.0,>=1.6 in /usr/local/lib/python3.11/dist-packages (from gql[requests]->dagshub) (1.20.1)\n",
            "Requirement already satisfied: backoff<3.0,>=1.11.1 in /usr/local/lib/python3.11/dist-packages (from gql[requests]->dagshub) (2.2.1)\n",
            "Requirement already satisfied: requests<3,>=2.26 in /usr/local/lib/python3.11/dist-packages (from gql[requests]->dagshub) (2.32.3)\n",
            "Requirement already satisfied: requests-toolbelt<2,>=1.0.0 in /usr/local/lib/python3.11/dist-packages (from gql[requests]->dagshub) (1.0.0)\n",
            "Requirement already satisfied: numpy>=1.23.2 in /usr/local/lib/python3.11/dist-packages (from pandas->dagshub) (2.0.2)\n",
            "Requirement already satisfied: pytz>=2020.1 in /usr/local/lib/python3.11/dist-packages (from pandas->dagshub) (2025.2)\n",
            "Requirement already satisfied: tzdata>=2022.7 in /usr/local/lib/python3.11/dist-packages (from pandas->dagshub) (2025.2)\n",
            "Requirement already satisfied: sniffio>=1.1 in /usr/local/lib/python3.11/dist-packages (from anyio->httpx>=0.23.0->dagshub) (1.3.1)\n",
            "Requirement already satisfied: urllib3!=2.2.0,<3,>=1.25.4 in /usr/local/lib/python3.11/dist-packages (from botocore<1.40.0,>=1.39.16->boto3->dagshub) (2.5.0)\n",
            "Requirement already satisfied: smmap<6,>=3.0.1 in /usr/local/lib/python3.11/dist-packages (from gitdb<5,>=4.0.1->GitPython>=3.1.29->dagshub) (5.0.2)\n",
            "Requirement already satisfied: mdurl~=0.1 in /usr/local/lib/python3.11/dist-packages (from markdown-it-py>=2.2.0->rich>=13.1.0->dagshub) (0.1.2)\n",
            "Requirement already satisfied: packaging>=17.0 in /usr/local/lib/python3.11/dist-packages (from marshmallow<4.0.0,>=3.18.0->dataclasses-json->dagshub) (25.0)\n",
            "Requirement already satisfied: annotated-types>=0.6.0 in /usr/local/lib/python3.11/dist-packages (from pydantic>=2.0.0->dagshub-annotation-converter>=0.1.5->dagshub) (0.7.0)\n",
            "Requirement already satisfied: pydantic-core==2.33.2 in /usr/local/lib/python3.11/dist-packages (from pydantic>=2.0.0->dagshub-annotation-converter>=0.1.5->dagshub) (2.33.2)\n",
            "Requirement already satisfied: typing-inspection>=0.4.0 in /usr/local/lib/python3.11/dist-packages (from pydantic>=2.0.0->dagshub-annotation-converter>=0.1.5->dagshub) (0.4.1)\n",
            "Requirement already satisfied: charset-normalizer<4,>=2 in /usr/local/lib/python3.11/dist-packages (from requests<3,>=2.26->gql[requests]->dagshub) (3.4.2)\n",
            "Requirement already satisfied: mypy-extensions>=0.3.0 in /usr/local/lib/python3.11/dist-packages (from typing-inspect<1,>=0.4.0->dataclasses-json->dagshub) (1.1.0)\n",
            "Requirement already satisfied: multidict>=4.0 in /usr/local/lib/python3.11/dist-packages (from yarl<2.0,>=1.6->gql[requests]->dagshub) (6.6.3)\n",
            "Requirement already satisfied: propcache>=0.2.1 in /usr/local/lib/python3.11/dist-packages (from yarl<2.0,>=1.6->gql[requests]->dagshub) (0.3.2)\n"
          ]
        }
      ]
    },
    {
      "cell_type": "code",
      "source": [
        "!pip install -q pandas numpy scikit-learn xgboost mlflow joblib kaggle"
      ],
      "metadata": {
        "id": "vfqSnDDGuv6c"
      },
      "execution_count": 70,
      "outputs": []
    },
    {
      "cell_type": "markdown",
      "source": [
        "**Import neccessary libraries**"
      ],
      "metadata": {
        "id": "UBD8B016130O"
      }
    },
    {
      "cell_type": "code",
      "source": [
        "import pandas as pd\n",
        "import numpy as np\n",
        "import matplotlib.pyplot as plt\n",
        "import seaborn as sns\n",
        "import joblib\n",
        "import warnings\n",
        "import os\n",
        "import zipfile\n",
        "import mlflow\n",
        "import mlflow.xgboost\n",
        "import xgboost as xgb\n",
        "\n",
        "from sklearn.pipeline import Pipeline\n",
        "from sklearn.compose import ColumnTransformer\n",
        "from sklearn.preprocessing import StandardScaler, OneHotEncoder\n",
        "from sklearn.impute import SimpleImputer\n",
        "from sklearn.model_selection import TimeSeriesSplit\n",
        "from sklearn.metrics import mean_absolute_error\n",
        "\n",
        "warnings.filterwarnings(\"ignore\")\n",
        "np.random.seed(42)"
      ],
      "metadata": {
        "id": "mLmmA43CxzJ2"
      },
      "execution_count": 71,
      "outputs": []
    },
    {
      "cell_type": "code",
      "source": [
        "from google.colab import files\n",
        "uploaded = files.upload()"
      ],
      "metadata": {
        "colab": {
          "base_uri": "https://localhost:8080/",
          "height": 73
        },
        "id": "dlruHjrRvPSW",
        "outputId": "c30204cd-b1e7-433a-e7ce-f3efca1cbdee"
      },
      "execution_count": 72,
      "outputs": [
        {
          "output_type": "display_data",
          "data": {
            "text/plain": [
              "<IPython.core.display.HTML object>"
            ],
            "text/html": [
              "\n",
              "     <input type=\"file\" id=\"files-0453ccab-9fcf-426a-bfee-c023a7500090\" name=\"files[]\" multiple disabled\n",
              "        style=\"border:none\" />\n",
              "     <output id=\"result-0453ccab-9fcf-426a-bfee-c023a7500090\">\n",
              "      Upload widget is only available when the cell has been executed in the\n",
              "      current browser session. Please rerun this cell to enable.\n",
              "      </output>\n",
              "      <script>// Copyright 2017 Google LLC\n",
              "//\n",
              "// Licensed under the Apache License, Version 2.0 (the \"License\");\n",
              "// you may not use this file except in compliance with the License.\n",
              "// You may obtain a copy of the License at\n",
              "//\n",
              "//      http://www.apache.org/licenses/LICENSE-2.0\n",
              "//\n",
              "// Unless required by applicable law or agreed to in writing, software\n",
              "// distributed under the License is distributed on an \"AS IS\" BASIS,\n",
              "// WITHOUT WARRANTIES OR CONDITIONS OF ANY KIND, either express or implied.\n",
              "// See the License for the specific language governing permissions and\n",
              "// limitations under the License.\n",
              "\n",
              "/**\n",
              " * @fileoverview Helpers for google.colab Python module.\n",
              " */\n",
              "(function(scope) {\n",
              "function span(text, styleAttributes = {}) {\n",
              "  const element = document.createElement('span');\n",
              "  element.textContent = text;\n",
              "  for (const key of Object.keys(styleAttributes)) {\n",
              "    element.style[key] = styleAttributes[key];\n",
              "  }\n",
              "  return element;\n",
              "}\n",
              "\n",
              "// Max number of bytes which will be uploaded at a time.\n",
              "const MAX_PAYLOAD_SIZE = 100 * 1024;\n",
              "\n",
              "function _uploadFiles(inputId, outputId) {\n",
              "  const steps = uploadFilesStep(inputId, outputId);\n",
              "  const outputElement = document.getElementById(outputId);\n",
              "  // Cache steps on the outputElement to make it available for the next call\n",
              "  // to uploadFilesContinue from Python.\n",
              "  outputElement.steps = steps;\n",
              "\n",
              "  return _uploadFilesContinue(outputId);\n",
              "}\n",
              "\n",
              "// This is roughly an async generator (not supported in the browser yet),\n",
              "// where there are multiple asynchronous steps and the Python side is going\n",
              "// to poll for completion of each step.\n",
              "// This uses a Promise to block the python side on completion of each step,\n",
              "// then passes the result of the previous step as the input to the next step.\n",
              "function _uploadFilesContinue(outputId) {\n",
              "  const outputElement = document.getElementById(outputId);\n",
              "  const steps = outputElement.steps;\n",
              "\n",
              "  const next = steps.next(outputElement.lastPromiseValue);\n",
              "  return Promise.resolve(next.value.promise).then((value) => {\n",
              "    // Cache the last promise value to make it available to the next\n",
              "    // step of the generator.\n",
              "    outputElement.lastPromiseValue = value;\n",
              "    return next.value.response;\n",
              "  });\n",
              "}\n",
              "\n",
              "/**\n",
              " * Generator function which is called between each async step of the upload\n",
              " * process.\n",
              " * @param {string} inputId Element ID of the input file picker element.\n",
              " * @param {string} outputId Element ID of the output display.\n",
              " * @return {!Iterable<!Object>} Iterable of next steps.\n",
              " */\n",
              "function* uploadFilesStep(inputId, outputId) {\n",
              "  const inputElement = document.getElementById(inputId);\n",
              "  inputElement.disabled = false;\n",
              "\n",
              "  const outputElement = document.getElementById(outputId);\n",
              "  outputElement.innerHTML = '';\n",
              "\n",
              "  const pickedPromise = new Promise((resolve) => {\n",
              "    inputElement.addEventListener('change', (e) => {\n",
              "      resolve(e.target.files);\n",
              "    });\n",
              "  });\n",
              "\n",
              "  const cancel = document.createElement('button');\n",
              "  inputElement.parentElement.appendChild(cancel);\n",
              "  cancel.textContent = 'Cancel upload';\n",
              "  const cancelPromise = new Promise((resolve) => {\n",
              "    cancel.onclick = () => {\n",
              "      resolve(null);\n",
              "    };\n",
              "  });\n",
              "\n",
              "  // Wait for the user to pick the files.\n",
              "  const files = yield {\n",
              "    promise: Promise.race([pickedPromise, cancelPromise]),\n",
              "    response: {\n",
              "      action: 'starting',\n",
              "    }\n",
              "  };\n",
              "\n",
              "  cancel.remove();\n",
              "\n",
              "  // Disable the input element since further picks are not allowed.\n",
              "  inputElement.disabled = true;\n",
              "\n",
              "  if (!files) {\n",
              "    return {\n",
              "      response: {\n",
              "        action: 'complete',\n",
              "      }\n",
              "    };\n",
              "  }\n",
              "\n",
              "  for (const file of files) {\n",
              "    const li = document.createElement('li');\n",
              "    li.append(span(file.name, {fontWeight: 'bold'}));\n",
              "    li.append(span(\n",
              "        `(${file.type || 'n/a'}) - ${file.size} bytes, ` +\n",
              "        `last modified: ${\n",
              "            file.lastModifiedDate ? file.lastModifiedDate.toLocaleDateString() :\n",
              "                                    'n/a'} - `));\n",
              "    const percent = span('0% done');\n",
              "    li.appendChild(percent);\n",
              "\n",
              "    outputElement.appendChild(li);\n",
              "\n",
              "    const fileDataPromise = new Promise((resolve) => {\n",
              "      const reader = new FileReader();\n",
              "      reader.onload = (e) => {\n",
              "        resolve(e.target.result);\n",
              "      };\n",
              "      reader.readAsArrayBuffer(file);\n",
              "    });\n",
              "    // Wait for the data to be ready.\n",
              "    let fileData = yield {\n",
              "      promise: fileDataPromise,\n",
              "      response: {\n",
              "        action: 'continue',\n",
              "      }\n",
              "    };\n",
              "\n",
              "    // Use a chunked sending to avoid message size limits. See b/62115660.\n",
              "    let position = 0;\n",
              "    do {\n",
              "      const length = Math.min(fileData.byteLength - position, MAX_PAYLOAD_SIZE);\n",
              "      const chunk = new Uint8Array(fileData, position, length);\n",
              "      position += length;\n",
              "\n",
              "      const base64 = btoa(String.fromCharCode.apply(null, chunk));\n",
              "      yield {\n",
              "        response: {\n",
              "          action: 'append',\n",
              "          file: file.name,\n",
              "          data: base64,\n",
              "        },\n",
              "      };\n",
              "\n",
              "      let percentDone = fileData.byteLength === 0 ?\n",
              "          100 :\n",
              "          Math.round((position / fileData.byteLength) * 100);\n",
              "      percent.textContent = `${percentDone}% done`;\n",
              "\n",
              "    } while (position < fileData.byteLength);\n",
              "  }\n",
              "\n",
              "  // All done.\n",
              "  yield {\n",
              "    response: {\n",
              "      action: 'complete',\n",
              "    }\n",
              "  };\n",
              "}\n",
              "\n",
              "scope.google = scope.google || {};\n",
              "scope.google.colab = scope.google.colab || {};\n",
              "scope.google.colab._files = {\n",
              "  _uploadFiles,\n",
              "  _uploadFilesContinue,\n",
              "};\n",
              "})(self);\n",
              "</script> "
            ]
          },
          "metadata": {}
        },
        {
          "output_type": "stream",
          "name": "stdout",
          "text": [
            "Saving kaggle.json to kaggle.json\n"
          ]
        }
      ]
    },
    {
      "cell_type": "code",
      "source": [
        "mlflow.set_tracking_uri(\"mlruns\")\n",
        "mlflow.set_experiment(\"walmart_sales_forecasting\")"
      ],
      "metadata": {
        "colab": {
          "base_uri": "https://localhost:8080/"
        },
        "id": "YFJbWrMRlMCq",
        "outputId": "ce6098e3-132e-4b31-ddb6-2ca17e6527c0"
      },
      "execution_count": 73,
      "outputs": [
        {
          "output_type": "execute_result",
          "data": {
            "text/plain": [
              "<Experiment: artifact_location='/content/mlruns/678949468289484664', creation_time=1753893432960, experiment_id='678949468289484664', last_update_time=1753893432960, lifecycle_stage='active', name='walmart_sales_forecasting', tags={}>"
            ]
          },
          "metadata": {},
          "execution_count": 73
        }
      ]
    },
    {
      "cell_type": "code",
      "source": [
        "!mkdir -p ~/.kaggle\n",
        "!mv kaggle.json ~/.kaggle/\n",
        "!chmod 600 ~/.kaggle/kaggle.json"
      ],
      "metadata": {
        "id": "YisN09y-uA2E"
      },
      "execution_count": 74,
      "outputs": []
    },
    {
      "cell_type": "code",
      "source": [
        "!kaggle competitions download -c walmart-recruiting-store-sales-forecasting"
      ],
      "metadata": {
        "colab": {
          "base_uri": "https://localhost:8080/"
        },
        "id": "D3wxGSa2vaDN",
        "outputId": "8b9b3784-fe1c-4462-e0a9-178eebc46426"
      },
      "execution_count": 75,
      "outputs": [
        {
          "output_type": "stream",
          "name": "stdout",
          "text": [
            "walmart-recruiting-store-sales-forecasting.zip: Skipping, found more recently modified local copy (use --force to force download)\n"
          ]
        }
      ]
    },
    {
      "cell_type": "code",
      "source": [
        "!mkdir -p data\n",
        "!unzip walmart-recruiting-store-sales-forecasting.zip -d data/"
      ],
      "metadata": {
        "colab": {
          "base_uri": "https://localhost:8080/"
        },
        "id": "KyK5g20HtXUn",
        "outputId": "f6adee50-9335-44bf-98a1-4ba8eb5b987c"
      },
      "execution_count": 76,
      "outputs": [
        {
          "output_type": "stream",
          "name": "stdout",
          "text": [
            "Archive:  walmart-recruiting-store-sales-forecasting.zip\n",
            "  inflating: data/features.csv.zip   \n",
            "  inflating: data/sampleSubmission.csv.zip  \n",
            "replace data/stores.csv? [y]es, [n]o, [A]ll, [N]one, [r]ename: A\n",
            "  inflating: data/stores.csv         \n",
            "  inflating: data/test.csv.zip       \n",
            "  inflating: data/train.csv.zip      \n"
          ]
        }
      ]
    },
    {
      "cell_type": "markdown",
      "source": [
        "**Data** **visualisation**"
      ],
      "metadata": {
        "id": "yj3BlXWA2Bdi"
      }
    },
    {
      "cell_type": "code",
      "source": [
        "import os\n",
        "print(os.listdir(\"data\"))"
      ],
      "metadata": {
        "colab": {
          "base_uri": "https://localhost:8080/"
        },
        "id": "wI1X3zdkwb2d",
        "outputId": "d63827cc-2361-410d-aff7-eab318f9af73"
      },
      "execution_count": 77,
      "outputs": [
        {
          "output_type": "stream",
          "name": "stdout",
          "text": [
            "['sampleSubmission.csv', 'stores.csv', 'train.csv.zip', 'features.csv.zip', 'test.csv.zip', 'test.csv', 'train.csv', 'features.csv', 'sampleSubmission.csv.zip']\n"
          ]
        }
      ]
    },
    {
      "cell_type": "code",
      "source": [
        "import os\n",
        "import zipfile\n",
        "\n",
        "data_dir = \"data\"\n",
        "for file in os.listdir(data_dir):\n",
        "    if file.endswith(\".zip\"):\n",
        "        file_path = os.path.join(data_dir, file)\n",
        "        with zipfile.ZipFile(file_path, 'r') as zip_ref:\n",
        "            zip_ref.extractall(data_dir)\n",
        "        print(f\"Unzipped {file}\")\n",
        "\n",
        "print(\"Updated contents of data directory:\", os.listdir(data_dir))"
      ],
      "metadata": {
        "colab": {
          "base_uri": "https://localhost:8080/"
        },
        "id": "3yGG66rl3KYF",
        "outputId": "9dbc6464-76b1-4682-e416-c091db45b809"
      },
      "execution_count": 78,
      "outputs": [
        {
          "output_type": "stream",
          "name": "stdout",
          "text": [
            "Unzipped train.csv.zip\n",
            "Unzipped features.csv.zip\n",
            "Unzipped test.csv.zip\n",
            "Unzipped sampleSubmission.csv.zip\n",
            "Updated contents of data directory: ['sampleSubmission.csv', 'stores.csv', 'train.csv.zip', 'features.csv.zip', 'test.csv.zip', 'test.csv', 'train.csv', 'features.csv', 'sampleSubmission.csv.zip']\n"
          ]
        }
      ]
    },
    {
      "cell_type": "code",
      "source": [
        "!rm data/*.zip\n",
        "print(\"Remaining files:\", os.listdir(\"data\"))"
      ],
      "metadata": {
        "colab": {
          "base_uri": "https://localhost:8080/"
        },
        "id": "my9f1yGh0W_z",
        "outputId": "9959ac1c-27b3-4431-c4fa-935f82fc3e5e"
      },
      "execution_count": 79,
      "outputs": [
        {
          "output_type": "stream",
          "name": "stdout",
          "text": [
            "Remaining files: ['sampleSubmission.csv', 'stores.csv', 'test.csv', 'train.csv', 'features.csv']\n"
          ]
        }
      ]
    },
    {
      "cell_type": "code",
      "source": [
        "train = pd.read_csv(\"data/train.csv\")\n",
        "stores = pd.read_csv(\"data/stores.csv\")\n",
        "features = pd.read_csv(\"data/features.csv\")\n",
        "test = pd.read_csv(\"data/test.csv\")\n",
        "\n",
        "print(\"Train shape:\", train.shape)\n",
        "print(\"Stores shape:\", stores.shape)\n",
        "print(\"Features shape:\", features.shape)\n",
        "print(\"Test shape:\", test.shape)\n"
      ],
      "metadata": {
        "colab": {
          "base_uri": "https://localhost:8080/"
        },
        "id": "3KgQbLGy3bFt",
        "outputId": "c3413b0c-bb97-49bb-aecf-8b778075c9b8"
      },
      "execution_count": 80,
      "outputs": [
        {
          "output_type": "stream",
          "name": "stdout",
          "text": [
            "Train shape: (421570, 5)\n",
            "Stores shape: (45, 3)\n",
            "Features shape: (8190, 12)\n",
            "Test shape: (115064, 4)\n"
          ]
        }
      ]
    },
    {
      "cell_type": "code",
      "source": [
        "train_full = train.merge(stores, on='Store').merge(features, on=['Store', 'Date'])\n",
        "test_full = test.merge(stores, on='Store').merge(features, on=['Store', 'Date'])\n",
        "\n",
        "print(\"Train: \", train_full.shape)\n",
        "print(\"Test: \", test_full.shape)"
      ],
      "metadata": {
        "colab": {
          "base_uri": "https://localhost:8080/"
        },
        "id": "ZeraUZ-Y0axw",
        "outputId": "6b386633-9f34-4407-d760-fb4d10143c3d"
      },
      "execution_count": 81,
      "outputs": [
        {
          "output_type": "stream",
          "name": "stdout",
          "text": [
            "Train:  (421570, 17)\n",
            "Test:  (115064, 16)\n"
          ]
        }
      ]
    },
    {
      "cell_type": "code",
      "source": [
        "plt.figure(figsize=(14, 5))\n",
        "train_full.groupby('Date')['Weekly_Sales'].sum().plot()\n",
        "plt.title('Total Weekly Sales Over Time')\n",
        "plt.xlabel('Date')\n",
        "plt.ylabel('Weekly Sales')\n",
        "plt.grid(True)\n",
        "plt.show()"
      ],
      "metadata": {
        "colab": {
          "base_uri": "https://localhost:8080/",
          "height": 487
        },
        "id": "05ekny1I01kO",
        "outputId": "4851db27-408b-413d-b84b-84b357d70b92"
      },
      "execution_count": 82,
      "outputs": [
        {
          "output_type": "display_data",
          "data": {
            "text/plain": [
              "<Figure size 1400x500 with 1 Axes>"
            ],
            "image/png": "[encoded data removed]"
          },
          "metadata": {}
        }
      ]
    },
    {
      "cell_type": "code",
      "source": [
        "numeric_cols = train_full.select_dtypes(include=['float64', 'int64']).drop(columns=['Store', 'Dept']).corr()\n",
        "plt.figure(figsize=(10, 8))\n",
        "sns.heatmap(numeric_cols, annot=True, cmap='coolwarm')\n",
        "plt.title('Correlation Heatmap')\n",
        "plt.show()"
      ],
      "metadata": {
        "colab": {
          "base_uri": "https://localhost:8080/",
          "height": 791
        },
        "id": "akkrJUeA1JDi",
        "outputId": "056fa433-32d4-4d77-bf10-d48793dbc93e"
      },
      "execution_count": 83,
      "outputs": [
        {
          "output_type": "display_data",
          "data": {
            "text/plain": [
              "<Figure size 1000x800 with 2 Axes>"
            ],
            "image/png": "[encoded data removed]"
          },
          "metadata": {}
        }
      ]
    },
    {
      "cell_type": "code",
      "source": [
        "plt.figure(figsize=(10, 5))\n",
        "sns.histplot(train_full['Weekly_Sales'], bins=100, kde=True)\n",
        "plt.title('Distribution of Weekly Sales')\n",
        "plt.xlabel('Weekly Sales')\n",
        "plt.xlim(-10000, 50000)\n",
        "plt.grid(True)\n",
        "plt.show()"
      ],
      "metadata": {
        "colab": {
          "base_uri": "https://localhost:8080/",
          "height": 487
        },
        "id": "NXgkowwj1YdP",
        "outputId": "9eae9815-1713-4c4b-a56f-c06811b28550"
      },
      "execution_count": 84,
      "outputs": [
        {
          "output_type": "display_data",
          "data": {
            "text/plain": [
              "<Figure size 1000x500 with 1 Axes>"
            ],
            "image/png": "[encoded data removed]"
          },
          "metadata": {}
        }
      ]
    },
    {
      "cell_type": "code",
      "source": [
        "print(train_full)\n",
        "print('-----------Test Data------------')\n",
        "print(test_full)"
      ],
      "metadata": {
        "colab": {
          "base_uri": "https://localhost:8080/"
        },
        "id": "K_6kf8Nhn88q",
        "outputId": "bf539ac8-cae2-4fc0-b9e6-bc24572f0647"
      },
      "execution_count": 85,
      "outputs": [
        {
          "output_type": "stream",
          "name": "stdout",
          "text": [
            "        Store  Dept        Date  Weekly_Sales  IsHoliday_x Type    Size  \\\n",
            "0           1     1  2010-02-05      24924.50        False    A  151315   \n",
            "1           1     1  2010-02-12      46039.49         True    A  151315   \n",
            "2           1     1  2010-02-19      41595.55        False    A  151315   \n",
            "3           1     1  2010-02-26      19403.54        False    A  151315   \n",
            "4           1     1  2010-03-05      21827.90        False    A  151315   \n",
            "...       ...   ...         ...           ...          ...  ...     ...   \n",
            "421565     45    98  2012-09-28        508.37        False    B  118221   \n",
            "421566     45    98  2012-10-05        628.10        False    B  118221   \n",
            "421567     45    98  2012-10-12       1061.02        False    B  118221   \n",
            "421568     45    98  2012-10-19        760.01        False    B  118221   \n",
            "421569     45    98  2012-10-26       1076.80        False    B  118221   \n",
            "\n",
            "        Temperature  Fuel_Price  MarkDown1  MarkDown2  MarkDown3  MarkDown4  \\\n",
            "0             42.31       2.572        NaN        NaN        NaN        NaN   \n",
            "1             38.51       2.548        NaN        NaN        NaN        NaN   \n",
            "2             39.93       2.514        NaN        NaN        NaN        NaN   \n",
            "3             46.63       2.561        NaN        NaN        NaN        NaN   \n",
            "4             46.50       2.625        NaN        NaN        NaN        NaN   \n",
            "...             ...         ...        ...        ...        ...        ...   \n",
            "421565        64.88       3.997    4556.61      20.64       1.50    1601.01   \n",
            "421566        64.89       3.985    5046.74        NaN      18.82    2253.43   \n",
            "421567        54.47       4.000    1956.28        NaN       7.89     599.32   \n",
            "421568        56.47       3.969    2004.02        NaN       3.18     437.73   \n",
            "421569        58.85       3.882    4018.91      58.08     100.00     211.94   \n",
            "\n",
            "        MarkDown5         CPI  Unemployment  IsHoliday_y  \n",
            "0             NaN  211.096358         8.106        False  \n",
            "1             NaN  211.242170         8.106         True  \n",
            "2             NaN  211.289143         8.106        False  \n",
            "3             NaN  211.319643         8.106        False  \n",
            "4             NaN  211.350143         8.106        False  \n",
            "...           ...         ...           ...          ...  \n",
            "421565    3288.25  192.013558         8.684        False  \n",
            "421566    2340.01  192.170412         8.667        False  \n",
            "421567    3990.54  192.327265         8.667        False  \n",
            "421568    1537.49  192.330854         8.667        False  \n",
            "421569     858.33  192.308899         8.667        False  \n",
            "\n",
            "[421570 rows x 17 columns]\n",
            "-----------Test Data------------\n",
            "        Store  Dept        Date  IsHoliday_x Type    Size  Temperature  \\\n",
            "0           1     1  2012-11-02        False    A  151315        55.32   \n",
            "1           1     1  2012-11-09        False    A  151315        61.24   \n",
            "2           1     1  2012-11-16        False    A  151315        52.92   \n",
            "3           1     1  2012-11-23         True    A  151315        56.23   \n",
            "4           1     1  2012-11-30        False    A  151315        52.34   \n",
            "...       ...   ...         ...          ...  ...     ...          ...   \n",
            "115059     45    98  2013-06-28        False    B  118221        76.05   \n",
            "115060     45    98  2013-07-05        False    B  118221        77.50   \n",
            "115061     45    98  2013-07-12        False    B  118221        79.37   \n",
            "115062     45    98  2013-07-19        False    B  118221        82.84   \n",
            "115063     45    98  2013-07-26        False    B  118221        76.06   \n",
            "\n",
            "        Fuel_Price  MarkDown1  MarkDown2  MarkDown3  MarkDown4  MarkDown5  \\\n",
            "0            3.386    6766.44    5147.70      50.82    3639.90    2737.42   \n",
            "1            3.314   11421.32    3370.89      40.28    4646.79    6154.16   \n",
            "2            3.252    9696.28     292.10     103.78    1133.15    6612.69   \n",
            "3            3.211     883.59       4.17   74910.32     209.91     303.32   \n",
            "4            3.207    2460.03        NaN    3838.35     150.57    6966.34   \n",
            "...            ...        ...        ...        ...        ...        ...   \n",
            "115059       3.639    4842.29     975.03       3.00    2449.97    3169.69   \n",
            "115060       3.614    9090.48    2268.58     582.74    5797.47    1514.93   \n",
            "115061       3.614    3789.94    1827.31      85.72     744.84    2150.36   \n",
            "115062       3.737    2961.49    1047.07     204.19     363.00    1059.46   \n",
            "115063       3.804     212.02     851.73       2.06      10.88    1864.57   \n",
            "\n",
            "               CPI  Unemployment  IsHoliday_y  \n",
            "0       223.462779         6.573        False  \n",
            "1       223.481307         6.573        False  \n",
            "2       223.512911         6.573        False  \n",
            "3       223.561947         6.573         True  \n",
            "4       223.610984         6.573        False  \n",
            "...            ...           ...          ...  \n",
            "115059         NaN           NaN        False  \n",
            "115060         NaN           NaN        False  \n",
            "115061         NaN           NaN        False  \n",
            "115062         NaN           NaN        False  \n",
            "115063         NaN           NaN        False  \n",
            "\n",
            "[115064 rows x 16 columns]\n"
          ]
        }
      ]
    },
    {
      "cell_type": "code",
      "source": [
        "print(\"Data type of Type:\", train_full['Type'].dtype)"
      ],
      "metadata": {
        "colab": {
          "base_uri": "https://localhost:8080/"
        },
        "id": "n2OCSDv5vAnP",
        "outputId": "954c4761-f327-4ab5-f428-1e12321052c7"
      },
      "execution_count": 86,
      "outputs": [
        {
          "output_type": "stream",
          "name": "stdout",
          "text": [
            "Data type of Type: object\n"
          ]
        }
      ]
    },
    {
      "cell_type": "markdown",
      "source": [
        "**Data Cleaning**"
      ],
      "metadata": {
        "id": "L_O-VoePvHRG"
      }
    },
    {
      "cell_type": "code",
      "source": [
        "train_full.isnull().mean().sort_values(ascending=False)"
      ],
      "metadata": {
        "colab": {
          "base_uri": "https://localhost:8080/",
          "height": 617
        },
        "id": "kmPKCcy3rntG",
        "outputId": "4e59f4f3-97d4-448e-f116-9517245d74f7"
      },
      "execution_count": 87,
      "outputs": [
        {
          "output_type": "execute_result",
          "data": {
            "text/plain": [
              "MarkDown2       0.736110\n",
              "MarkDown4       0.679847\n",
              "MarkDown3       0.674808\n",
              "MarkDown1       0.642572\n",
              "MarkDown5       0.640790\n",
              "Store           0.000000\n",
              "Dept            0.000000\n",
              "Weekly_Sales    0.000000\n",
              "Date            0.000000\n",
              "Fuel_Price      0.000000\n",
              "Temperature     0.000000\n",
              "Size            0.000000\n",
              "Type            0.000000\n",
              "IsHoliday_x     0.000000\n",
              "CPI             0.000000\n",
              "Unemployment    0.000000\n",
              "IsHoliday_y     0.000000\n",
              "dtype: float64"
            ],
            "text/html": [
              "<div>\n",
              "<style scoped>\n",
              "    .dataframe tbody tr th:only-of-type {\n",
              "        vertical-align: middle;\n",
              "    }\n",
              "\n",
              "    .dataframe tbody tr th {\n",
              "        vertical-align: top;\n",
              "    }\n",
              "\n",
              "    .dataframe thead th {\n",
              "        text-align: right;\n",
              "    }\n",
              "</style>\n",
              "<table border=\"1\" class=\"dataframe\">\n",
              "  <thead>\n",
              "    <tr style=\"text-align: right;\">\n",
              "      <th></th>\n",
              "      <th>0</th>\n",
              "    </tr>\n",
              "  </thead>\n",
              "  <tbody>\n",
              "    <tr>\n",
              "      <th>MarkDown2</th>\n",
              "      <td>0.736110</td>\n",
              "    </tr>\n",
              "    <tr>\n",
              "      <th>MarkDown4</th>\n",
              "      <td>0.679847</td>\n",
              "    </tr>\n",
              "    <tr>\n",
              "      <th>MarkDown3</th>\n",
              "      <td>0.674808</td>\n",
              "    </tr>\n",
              "    <tr>\n",
              "      <th>MarkDown1</th>\n",
              "      <td>0.642572</td>\n",
              "    </tr>\n",
              "    <tr>\n",
              "      <th>MarkDown5</th>\n",
              "      <td>0.640790</td>\n",
              "    </tr>\n",
              "    <tr>\n",
              "      <th>Store</th>\n",
              "      <td>0.000000</td>\n",
              "    </tr>\n",
              "    <tr>\n",
              "      <th>Dept</th>\n",
              "      <td>0.000000</td>\n",
              "    </tr>\n",
              "    <tr>\n",
              "      <th>Weekly_Sales</th>\n",
              "      <td>0.000000</td>\n",
              "    </tr>\n",
              "    <tr>\n",
              "      <th>Date</th>\n",
              "      <td>0.000000</td>\n",
              "    </tr>\n",
              "    <tr>\n",
              "      <th>Fuel_Price</th>\n",
              "      <td>0.000000</td>\n",
              "    </tr>\n",
              "    <tr>\n",
              "      <th>Temperature</th>\n",
              "      <td>0.000000</td>\n",
              "    </tr>\n",
              "    <tr>\n",
              "      <th>Size</th>\n",
              "      <td>0.000000</td>\n",
              "    </tr>\n",
              "    <tr>\n",
              "      <th>Type</th>\n",
              "      <td>0.000000</td>\n",
              "    </tr>\n",
              "    <tr>\n",
              "      <th>IsHoliday_x</th>\n",
              "      <td>0.000000</td>\n",
              "    </tr>\n",
              "    <tr>\n",
              "      <th>CPI</th>\n",
              "      <td>0.000000</td>\n",
              "    </tr>\n",
              "    <tr>\n",
              "      <th>Unemployment</th>\n",
              "      <td>0.000000</td>\n",
              "    </tr>\n",
              "    <tr>\n",
              "      <th>IsHoliday_y</th>\n",
              "      <td>0.000000</td>\n",
              "    </tr>\n",
              "  </tbody>\n",
              "</table>\n",
              "</div><br><label><b>dtype:</b> float64</label>"
            ]
          },
          "metadata": {},
          "execution_count": 87
        }
      ]
    },
    {
      "cell_type": "code",
      "source": [
        "test_full.isnull().mean().sort_values(ascending=False)"
      ],
      "metadata": {
        "colab": {
          "base_uri": "https://localhost:8080/",
          "height": 586
        },
        "id": "QsWwSo8v3Hf5",
        "outputId": "da47fabe-cac2-49e5-b6ab-e600076dd7c6"
      },
      "execution_count": 88,
      "outputs": [
        {
          "output_type": "execute_result",
          "data": {
            "text/plain": [
              "CPI             0.331659\n",
              "Unemployment    0.331659\n",
              "MarkDown2       0.248792\n",
              "MarkDown4       0.112007\n",
              "MarkDown3       0.085422\n",
              "MarkDown1       0.001295\n",
              "Store           0.000000\n",
              "Dept            0.000000\n",
              "Fuel_Price      0.000000\n",
              "Temperature     0.000000\n",
              "Size            0.000000\n",
              "Type            0.000000\n",
              "IsHoliday_x     0.000000\n",
              "Date            0.000000\n",
              "MarkDown5       0.000000\n",
              "IsHoliday_y     0.000000\n",
              "dtype: float64"
            ],
            "text/html": [
              "<div>\n",
              "<style scoped>\n",
              "    .dataframe tbody tr th:only-of-type {\n",
              "        vertical-align: middle;\n",
              "    }\n",
              "\n",
              "    .dataframe tbody tr th {\n",
              "        vertical-align: top;\n",
              "    }\n",
              "\n",
              "    .dataframe thead th {\n",
              "        text-align: right;\n",
              "    }\n",
              "</style>\n",
              "<table border=\"1\" class=\"dataframe\">\n",
              "  <thead>\n",
              "    <tr style=\"text-align: right;\">\n",
              "      <th></th>\n",
              "      <th>0</th>\n",
              "    </tr>\n",
              "  </thead>\n",
              "  <tbody>\n",
              "    <tr>\n",
              "      <th>CPI</th>\n",
              "      <td>0.331659</td>\n",
              "    </tr>\n",
              "    <tr>\n",
              "      <th>Unemployment</th>\n",
              "      <td>0.331659</td>\n",
              "    </tr>\n",
              "    <tr>\n",
              "      <th>MarkDown2</th>\n",
              "      <td>0.248792</td>\n",
              "    </tr>\n",
              "    <tr>\n",
              "      <th>MarkDown4</th>\n",
              "      <td>0.112007</td>\n",
              "    </tr>\n",
              "    <tr>\n",
              "      <th>MarkDown3</th>\n",
              "      <td>0.085422</td>\n",
              "    </tr>\n",
              "    <tr>\n",
              "      <th>MarkDown1</th>\n",
              "      <td>0.001295</td>\n",
              "    </tr>\n",
              "    <tr>\n",
              "      <th>Store</th>\n",
              "      <td>0.000000</td>\n",
              "    </tr>\n",
              "    <tr>\n",
              "      <th>Dept</th>\n",
              "      <td>0.000000</td>\n",
              "    </tr>\n",
              "    <tr>\n",
              "      <th>Fuel_Price</th>\n",
              "      <td>0.000000</td>\n",
              "    </tr>\n",
              "    <tr>\n",
              "      <th>Temperature</th>\n",
              "      <td>0.000000</td>\n",
              "    </tr>\n",
              "    <tr>\n",
              "      <th>Size</th>\n",
              "      <td>0.000000</td>\n",
              "    </tr>\n",
              "    <tr>\n",
              "      <th>Type</th>\n",
              "      <td>0.000000</td>\n",
              "    </tr>\n",
              "    <tr>\n",
              "      <th>IsHoliday_x</th>\n",
              "      <td>0.000000</td>\n",
              "    </tr>\n",
              "    <tr>\n",
              "      <th>Date</th>\n",
              "      <td>0.000000</td>\n",
              "    </tr>\n",
              "    <tr>\n",
              "      <th>MarkDown5</th>\n",
              "      <td>0.000000</td>\n",
              "    </tr>\n",
              "    <tr>\n",
              "      <th>IsHoliday_y</th>\n",
              "      <td>0.000000</td>\n",
              "    </tr>\n",
              "  </tbody>\n",
              "</table>\n",
              "</div><br><label><b>dtype:</b> float64</label>"
            ]
          },
          "metadata": {},
          "execution_count": 88
        }
      ]
    },
    {
      "cell_type": "code",
      "source": [
        "markdown_cols = ['MarkDown1', 'MarkDown2', 'MarkDown3', 'MarkDown4', 'MarkDown5']\n",
        "train_full[markdown_cols] = train_full[markdown_cols].fillna(0)\n",
        "test_full[markdown_cols] = test_full[markdown_cols].fillna(0)\n",
        "print(train_full)\n",
        "print(test_full)"
      ],
      "metadata": {
        "colab": {
          "base_uri": "https://localhost:8080/"
        },
        "id": "cLDo9ZEAr87G",
        "outputId": "aab3e0a0-35c4-4668-f63c-22ff07e936bb"
      },
      "execution_count": 89,
      "outputs": [
        {
          "output_type": "stream",
          "name": "stdout",
          "text": [
            "        Store  Dept        Date  Weekly_Sales  IsHoliday_x Type    Size  \\\n",
            "0           1     1  2010-02-05      24924.50        False    A  151315   \n",
            "1           1     1  2010-02-12      46039.49         True    A  151315   \n",
            "2           1     1  2010-02-19      41595.55        False    A  151315   \n",
            "3           1     1  2010-02-26      19403.54        False    A  151315   \n",
            "4           1     1  2010-03-05      21827.90        False    A  151315   \n",
            "...       ...   ...         ...           ...          ...  ...     ...   \n",
            "421565     45    98  2012-09-28        508.37        False    B  118221   \n",
            "421566     45    98  2012-10-05        628.10        False    B  118221   \n",
            "421567     45    98  2012-10-12       1061.02        False    B  118221   \n",
            "421568     45    98  2012-10-19        760.01        False    B  118221   \n",
            "421569     45    98  2012-10-26       1076.80        False    B  118221   \n",
            "\n",
            "        Temperature  Fuel_Price  MarkDown1  MarkDown2  MarkDown3  MarkDown4  \\\n",
            "0             42.31       2.572       0.00       0.00       0.00       0.00   \n",
            "1             38.51       2.548       0.00       0.00       0.00       0.00   \n",
            "2             39.93       2.514       0.00       0.00       0.00       0.00   \n",
            "3             46.63       2.561       0.00       0.00       0.00       0.00   \n",
            "4             46.50       2.625       0.00       0.00       0.00       0.00   \n",
            "...             ...         ...        ...        ...        ...        ...   \n",
            "421565        64.88       3.997    4556.61      20.64       1.50    1601.01   \n",
            "421566        64.89       3.985    5046.74       0.00      18.82    2253.43   \n",
            "421567        54.47       4.000    1956.28       0.00       7.89     599.32   \n",
            "421568        56.47       3.969    2004.02       0.00       3.18     437.73   \n",
            "421569        58.85       3.882    4018.91      58.08     100.00     211.94   \n",
            "\n",
            "        MarkDown5         CPI  Unemployment  IsHoliday_y  \n",
            "0            0.00  211.096358         8.106        False  \n",
            "1            0.00  211.242170         8.106         True  \n",
            "2            0.00  211.289143         8.106        False  \n",
            "3            0.00  211.319643         8.106        False  \n",
            "4            0.00  211.350143         8.106        False  \n",
            "...           ...         ...           ...          ...  \n",
            "421565    3288.25  192.013558         8.684        False  \n",
            "421566    2340.01  192.170412         8.667        False  \n",
            "421567    3990.54  192.327265         8.667        False  \n",
            "421568    1537.49  192.330854         8.667        False  \n",
            "421569     858.33  192.308899         8.667        False  \n",
            "\n",
            "[421570 rows x 17 columns]\n",
            "        Store  Dept        Date  IsHoliday_x Type    Size  Temperature  \\\n",
            "0           1     1  2012-11-02        False    A  151315        55.32   \n",
            "1           1     1  2012-11-09        False    A  151315        61.24   \n",
            "2           1     1  2012-11-16        False    A  151315        52.92   \n",
            "3           1     1  2012-11-23         True    A  151315        56.23   \n",
            "4           1     1  2012-11-30        False    A  151315        52.34   \n",
            "...       ...   ...         ...          ...  ...     ...          ...   \n",
            "115059     45    98  2013-06-28        False    B  118221        76.05   \n",
            "115060     45    98  2013-07-05        False    B  118221        77.50   \n",
            "115061     45    98  2013-07-12        False    B  118221        79.37   \n",
            "115062     45    98  2013-07-19        False    B  118221        82.84   \n",
            "115063     45    98  2013-07-26        False    B  118221        76.06   \n",
            "\n",
            "        Fuel_Price  MarkDown1  MarkDown2  MarkDown3  MarkDown4  MarkDown5  \\\n",
            "0            3.386    6766.44    5147.70      50.82    3639.90    2737.42   \n",
            "1            3.314   11421.32    3370.89      40.28    4646.79    6154.16   \n",
            "2            3.252    9696.28     292.10     103.78    1133.15    6612.69   \n",
            "3            3.211     883.59       4.17   74910.32     209.91     303.32   \n",
            "4            3.207    2460.03       0.00    3838.35     150.57    6966.34   \n",
            "...            ...        ...        ...        ...        ...        ...   \n",
            "115059       3.639    4842.29     975.03       3.00    2449.97    3169.69   \n",
            "115060       3.614    9090.48    2268.58     582.74    5797.47    1514.93   \n",
            "115061       3.614    3789.94    1827.31      85.72     744.84    2150.36   \n",
            "115062       3.737    2961.49    1047.07     204.19     363.00    1059.46   \n",
            "115063       3.804     212.02     851.73       2.06      10.88    1864.57   \n",
            "\n",
            "               CPI  Unemployment  IsHoliday_y  \n",
            "0       223.462779         6.573        False  \n",
            "1       223.481307         6.573        False  \n",
            "2       223.512911         6.573        False  \n",
            "3       223.561947         6.573         True  \n",
            "4       223.610984         6.573        False  \n",
            "...            ...           ...          ...  \n",
            "115059         NaN           NaN        False  \n",
            "115060         NaN           NaN        False  \n",
            "115061         NaN           NaN        False  \n",
            "115062         NaN           NaN        False  \n",
            "115063         NaN           NaN        False  \n",
            "\n",
            "[115064 rows x 16 columns]\n"
          ]
        }
      ]
    },
    {
      "cell_type": "code",
      "source": [
        "if train_full['IsHoliday_x'].equals(train_full['IsHoliday_y']):\n",
        "    train_full['IsHoliday'] = train_full['IsHoliday_x']\n",
        "\n",
        "train_full = train_full.drop(columns=['IsHoliday_y'], errors='ignore')\n",
        "train_full = train_full.drop(columns=['IsHoliday_x'], errors='ignore')\n",
        "\n",
        "if test_full['IsHoliday_x'].equals(test_full['IsHoliday_y']):\n",
        "    test_full['IsHoliday'] = test_full['IsHoliday_x']\n",
        "\n",
        "test_full = test_full.drop(columns=['IsHoliday_y'], errors='ignore')\n",
        "test_full = test_full.drop(columns=['IsHoliday_x'], errors='ignore')"
      ],
      "metadata": {
        "id": "MnJzZFU7sIYz"
      },
      "execution_count": 90,
      "outputs": []
    },
    {
      "cell_type": "code",
      "source": [
        "train_full['CPI'] = train_full['CPI'].fillna(train_full['CPI'].median())\n",
        "train_full['Unemployment'] = train_full['Unemployment'].fillna(train_full['Unemployment'].median())\n",
        "train_full['IsHoliday'] = train_full['IsHoliday'].astype(int)\n",
        "print(train_full)\n",
        "\n",
        "print(\"=\" * 100)\n",
        "\n",
        "test_full['CPI'] = test_full['CPI'].fillna(test_full['CPI'].median())\n",
        "test_full['Unemployment'] = test_full['Unemployment'].fillna(test_full['Unemployment'].median())\n",
        "test_full['IsHoliday'] = test_full['IsHoliday'].astype(int)\n",
        "print(test_full)"
      ],
      "metadata": {
        "colab": {
          "base_uri": "https://localhost:8080/"
        },
        "id": "aWqFZTju2N7P",
        "outputId": "dfe9fbb3-35a4-4dbc-e93c-084a75f9511b"
      },
      "execution_count": 91,
      "outputs": [
        {
          "output_type": "stream",
          "name": "stdout",
          "text": [
            "        Store  Dept        Date  Weekly_Sales Type    Size  Temperature  \\\n",
            "0           1     1  2010-02-05      24924.50    A  151315        42.31   \n",
            "1           1     1  2010-02-12      46039.49    A  151315        38.51   \n",
            "2           1     1  2010-02-19      41595.55    A  151315        39.93   \n",
            "3           1     1  2010-02-26      19403.54    A  151315        46.63   \n",
            "4           1     1  2010-03-05      21827.90    A  151315        46.50   \n",
            "...       ...   ...         ...           ...  ...     ...          ...   \n",
            "421565     45    98  2012-09-28        508.37    B  118221        64.88   \n",
            "421566     45    98  2012-10-05        628.10    B  118221        64.89   \n",
            "421567     45    98  2012-10-12       1061.02    B  118221        54.47   \n",
            "421568     45    98  2012-10-19        760.01    B  118221        56.47   \n",
            "421569     45    98  2012-10-26       1076.80    B  118221        58.85   \n",
            "\n",
            "        Fuel_Price  MarkDown1  MarkDown2  MarkDown3  MarkDown4  MarkDown5  \\\n",
            "0            2.572       0.00       0.00       0.00       0.00       0.00   \n",
            "1            2.548       0.00       0.00       0.00       0.00       0.00   \n",
            "2            2.514       0.00       0.00       0.00       0.00       0.00   \n",
            "3            2.561       0.00       0.00       0.00       0.00       0.00   \n",
            "4            2.625       0.00       0.00       0.00       0.00       0.00   \n",
            "...            ...        ...        ...        ...        ...        ...   \n",
            "421565       3.997    4556.61      20.64       1.50    1601.01    3288.25   \n",
            "421566       3.985    5046.74       0.00      18.82    2253.43    2340.01   \n",
            "421567       4.000    1956.28       0.00       7.89     599.32    3990.54   \n",
            "421568       3.969    2004.02       0.00       3.18     437.73    1537.49   \n",
            "421569       3.882    4018.91      58.08     100.00     211.94     858.33   \n",
            "\n",
            "               CPI  Unemployment  IsHoliday  \n",
            "0       211.096358         8.106          0  \n",
            "1       211.242170         8.106          1  \n",
            "2       211.289143         8.106          0  \n",
            "3       211.319643         8.106          0  \n",
            "4       211.350143         8.106          0  \n",
            "...            ...           ...        ...  \n",
            "421565  192.013558         8.684          0  \n",
            "421566  192.170412         8.667          0  \n",
            "421567  192.327265         8.667          0  \n",
            "421568  192.330854         8.667          0  \n",
            "421569  192.308899         8.667          0  \n",
            "\n",
            "[421570 rows x 16 columns]\n",
            "====================================================================================================\n",
            "        Store  Dept        Date Type    Size  Temperature  Fuel_Price  \\\n",
            "0           1     1  2012-11-02    A  151315        55.32       3.386   \n",
            "1           1     1  2012-11-09    A  151315        61.24       3.314   \n",
            "2           1     1  2012-11-16    A  151315        52.92       3.252   \n",
            "3           1     1  2012-11-23    A  151315        56.23       3.211   \n",
            "4           1     1  2012-11-30    A  151315        52.34       3.207   \n",
            "...       ...   ...         ...  ...     ...          ...         ...   \n",
            "115059     45    98  2013-06-28    B  118221        76.05       3.639   \n",
            "115060     45    98  2013-07-05    B  118221        77.50       3.614   \n",
            "115061     45    98  2013-07-12    B  118221        79.37       3.614   \n",
            "115062     45    98  2013-07-19    B  118221        82.84       3.737   \n",
            "115063     45    98  2013-07-26    B  118221        76.06       3.804   \n",
            "\n",
            "        MarkDown1  MarkDown2  MarkDown3  MarkDown4  MarkDown5         CPI  \\\n",
            "0         6766.44    5147.70      50.82    3639.90    2737.42  223.462779   \n",
            "1        11421.32    3370.89      40.28    4646.79    6154.16  223.481307   \n",
            "2         9696.28     292.10     103.78    1133.15    6612.69  223.512911   \n",
            "3          883.59       4.17   74910.32     209.91     303.32  223.561947   \n",
            "4         2460.03       0.00    3838.35     150.57    6966.34  223.610984   \n",
            "...           ...        ...        ...        ...        ...         ...   \n",
            "115059    4842.29     975.03       3.00    2449.97    3169.69  192.304445   \n",
            "115060    9090.48    2268.58     582.74    5797.47    1514.93  192.304445   \n",
            "115061    3789.94    1827.31      85.72     744.84    2150.36  192.304445   \n",
            "115062    2961.49    1047.07     204.19     363.00    1059.46  192.304445   \n",
            "115063     212.02     851.73       2.06      10.88    1864.57  192.304445   \n",
            "\n",
            "        Unemployment  IsHoliday  \n",
            "0              6.573          0  \n",
            "1              6.573          0  \n",
            "2              6.573          0  \n",
            "3              6.573          1  \n",
            "4              6.573          0  \n",
            "...              ...        ...  \n",
            "115059         6.806          0  \n",
            "115060         6.806          0  \n",
            "115061         6.806          0  \n",
            "115062         6.806          0  \n",
            "115063         6.806          0  \n",
            "\n",
            "[115064 rows x 15 columns]\n"
          ]
        }
      ]
    },
    {
      "cell_type": "code",
      "source": [
        "if 'Weekly_Sales' in train_full.columns:\n",
        "    train_full = train_full[train_full['Weekly_Sales'] >= 0]\n",
        "    Q1 = train_full['Weekly_Sales'].quantile(0.25)\n",
        "    Q3 = train_full['Weekly_Sales'].quantile(0.75)\n",
        "    IQR = Q3 - Q1\n",
        "    upper_bound = Q3 + 2.5 * IQR\n",
        "\n",
        "    train_full['Date'] = pd.to_datetime(train_full['Date'])\n",
        "    holiday_mask = (train_full['IsHoliday'] == 1) | (train_full['Date'].dt.month.isin([11, 12]))\n",
        "    outlier_mask = train_full['Weekly_Sales'] > upper_bound\n",
        "\n",
        "    outliers_to_cap = (~holiday_mask & outlier_mask).sum()\n",
        "    train_full.loc[~holiday_mask & outlier_mask, 'Weekly_Sales'] = upper_bound"
      ],
      "metadata": {
        "id": "RaIMIlFFsFSI"
      },
      "execution_count": 92,
      "outputs": []
    },
    {
      "cell_type": "code",
      "source": [
        "train_full['Type'] = train_full['Type'].astype('category')\n",
        "train_full['Type']"
      ],
      "metadata": {
        "colab": {
          "base_uri": "https://localhost:8080/",
          "height": 458
        },
        "id": "o13zpd11cDZ_",
        "outputId": "84473759-6e3b-491c-e9aa-7bc8b9cafd00"
      },
      "execution_count": 93,
      "outputs": [
        {
          "output_type": "execute_result",
          "data": {
            "text/plain": [
              "0         A\n",
              "1         A\n",
              "2         A\n",
              "3         A\n",
              "4         A\n",
              "         ..\n",
              "421565    B\n",
              "421566    B\n",
              "421567    B\n",
              "421568    B\n",
              "421569    B\n",
              "Name: Type, Length: 420285, dtype: category\n",
              "Categories (3, object): ['A', 'B', 'C']"
            ],
            "text/html": [
              "<div>\n",
              "<style scoped>\n",
              "    .dataframe tbody tr th:only-of-type {\n",
              "        vertical-align: middle;\n",
              "    }\n",
              "\n",
              "    .dataframe tbody tr th {\n",
              "        vertical-align: top;\n",
              "    }\n",
              "\n",
              "    .dataframe thead th {\n",
              "        text-align: right;\n",
              "    }\n",
              "</style>\n",
              "<table border=\"1\" class=\"dataframe\">\n",
              "  <thead>\n",
              "    <tr style=\"text-align: right;\">\n",
              "      <th></th>\n",
              "      <th>Type</th>\n",
              "    </tr>\n",
              "  </thead>\n",
              "  <tbody>\n",
              "    <tr>\n",
              "      <th>0</th>\n",
              "      <td>A</td>\n",
              "    </tr>\n",
              "    <tr>\n",
              "      <th>1</th>\n",
              "      <td>A</td>\n",
              "    </tr>\n",
              "    <tr>\n",
              "      <th>2</th>\n",
              "      <td>A</td>\n",
              "    </tr>\n",
              "    <tr>\n",
              "      <th>3</th>\n",
              "      <td>A</td>\n",
              "    </tr>\n",
              "    <tr>\n",
              "      <th>4</th>\n",
              "      <td>A</td>\n",
              "    </tr>\n",
              "    <tr>\n",
              "      <th>...</th>\n",
              "      <td>...</td>\n",
              "    </tr>\n",
              "    <tr>\n",
              "      <th>421565</th>\n",
              "      <td>B</td>\n",
              "    </tr>\n",
              "    <tr>\n",
              "      <th>421566</th>\n",
              "      <td>B</td>\n",
              "    </tr>\n",
              "    <tr>\n",
              "      <th>421567</th>\n",
              "      <td>B</td>\n",
              "    </tr>\n",
              "    <tr>\n",
              "      <th>421568</th>\n",
              "      <td>B</td>\n",
              "    </tr>\n",
              "    <tr>\n",
              "      <th>421569</th>\n",
              "      <td>B</td>\n",
              "    </tr>\n",
              "  </tbody>\n",
              "</table>\n",
              "<p>420285 rows × 1 columns</p>\n",
              "</div><br><label><b>dtype:</b> category</label>"
            ]
          },
          "metadata": {},
          "execution_count": 93
        }
      ]
    },
    {
      "cell_type": "code",
      "source": [
        "test_full['IsHoliday'] = test_full['IsHoliday'].astype(int)\n",
        "test_full['Type'] = test_full['Type'].astype('category')"
      ],
      "metadata": {
        "id": "4TyzZRYDpqp-"
      },
      "execution_count": 94,
      "outputs": []
    },
    {
      "cell_type": "code",
      "source": [
        "print(f\"Final training shape: {train_full.shape}\")\n",
        "print(f\"Final test shape: {test_full.shape}\")"
      ],
      "metadata": {
        "colab": {
          "base_uri": "https://localhost:8080/"
        },
        "id": "dlK9Zgnz6lP4",
        "outputId": "e0cbfc1a-a078-4239-fdc2-6c2c9381b7f7"
      },
      "execution_count": 95,
      "outputs": [
        {
          "output_type": "stream",
          "name": "stdout",
          "text": [
            "Final training shape: (420285, 16)\n",
            "Final test shape: (115064, 15)\n"
          ]
        }
      ]
    },
    {
      "cell_type": "code",
      "source": [
        "remaining_missing_train = train_full.isnull().sum()\n",
        "print(remaining_missing_train[remaining_missing_train > 0])\n",
        "remaining_missing_test = test_full.isnull().sum()\n",
        "print(remaining_missing_test[remaining_missing_test > 0])"
      ],
      "metadata": {
        "colab": {
          "base_uri": "https://localhost:8080/"
        },
        "id": "tusQKg--6pFn",
        "outputId": "b0701c71-c90f-450b-b394-1567b4ffb6c5"
      },
      "execution_count": 96,
      "outputs": [
        {
          "output_type": "stream",
          "name": "stdout",
          "text": [
            "Series([], dtype: int64)\n",
            "Series([], dtype: int64)\n"
          ]
        }
      ]
    },
    {
      "cell_type": "markdown",
      "source": [
        "**Feature Engineering**"
      ],
      "metadata": {
        "id": "CyqNB8DD8UD1"
      }
    },
    {
      "cell_type": "code",
      "source": [
        "train_full['Date'] = pd.to_datetime(train_full['Date'])\n",
        "test_full['Date'] = pd.to_datetime(test_full['Date'])"
      ],
      "metadata": {
        "id": "QzICNvX78Zy0"
      },
      "execution_count": 97,
      "outputs": []
    },
    {
      "cell_type": "code",
      "source": [
        "train_full['Year'] = train_full['Date'].dt.year\n",
        "train_full['Month'] = train_full['Date'].dt.month\n",
        "train_full['DayOfWeek'] = train_full['Date'].dt.dayofweek\n",
        "train_full['Quarter'] = train_full['Date'].dt.quarter\n",
        "train_full['WeekOfYear'] = train_full['Date'].dt.isocalendar().week\n",
        "train_full['IsMonthEnd'] = train_full['Date'].dt.is_month_end.astype(int)\n",
        "train_full['IsMonthStart'] = train_full['Date'].dt.is_month_start.astype(int)\n",
        "train_full['DayOfMonth'] = train_full['Date'].dt.day\n",
        "\n",
        "print(train_full)"
      ],
      "metadata": {
        "colab": {
          "base_uri": "https://localhost:8080/"
        },
        "id": "Q-tU2ScA8apj",
        "outputId": "fbf55cf9-db53-41d0-bdf2-fb0af4d88121"
      },
      "execution_count": 98,
      "outputs": [
        {
          "output_type": "stream",
          "name": "stdout",
          "text": [
            "        Store  Dept       Date  Weekly_Sales Type    Size  Temperature  \\\n",
            "0           1     1 2010-02-05      24924.50    A  151315        42.31   \n",
            "1           1     1 2010-02-12      46039.49    A  151315        38.51   \n",
            "2           1     1 2010-02-19      41595.55    A  151315        39.93   \n",
            "3           1     1 2010-02-26      19403.54    A  151315        46.63   \n",
            "4           1     1 2010-03-05      21827.90    A  151315        46.50   \n",
            "...       ...   ...        ...           ...  ...     ...          ...   \n",
            "421565     45    98 2012-09-28        508.37    B  118221        64.88   \n",
            "421566     45    98 2012-10-05        628.10    B  118221        64.89   \n",
            "421567     45    98 2012-10-12       1061.02    B  118221        54.47   \n",
            "421568     45    98 2012-10-19        760.01    B  118221        56.47   \n",
            "421569     45    98 2012-10-26       1076.80    B  118221        58.85   \n",
            "\n",
            "        Fuel_Price  MarkDown1  MarkDown2  ...  Unemployment  IsHoliday  Year  \\\n",
            "0            2.572       0.00       0.00  ...         8.106          0  2010   \n",
            "1            2.548       0.00       0.00  ...         8.106          1  2010   \n",
            "2            2.514       0.00       0.00  ...         8.106          0  2010   \n",
            "3            2.561       0.00       0.00  ...         8.106          0  2010   \n",
            "4            2.625       0.00       0.00  ...         8.106          0  2010   \n",
            "...            ...        ...        ...  ...           ...        ...   ...   \n",
            "421565       3.997    4556.61      20.64  ...         8.684          0  2012   \n",
            "421566       3.985    5046.74       0.00  ...         8.667          0  2012   \n",
            "421567       4.000    1956.28       0.00  ...         8.667          0  2012   \n",
            "421568       3.969    2004.02       0.00  ...         8.667          0  2012   \n",
            "421569       3.882    4018.91      58.08  ...         8.667          0  2012   \n",
            "\n",
            "        Month  DayOfWeek  Quarter  WeekOfYear  IsMonthEnd  IsMonthStart  \\\n",
            "0           2          4        1           5           0             0   \n",
            "1           2          4        1           6           0             0   \n",
            "2           2          4        1           7           0             0   \n",
            "3           2          4        1           8           0             0   \n",
            "4           3          4        1           9           0             0   \n",
            "...       ...        ...      ...         ...         ...           ...   \n",
            "421565      9          4        3          39           0             0   \n",
            "421566     10          4        4          40           0             0   \n",
            "421567     10          4        4          41           0             0   \n",
            "421568     10          4        4          42           0             0   \n",
            "421569     10          4        4          43           0             0   \n",
            "\n",
            "        DayOfMonth  \n",
            "0                5  \n",
            "1               12  \n",
            "2               19  \n",
            "3               26  \n",
            "4                5  \n",
            "...            ...  \n",
            "421565          28  \n",
            "421566           5  \n",
            "421567          12  \n",
            "421568          19  \n",
            "421569          26  \n",
            "\n",
            "[420285 rows x 24 columns]\n"
          ]
        }
      ]
    },
    {
      "cell_type": "code",
      "source": [
        "test_full['Year'] = test_full['Date'].dt.year\n",
        "test_full['Month'] = test_full['Date'].dt.month\n",
        "test_full['DayOfWeek'] = test_full['Date'].dt.dayofweek\n",
        "test_full['Quarter'] = test_full['Date'].dt.quarter\n",
        "test_full['WeekOfYear'] = test_full['Date'].dt.isocalendar().week\n",
        "test_full['IsMonthEnd'] = test_full['Date'].dt.is_month_end.astype(int)\n",
        "test_full['IsMonthStart'] = test_full['Date'].dt.is_month_start.astype(int)\n",
        "test_full['DayOfMonth'] = test_full['Date'].dt.day\n",
        "\n",
        "print(test_full)"
      ],
      "metadata": {
        "colab": {
          "base_uri": "https://localhost:8080/"
        },
        "id": "VSmifkLW843V",
        "outputId": "1480d1ca-5636-4230-e6b3-f2c2230a1c0c"
      },
      "execution_count": 99,
      "outputs": [
        {
          "output_type": "stream",
          "name": "stdout",
          "text": [
            "        Store  Dept       Date Type    Size  Temperature  Fuel_Price  \\\n",
            "0           1     1 2012-11-02    A  151315        55.32       3.386   \n",
            "1           1     1 2012-11-09    A  151315        61.24       3.314   \n",
            "2           1     1 2012-11-16    A  151315        52.92       3.252   \n",
            "3           1     1 2012-11-23    A  151315        56.23       3.211   \n",
            "4           1     1 2012-11-30    A  151315        52.34       3.207   \n",
            "...       ...   ...        ...  ...     ...          ...         ...   \n",
            "115059     45    98 2013-06-28    B  118221        76.05       3.639   \n",
            "115060     45    98 2013-07-05    B  118221        77.50       3.614   \n",
            "115061     45    98 2013-07-12    B  118221        79.37       3.614   \n",
            "115062     45    98 2013-07-19    B  118221        82.84       3.737   \n",
            "115063     45    98 2013-07-26    B  118221        76.06       3.804   \n",
            "\n",
            "        MarkDown1  MarkDown2  MarkDown3  ...  Unemployment  IsHoliday  Year  \\\n",
            "0         6766.44    5147.70      50.82  ...         6.573          0  2012   \n",
            "1        11421.32    3370.89      40.28  ...         6.573          0  2012   \n",
            "2         9696.28     292.10     103.78  ...         6.573          0  2012   \n",
            "3          883.59       4.17   74910.32  ...         6.573          1  2012   \n",
            "4         2460.03       0.00    3838.35  ...         6.573          0  2012   \n",
            "...           ...        ...        ...  ...           ...        ...   ...   \n",
            "115059    4842.29     975.03       3.00  ...         6.806          0  2013   \n",
            "115060    9090.48    2268.58     582.74  ...         6.806          0  2013   \n",
            "115061    3789.94    1827.31      85.72  ...         6.806          0  2013   \n",
            "115062    2961.49    1047.07     204.19  ...         6.806          0  2013   \n",
            "115063     212.02     851.73       2.06  ...         6.806          0  2013   \n",
            "\n",
            "        Month  DayOfWeek  Quarter  WeekOfYear  IsMonthEnd  IsMonthStart  \\\n",
            "0          11          4        4          44           0             0   \n",
            "1          11          4        4          45           0             0   \n",
            "2          11          4        4          46           0             0   \n",
            "3          11          4        4          47           0             0   \n",
            "4          11          4        4          48           1             0   \n",
            "...       ...        ...      ...         ...         ...           ...   \n",
            "115059      6          4        2          26           0             0   \n",
            "115060      7          4        3          27           0             0   \n",
            "115061      7          4        3          28           0             0   \n",
            "115062      7          4        3          29           0             0   \n",
            "115063      7          4        3          30           0             0   \n",
            "\n",
            "        DayOfMonth  \n",
            "0                2  \n",
            "1                9  \n",
            "2               16  \n",
            "3               23  \n",
            "4               30  \n",
            "...            ...  \n",
            "115059          28  \n",
            "115060           5  \n",
            "115061          12  \n",
            "115062          19  \n",
            "115063          26  \n",
            "\n",
            "[115064 rows x 23 columns]\n"
          ]
        }
      ]
    },
    {
      "cell_type": "code",
      "source": [
        "train_full['Season'] = train_full['Month'].map({\n",
        "    12: 'Winter', 1: 'Winter', 2: 'Winter',\n",
        "    3: 'Spring', 4: 'Spring', 5: 'Spring',\n",
        "    6: 'Summer', 7: 'Summer', 8: 'Summer',\n",
        "    9: 'Fall', 10: 'Fall', 11: 'Fall'\n",
        "})\n",
        "\n",
        "train_full['HolidaySeason'] = train_full['Month'].isin([10, 11, 12, 1]).astype(int)\n",
        "train_full['BackToSchool'] = train_full['Month'].isin([8, 9]).astype(int)"
      ],
      "metadata": {
        "id": "kSlGZD8j87Si"
      },
      "execution_count": 100,
      "outputs": []
    },
    {
      "cell_type": "code",
      "source": [
        "test_full['Season'] = test_full['Month'].map({\n",
        "    12: 'Winter', 1: 'Winter', 2: 'Winter',\n",
        "    3: 'Spring', 4: 'Spring', 5: 'Spring',\n",
        "    6: 'Summer', 7: 'Summer', 8: 'Summer',\n",
        "    9: 'Fall', 10: 'Fall', 11: 'Fall'\n",
        "})\n",
        "\n",
        "test_full['HolidaySeason'] = test_full['Month'].isin([10, 11, 12, 1]).astype(int)\n",
        "test_full['BackToSchool'] = test_full['Month'].isin([8, 9]).astype(int)"
      ],
      "metadata": {
        "id": "1KKqGAVbAQCS"
      },
      "execution_count": 101,
      "outputs": []
    },
    {
      "cell_type": "code",
      "source": [
        "store_stats = train_full.groupby('Store')['Weekly_Sales'].agg(['mean', 'std', 'median']).reset_index()\n",
        "store_stats.columns = ['Store', 'Store_Sales_Mean', 'Store_Sales_Std', 'Store_Sales_Median']\n",
        "train_full = train_full.merge(store_stats, on='Store', how='left')\n",
        "test_full = test_full.merge(store_stats, on='Store', how='left')"
      ],
      "metadata": {
        "id": "nGZuv22wASQl"
      },
      "execution_count": 102,
      "outputs": []
    },
    {
      "cell_type": "code",
      "source": [
        "dept_stats = train_full.groupby('Dept')['Weekly_Sales'].agg(['mean', 'std', 'median']).reset_index()\n",
        "dept_stats.columns = ['Dept', 'Dept_Sales_Mean', 'Dept_Sales_Std', 'Dept_Sales_Median']\n",
        "train_full = train_full.merge(dept_stats, on='Dept', how='left')\n",
        "test_full = test_full.merge(dept_stats, on='Dept', how='left')"
      ],
      "metadata": {
        "id": "ngOGIvhICyjK"
      },
      "execution_count": 103,
      "outputs": []
    },
    {
      "cell_type": "code",
      "source": [
        "train_full['Type_Size_Interaction'] = train_full['Type'].astype(str) + '_' + pd.cut(\n",
        "    train_full['Size'], bins=3, labels=['Small', 'Medium', 'Large']).astype(str)\n",
        "\n",
        "train_full['Holiday_Type_Interaction'] = train_full['IsHoliday'].astype(str) + '_' + train_full['Type'].astype(str)\n",
        "train_full['Temp_Category'] = pd.cut(train_full['Temperature'], bins=4, labels=['Cold', 'Cool', 'Warm', 'Hot'])"
      ],
      "metadata": {
        "id": "Ok1wH4vsC9w8"
      },
      "execution_count": 104,
      "outputs": []
    },
    {
      "cell_type": "code",
      "source": [
        "test_full['Type_Size_Interaction'] = test_full['Type'].astype(str) + '_' + pd.cut(\n",
        "    test_full['Size'], bins=3, labels=['Small', 'Medium', 'Large']).astype(str)\n",
        "\n",
        "test_full['Holiday_Type_Interaction'] = test_full['IsHoliday'].astype(str) + '_' + test_full['Type'].astype(str)\n",
        "\n",
        "test_full['Temp_Category'] = pd.cut(test_full['Temperature'], bins=4, labels=['Cold', 'Cool', 'Warm', 'Hot'])"
      ],
      "metadata": {
        "id": "pGV9XdRkDCSA"
      },
      "execution_count": 105,
      "outputs": []
    },
    {
      "cell_type": "code",
      "source": [
        "train_full = train_full.sort_values(['Store', 'Dept', 'Date'])\n",
        "test_full = test_full.sort_values(['Store', 'Dept', 'Date'])\n",
        "\n",
        "train_full['Weekly_Sales_Lag1'] = train_full.groupby(['Store', 'Dept'])['Weekly_Sales'].shift(1)\n",
        "train_full['Weekly_Sales_Lag4'] = train_full.groupby(['Store', 'Dept'])['Weekly_Sales'].shift(4)\n",
        "train_full['Weekly_Sales_Lag52'] = train_full.groupby(['Store', 'Dept'])['Weekly_Sales'].shift(52)\n",
        "train_full['Weekly_Sales_Roll4_Mean'] = train_full.groupby(['Store', 'Dept'])['Weekly_Sales'].transform(lambda x: x.rolling(4, min_periods=1).mean())\n",
        "train_full['Weekly_Sales_Roll12_Mean'] = train_full.groupby(['Store', 'Dept'])['Weekly_Sales'].transform(lambda x: x.rolling(12, min_periods=1).mean())\n",
        "new_cols = [col for col in train_full.columns if col not in ['Store', 'Dept', 'Date', 'Weekly_Sales', 'Type', 'Size', 'Temperature', 'Fuel_Price', 'CPI', 'Unemployment', 'IsHoliday']]"
      ],
      "metadata": {
        "id": "1mAEClTPC-Af"
      },
      "execution_count": 106,
      "outputs": []
    },
    {
      "cell_type": "code",
      "source": [
        "print(train_full)"
      ],
      "metadata": {
        "colab": {
          "base_uri": "https://localhost:8080/"
        },
        "id": "Tv5S3MTLDTWC",
        "outputId": "61386a6f-5c8c-4e57-8d27-d6006355212a"
      },
      "execution_count": 107,
      "outputs": [
        {
          "output_type": "stream",
          "name": "stdout",
          "text": [
            "        Store  Dept       Date  Weekly_Sales Type    Size  Temperature  \\\n",
            "0           1     1 2010-02-05      24924.50    A  151315        42.31   \n",
            "1           1     1 2010-02-12      46039.49    A  151315        38.51   \n",
            "2           1     1 2010-02-19      41595.55    A  151315        39.93   \n",
            "3           1     1 2010-02-26      19403.54    A  151315        46.63   \n",
            "4           1     1 2010-03-05      21827.90    A  151315        46.50   \n",
            "...       ...   ...        ...           ...  ...     ...          ...   \n",
            "420280     45    98 2012-09-28        508.37    B  118221        64.88   \n",
            "420281     45    98 2012-10-05        628.10    B  118221        64.89   \n",
            "420282     45    98 2012-10-12       1061.02    B  118221        54.47   \n",
            "420283     45    98 2012-10-19        760.01    B  118221        56.47   \n",
            "420284     45    98 2012-10-26       1076.80    B  118221        58.85   \n",
            "\n",
            "        Fuel_Price  MarkDown1  MarkDown2  ...  Dept_Sales_Std  \\\n",
            "0            2.572       0.00       0.00  ...    13703.945226   \n",
            "1            2.548       0.00       0.00  ...    13703.945226   \n",
            "2            2.514       0.00       0.00  ...    13703.945226   \n",
            "3            2.561       0.00       0.00  ...    13703.945226   \n",
            "4            2.625       0.00       0.00  ...    13703.945226   \n",
            "...            ...        ...        ...  ...             ...   \n",
            "420280       3.997    4556.61      20.64  ...     5629.824098   \n",
            "420281       3.985    5046.74       0.00  ...     5629.824098   \n",
            "420282       4.000    1956.28       0.00  ...     5629.824098   \n",
            "420283       3.969    2004.02       0.00  ...     5629.824098   \n",
            "420284       3.882    4018.91      58.08  ...     5629.824098   \n",
            "\n",
            "        Dept_Sales_Median  Type_Size_Interaction  Holiday_Type_Interaction  \\\n",
            "0                15314.91               A_Medium                       0_A   \n",
            "1                15314.91               A_Medium                       1_A   \n",
            "2                15314.91               A_Medium                       0_A   \n",
            "3                15314.91               A_Medium                       0_A   \n",
            "4                15314.91               A_Medium                       0_A   \n",
            "...                   ...                    ...                       ...   \n",
            "420280            7268.31               B_Medium                       0_B   \n",
            "420281            7268.31               B_Medium                       0_B   \n",
            "420282            7268.31               B_Medium                       0_B   \n",
            "420283            7268.31               B_Medium                       0_B   \n",
            "420284            7268.31               B_Medium                       0_B   \n",
            "\n",
            "        Temp_Category  Weekly_Sales_Lag1  Weekly_Sales_Lag4  \\\n",
            "0                Cool                NaN                NaN   \n",
            "1                Cool           24924.50                NaN   \n",
            "2                Cool           46039.49                NaN   \n",
            "3                Cool           41595.55                NaN   \n",
            "4                Cool           19403.54           24924.50   \n",
            "...               ...                ...                ...   \n",
            "420280           Warm             467.30             346.04   \n",
            "420281           Warm             508.37             352.44   \n",
            "420282           Warm             628.10             605.96   \n",
            "420283           Warm            1061.02             467.30   \n",
            "420284           Warm             760.01             508.37   \n",
            "\n",
            "        Weekly_Sales_Lag52  Weekly_Sales_Roll4_Mean  Weekly_Sales_Roll12_Mean  \n",
            "0                      NaN             24924.500000              24924.500000  \n",
            "1                      NaN             35481.995000              35481.995000  \n",
            "2                      NaN             37519.846667              37519.846667  \n",
            "3                      NaN             32990.770000              32990.770000  \n",
            "4                      NaN             32216.620000              30758.196000  \n",
            "...                    ...                      ...                       ...  \n",
            "420280              727.05               483.517500                553.146667  \n",
            "420281              894.98               552.432500                547.554167  \n",
            "420282              996.40               666.197500                565.530833  \n",
            "420283             1058.84               739.375000                574.062500  \n",
            "420284             1167.90               881.482500                620.757500  \n",
            "\n",
            "[420285 rows x 41 columns]\n"
          ]
        }
      ]
    },
    {
      "cell_type": "code",
      "source": [
        "print(test_full)"
      ],
      "metadata": {
        "colab": {
          "base_uri": "https://localhost:8080/"
        },
        "id": "km-FoXGADY4Z",
        "outputId": "d285d9ed-4369-4761-d1d4-054c74621742"
      },
      "execution_count": 108,
      "outputs": [
        {
          "output_type": "stream",
          "name": "stdout",
          "text": [
            "        Store  Dept       Date Type    Size  Temperature  Fuel_Price  \\\n",
            "0           1     1 2012-11-02    A  151315        55.32       3.386   \n",
            "1           1     1 2012-11-09    A  151315        61.24       3.314   \n",
            "2           1     1 2012-11-16    A  151315        52.92       3.252   \n",
            "3           1     1 2012-11-23    A  151315        56.23       3.211   \n",
            "4           1     1 2012-11-30    A  151315        52.34       3.207   \n",
            "...       ...   ...        ...  ...     ...          ...         ...   \n",
            "115059     45    98 2013-06-28    B  118221        76.05       3.639   \n",
            "115060     45    98 2013-07-05    B  118221        77.50       3.614   \n",
            "115061     45    98 2013-07-12    B  118221        79.37       3.614   \n",
            "115062     45    98 2013-07-19    B  118221        82.84       3.737   \n",
            "115063     45    98 2013-07-26    B  118221        76.06       3.804   \n",
            "\n",
            "        MarkDown1  MarkDown2  MarkDown3  ...  BackToSchool  Store_Sales_Mean  \\\n",
            "0         6766.44    5147.70      50.82  ...             0      19833.820652   \n",
            "1        11421.32    3370.89      40.28  ...             0      19833.820652   \n",
            "2         9696.28     292.10     103.78  ...             0      19833.820652   \n",
            "3          883.59       4.17   74910.32  ...             0      19833.820652   \n",
            "4         2460.03       0.00    3838.35  ...             0      19833.820652   \n",
            "...           ...        ...        ...  ...           ...               ...   \n",
            "115059    4842.29     975.03       3.00  ...             0      11689.711747   \n",
            "115060    9090.48    2268.58     582.74  ...             0      11689.711747   \n",
            "115061    3789.94    1827.31      85.72  ...             0      11689.711747   \n",
            "115062    2961.49    1047.07     204.19  ...             0      11689.711747   \n",
            "115063     212.02     851.73       2.06  ...             0      11689.711747   \n",
            "\n",
            "        Store_Sales_Std  Store_Sales_Median  Dept_Sales_Mean  Dept_Sales_Std  \\\n",
            "0          22333.879707            10315.10     18935.972712    13703.945226   \n",
            "1          22333.879707            10315.10     18935.972712    13703.945226   \n",
            "2          22333.879707            10315.10     18935.972712    13703.945226   \n",
            "3          22333.879707            10315.10     18935.972712    13703.945226   \n",
            "4          22333.879707            10315.10     18935.972712    13703.945226   \n",
            "...                 ...                 ...              ...             ...   \n",
            "115059     14070.740594             6058.49      6856.441518     5629.824098   \n",
            "115060     14070.740594             6058.49      6856.441518     5629.824098   \n",
            "115061     14070.740594             6058.49      6856.441518     5629.824098   \n",
            "115062     14070.740594             6058.49      6856.441518     5629.824098   \n",
            "115063     14070.740594             6058.49      6856.441518     5629.824098   \n",
            "\n",
            "        Dept_Sales_Median  Type_Size_Interaction  Holiday_Type_Interaction  \\\n",
            "0                15314.91               A_Medium                       0_A   \n",
            "1                15314.91               A_Medium                       0_A   \n",
            "2                15314.91               A_Medium                       0_A   \n",
            "3                15314.91               A_Medium                       1_A   \n",
            "4                15314.91               A_Medium                       0_A   \n",
            "...                   ...                    ...                       ...   \n",
            "115059            7268.31               B_Medium                       0_B   \n",
            "115060            7268.31               B_Medium                       0_B   \n",
            "115061            7268.31               B_Medium                       0_B   \n",
            "115062            7268.31               B_Medium                       0_B   \n",
            "115063            7268.31               B_Medium                       0_B   \n",
            "\n",
            "        Temp_Category  \n",
            "0                Warm  \n",
            "1                Warm  \n",
            "2                Warm  \n",
            "3                Warm  \n",
            "4                Warm  \n",
            "...               ...  \n",
            "115059            Hot  \n",
            "115060            Hot  \n",
            "115061            Hot  \n",
            "115062            Hot  \n",
            "115063            Hot  \n",
            "\n",
            "[115064 rows x 35 columns]\n"
          ]
        }
      ]
    },
    {
      "cell_type": "markdown",
      "source": [
        "**Data Analysis**"
      ],
      "metadata": {
        "id": "wz0wcn2NEqem"
      }
    },
    {
      "cell_type": "code",
      "source": [
        "plt.style.use('default')\n",
        "sns.set_palette(\"husl\")"
      ],
      "metadata": {
        "id": "_GzI2aaAEtzH"
      },
      "execution_count": 109,
      "outputs": []
    },
    {
      "cell_type": "code",
      "source": [
        "plt.figure(figsize=(10, 5))\n",
        "plt.hist(train_full['Weekly_Sales'], bins=50, alpha=0.7, edgecolor='black')\n",
        "plt.title('Distribution of Weekly Sales')\n",
        "plt.xlabel('Weekly Sales')\n",
        "plt.ylabel('Frequency')"
      ],
      "metadata": {
        "colab": {
          "base_uri": "https://localhost:8080/",
          "height": 504
        },
        "id": "0fFqTxDYEvrc",
        "outputId": "2b50e497-356b-4c1e-a22c-e75e806a2156"
      },
      "execution_count": 110,
      "outputs": [
        {
          "output_type": "execute_result",
          "data": {
            "text/plain": [
              "Text(0, 0.5, 'Frequency')"
            ]
          },
          "metadata": {},
          "execution_count": 110
        },
        {
          "output_type": "display_data",
          "data": {
            "text/plain": [
              "<Figure size 1000x500 with 1 Axes>"
            ],
            "image/png": "[encoded data removed]"
          },
          "metadata": {}
        }
      ]
    },
    {
      "cell_type": "code",
      "source": [
        "plt.figure(figsize=(10, 5))\n",
        "train_full.boxplot(column='Weekly_Sales', by='Type', ax=plt.gca())\n",
        "plt.title('Weekly Sales by Store Type')\n",
        "plt.suptitle('')"
      ],
      "metadata": {
        "colab": {
          "base_uri": "https://localhost:8080/",
          "height": 494
        },
        "id": "PLsG4LMmExax",
        "outputId": "ae407a49-afaf-498d-9a7b-80c09811dbd4"
      },
      "execution_count": 111,
      "outputs": [
        {
          "output_type": "execute_result",
          "data": {
            "text/plain": [
              "Text(0.5, 0.98, '')"
            ]
          },
          "metadata": {},
          "execution_count": 111
        },
        {
          "output_type": "display_data",
          "data": {
            "text/plain": [
              "<Figure size 1000x500 with 1 Axes>"
            ],
            "image/png": "[encoded data removed]"
          },
          "metadata": {}
        }
      ]
    },
    {
      "cell_type": "code",
      "source": [
        "plt.figure(figsize=(10, 5))\n",
        "monthly_sales = train_full.groupby('Month')['Weekly_Sales'].mean()\n",
        "monthly_sales.plot(kind='bar')\n",
        "plt.title('Average Weekly Sales by Month')\n",
        "plt.xlabel('Month')\n",
        "plt.ylabel('Average Weekly Sales')\n",
        "plt.xticks(rotation=0)"
      ],
      "metadata": {
        "colab": {
          "base_uri": "https://localhost:8080/",
          "height": 713
        },
        "id": "2VoFtpE2EzFZ",
        "outputId": "418f0615-50e2-49bd-f014-5de97ab18fd9"
      },
      "execution_count": 112,
      "outputs": [
        {
          "output_type": "execute_result",
          "data": {
            "text/plain": [
              "(array([ 0,  1,  2,  3,  4,  5,  6,  7,  8,  9, 10, 11]),\n",
              " [Text(0, 0, '1'),\n",
              "  Text(1, 0, '2'),\n",
              "  Text(2, 0, '3'),\n",
              "  Text(3, 0, '4'),\n",
              "  Text(4, 0, '5'),\n",
              "  Text(5, 0, '6'),\n",
              "  Text(6, 0, '7'),\n",
              "  Text(7, 0, '8'),\n",
              "  Text(8, 0, '9'),\n",
              "  Text(9, 0, '10'),\n",
              "  Text(10, 0, '11'),\n",
              "  Text(11, 0, '12')])"
            ]
          },
          "metadata": {},
          "execution_count": 112
        },
        {
          "output_type": "display_data",
          "data": {
            "text/plain": [
              "<Figure size 1000x500 with 1 Axes>"
            ],
            "image/png": "[encoded data removed]"
          },
          "metadata": {}
        }
      ]
    },
    {
      "cell_type": "code",
      "source": [
        "plt.figure(figsize=(10, 5))\n",
        "holiday_sales = train_full.groupby('IsHoliday')['Weekly_Sales'].mean()\n",
        "holiday_sales.plot(kind='bar')\n",
        "plt.title('Average Weekly Sales: Holiday vs Non-Holiday')\n",
        "plt.xlabel('0=No, 1=Yes')\n",
        "plt.ylabel('Average Weekly Sales')\n",
        "plt.xticks(rotation=0)"
      ],
      "metadata": {
        "colab": {
          "base_uri": "https://localhost:8080/",
          "height": 504
        },
        "id": "ytXKHOkyE3ON",
        "outputId": "8ff153f4-9a42-4f6f-da55-ea110cae5da4"
      },
      "execution_count": 113,
      "outputs": [
        {
          "output_type": "execute_result",
          "data": {
            "text/plain": [
              "(array([0, 1]), [Text(0, 0, '0'), Text(1, 0, '1')])"
            ]
          },
          "metadata": {},
          "execution_count": 113
        },
        {
          "output_type": "display_data",
          "data": {
            "text/plain": [
              "<Figure size 1000x500 with 1 Axes>"
            ],
            "image/png": "[encoded data removed]"
          },
          "metadata": {}
        }
      ]
    },
    {
      "cell_type": "code",
      "source": [
        "plt.figure(figsize=(10, 5))\n",
        "train_full.groupby('DayOfWeek')['Weekly_Sales'].mean().plot(kind='bar')\n",
        "plt.title('Average Weekly Sales by Day of Week')\n",
        "plt.xlabel('Day of Week (0=Monday)')\n",
        "plt.ylabel('Average Weekly Sales')\n",
        "plt.xticks(rotation=0)"
      ],
      "metadata": {
        "colab": {
          "base_uri": "https://localhost:8080/",
          "height": 504
        },
        "id": "rn1l5hg2E4vT",
        "outputId": "c993dc0f-1df6-49d8-e523-ed168bf8b69c"
      },
      "execution_count": 114,
      "outputs": [
        {
          "output_type": "execute_result",
          "data": {
            "text/plain": [
              "(array([0]), [Text(0, 0, '4')])"
            ]
          },
          "metadata": {},
          "execution_count": 114
        },
        {
          "output_type": "display_data",
          "data": {
            "text/plain": [
              "<Figure size 1000x500 with 1 Axes>"
            ],
            "image/png": "[encoded data removed]"
          },
          "metadata": {}
        }
      ]
    },
    {
      "cell_type": "code",
      "source": [
        "plt.figure(figsize=(10, 5))\n",
        "seasonal_sales = train_full.groupby('Season')['Weekly_Sales'].mean()\n",
        "seasonal_sales.plot(kind='bar')\n",
        "plt.title('Average Weekly Sales by Season')\n",
        "plt.xlabel('Season')\n",
        "plt.ylabel('Average Weekly Sales')\n",
        "plt.xticks(rotation=45)\n"
      ],
      "metadata": {
        "colab": {
          "base_uri": "https://localhost:8080/",
          "height": 612
        },
        "id": "q94R2YohE6cY",
        "outputId": "ac70381e-a872-4046-cbd5-d624ea7a36c7"
      },
      "execution_count": 115,
      "outputs": [
        {
          "output_type": "execute_result",
          "data": {
            "text/plain": [
              "(array([0, 1, 2, 3]),\n",
              " [Text(0, 0, 'Fall'),\n",
              "  Text(1, 0, 'Spring'),\n",
              "  Text(2, 0, 'Summer'),\n",
              "  Text(3, 0, 'Winter')])"
            ]
          },
          "metadata": {},
          "execution_count": 115
        },
        {
          "output_type": "display_data",
          "data": {
            "text/plain": [
              "<Figure size 1000x500 with 1 Axes>"
            ],
            "image/png": "[encoded data removed]"
          },
          "metadata": {}
        }
      ]
    },
    {
      "cell_type": "markdown",
      "source": [
        "**Feature Selection**"
      ],
      "metadata": {
        "id": "zKgbVxm7Glzz"
      }
    },
    {
      "cell_type": "code",
      "source": [
        "features_to_drop = [\n",
        "    'Date',\n",
        "    'Weekly_Sales',\n",
        "    'Weekly_Sales_Lag1', 'Weekly_Sales_Lag4', 'Weekly_Sales_Lag52',\n",
        "    'Weekly_Sales_Roll4_Mean', 'Weekly_Sales_Roll12_Mean'\n",
        "]"
      ],
      "metadata": {
        "id": "GL4uDxvmGoo4"
      },
      "execution_count": 116,
      "outputs": []
    },
    {
      "cell_type": "code",
      "source": [
        "feature_cols = [col for col in train_full.columns if col not in features_to_drop]\n",
        "print(feature_cols)"
      ],
      "metadata": {
        "colab": {
          "base_uri": "https://localhost:8080/"
        },
        "id": "4OHAfzjCG-Fl",
        "outputId": "4a8cf2e0-cbf0-4d04-f42c-9fd8d62e4b72"
      },
      "execution_count": 117,
      "outputs": [
        {
          "output_type": "stream",
          "name": "stdout",
          "text": [
            "['Store', 'Dept', 'Type', 'Size', 'Temperature', 'Fuel_Price', 'MarkDown1', 'MarkDown2', 'MarkDown3', 'MarkDown4', 'MarkDown5', 'CPI', 'Unemployment', 'IsHoliday', 'Year', 'Month', 'DayOfWeek', 'Quarter', 'WeekOfYear', 'IsMonthEnd', 'IsMonthStart', 'DayOfMonth', 'Season', 'HolidaySeason', 'BackToSchool', 'Store_Sales_Mean', 'Store_Sales_Std', 'Store_Sales_Median', 'Dept_Sales_Mean', 'Dept_Sales_Std', 'Dept_Sales_Median', 'Type_Size_Interaction', 'Holiday_Type_Interaction', 'Temp_Category']\n"
          ]
        }
      ]
    },
    {
      "cell_type": "code",
      "source": [
        "X = train_full[feature_cols].copy()\n",
        "y = train_full['Weekly_Sales'].copy()\n",
        "X_test = test_full[feature_cols].copy()\n",
        "\n",
        "print(X.shape)\n",
        "print(y.shape)\n",
        "print(X_test.shape)"
      ],
      "metadata": {
        "colab": {
          "base_uri": "https://localhost:8080/"
        },
        "id": "9nQFvpQhHHIJ",
        "outputId": "060a37e1-63d0-4445-d797-2a1e5f33ffc9"
      },
      "execution_count": 118,
      "outputs": [
        {
          "output_type": "stream",
          "name": "stdout",
          "text": [
            "(420285, 34)\n",
            "(420285,)\n",
            "(115064, 34)\n"
          ]
        }
      ]
    },
    {
      "cell_type": "code",
      "source": [
        "from sklearn.preprocessing import LabelEncoder, StandardScaler\n",
        "from sklearn.metrics import mean_absolute_error, mean_squared_error, r2_score, mean_absolute_percentage_error\n",
        "categorical_features = ['Type', 'Season', 'Type_Size_Interaction', 'Holiday_Type_Interaction', 'Temp_Category']\n",
        "label_encoders = {}\n",
        "\n",
        "for col in categorical_features:\n",
        "    if col in X.columns:\n",
        "        le = LabelEncoder()\n",
        "        combined_values = pd.concat([X[col].astype(str), X_test[col].astype(str)], ignore_index=True)\n",
        "        le.fit(combined_values)\n",
        "\n",
        "        X[col] = le.transform(X[col].astype(str))\n",
        "        X_test[col] = le.transform(X_test[col].astype(str))\n",
        "        label_encoders[col] = le\n",
        "\n",
        "print(X)"
      ],
      "metadata": {
        "colab": {
          "base_uri": "https://localhost:8080/"
        },
        "id": "QnepPcK9IghA",
        "outputId": "4120da58-dae4-4cc5-c5ad-28d44db3c2bd"
      },
      "execution_count": 120,
      "outputs": [
        {
          "output_type": "stream",
          "name": "stdout",
          "text": [
            "        Store  Dept  Type    Size  Temperature  Fuel_Price  MarkDown1  \\\n",
            "0           1     1     0  151315        42.31       2.572       0.00   \n",
            "1           1     1     0  151315        38.51       2.548       0.00   \n",
            "2           1     1     0  151315        39.93       2.514       0.00   \n",
            "3           1     1     0  151315        46.63       2.561       0.00   \n",
            "4           1     1     0  151315        46.50       2.625       0.00   \n",
            "...       ...   ...   ...     ...          ...         ...        ...   \n",
            "420280     45    98     1  118221        64.88       3.997    4556.61   \n",
            "420281     45    98     1  118221        64.89       3.985    5046.74   \n",
            "420282     45    98     1  118221        54.47       4.000    1956.28   \n",
            "420283     45    98     1  118221        56.47       3.969    2004.02   \n",
            "420284     45    98     1  118221        58.85       3.882    4018.91   \n",
            "\n",
            "        MarkDown2  MarkDown3  MarkDown4  ...  BackToSchool  Store_Sales_Mean  \\\n",
            "0            0.00       0.00       0.00  ...             0      19833.820652   \n",
            "1            0.00       0.00       0.00  ...             0      19833.820652   \n",
            "2            0.00       0.00       0.00  ...             0      19833.820652   \n",
            "3            0.00       0.00       0.00  ...             0      19833.820652   \n",
            "4            0.00       0.00       0.00  ...             0      19833.820652   \n",
            "...           ...        ...        ...  ...           ...               ...   \n",
            "420280      20.64       1.50    1601.01  ...             1      11689.711747   \n",
            "420281       0.00      18.82    2253.43  ...             0      11689.711747   \n",
            "420282       0.00       7.89     599.32  ...             0      11689.711747   \n",
            "420283       0.00       3.18     437.73  ...             0      11689.711747   \n",
            "420284      58.08     100.00     211.94  ...             0      11689.711747   \n",
            "\n",
            "        Store_Sales_Std  Store_Sales_Median  Dept_Sales_Mean  Dept_Sales_Std  \\\n",
            "0          22333.879707            10315.10     18935.972712    13703.945226   \n",
            "1          22333.879707            10315.10     18935.972712    13703.945226   \n",
            "2          22333.879707            10315.10     18935.972712    13703.945226   \n",
            "3          22333.879707            10315.10     18935.972712    13703.945226   \n",
            "4          22333.879707            10315.10     18935.972712    13703.945226   \n",
            "...                 ...                 ...              ...             ...   \n",
            "420280     14070.740594             6058.49      6856.441518     5629.824098   \n",
            "420281     14070.740594             6058.49      6856.441518     5629.824098   \n",
            "420282     14070.740594             6058.49      6856.441518     5629.824098   \n",
            "420283     14070.740594             6058.49      6856.441518     5629.824098   \n",
            "420284     14070.740594             6058.49      6856.441518     5629.824098   \n",
            "\n",
            "        Dept_Sales_Median  Type_Size_Interaction  Holiday_Type_Interaction  \\\n",
            "0                15314.91                      1                         0   \n",
            "1                15314.91                      1                         3   \n",
            "2                15314.91                      1                         0   \n",
            "3                15314.91                      1                         0   \n",
            "4                15314.91                      1                         0   \n",
            "...                   ...                    ...                       ...   \n",
            "420280            7268.31                      3                         1   \n",
            "420281            7268.31                      3                         1   \n",
            "420282            7268.31                      3                         1   \n",
            "420283            7268.31                      3                         1   \n",
            "420284            7268.31                      3                         1   \n",
            "\n",
            "        Temp_Category  \n",
            "0                   1  \n",
            "1                   1  \n",
            "2                   1  \n",
            "3                   1  \n",
            "4                   1  \n",
            "...               ...  \n",
            "420280              3  \n",
            "420281              3  \n",
            "420282              3  \n",
            "420283              3  \n",
            "420284              3  \n",
            "\n",
            "[420285 rows x 34 columns]\n"
          ]
        }
      ]
    },
    {
      "cell_type": "code",
      "source": [
        "X = X.fillna(0)\n",
        "X_test = X_test.fillna(0)\n",
        "\n",
        "print(X)\n",
        "print(\"==\" *100)\n",
        "print(X_test)"
      ],
      "metadata": {
        "colab": {
          "base_uri": "https://localhost:8080/"
        },
        "id": "yhOWGCFCIqyM",
        "outputId": "b2ebe6d0-4d38-4ac4-a0b0-32d51e05af1a"
      },
      "execution_count": 121,
      "outputs": [
        {
          "output_type": "stream",
          "name": "stdout",
          "text": [
            "        Store  Dept  Type    Size  Temperature  Fuel_Price  MarkDown1  \\\n",
            "0           1     1     0  151315        42.31       2.572       0.00   \n",
            "1           1     1     0  151315        38.51       2.548       0.00   \n",
            "2           1     1     0  151315        39.93       2.514       0.00   \n",
            "3           1     1     0  151315        46.63       2.561       0.00   \n",
            "4           1     1     0  151315        46.50       2.625       0.00   \n",
            "...       ...   ...   ...     ...          ...         ...        ...   \n",
            "420280     45    98     1  118221        64.88       3.997    4556.61   \n",
            "420281     45    98     1  118221        64.89       3.985    5046.74   \n",
            "420282     45    98     1  118221        54.47       4.000    1956.28   \n",
            "420283     45    98     1  118221        56.47       3.969    2004.02   \n",
            "420284     45    98     1  118221        58.85       3.882    4018.91   \n",
            "\n",
            "        MarkDown2  MarkDown3  MarkDown4  ...  BackToSchool  Store_Sales_Mean  \\\n",
            "0            0.00       0.00       0.00  ...             0      19833.820652   \n",
            "1            0.00       0.00       0.00  ...             0      19833.820652   \n",
            "2            0.00       0.00       0.00  ...             0      19833.820652   \n",
            "3            0.00       0.00       0.00  ...             0      19833.820652   \n",
            "4            0.00       0.00       0.00  ...             0      19833.820652   \n",
            "...           ...        ...        ...  ...           ...               ...   \n",
            "420280      20.64       1.50    1601.01  ...             1      11689.711747   \n",
            "420281       0.00      18.82    2253.43  ...             0      11689.711747   \n",
            "420282       0.00       7.89     599.32  ...             0      11689.711747   \n",
            "420283       0.00       3.18     437.73  ...             0      11689.711747   \n",
            "420284      58.08     100.00     211.94  ...             0      11689.711747   \n",
            "\n",
            "        Store_Sales_Std  Store_Sales_Median  Dept_Sales_Mean  Dept_Sales_Std  \\\n",
            "0          22333.879707            10315.10     18935.972712    13703.945226   \n",
            "1          22333.879707            10315.10     18935.972712    13703.945226   \n",
            "2          22333.879707            10315.10     18935.972712    13703.945226   \n",
            "3          22333.879707            10315.10     18935.972712    13703.945226   \n",
            "4          22333.879707            10315.10     18935.972712    13703.945226   \n",
            "...                 ...                 ...              ...             ...   \n",
            "420280     14070.740594             6058.49      6856.441518     5629.824098   \n",
            "420281     14070.740594             6058.49      6856.441518     5629.824098   \n",
            "420282     14070.740594             6058.49      6856.441518     5629.824098   \n",
            "420283     14070.740594             6058.49      6856.441518     5629.824098   \n",
            "420284     14070.740594             6058.49      6856.441518     5629.824098   \n",
            "\n",
            "        Dept_Sales_Median  Type_Size_Interaction  Holiday_Type_Interaction  \\\n",
            "0                15314.91                      1                         0   \n",
            "1                15314.91                      1                         3   \n",
            "2                15314.91                      1                         0   \n",
            "3                15314.91                      1                         0   \n",
            "4                15314.91                      1                         0   \n",
            "...                   ...                    ...                       ...   \n",
            "420280            7268.31                      3                         1   \n",
            "420281            7268.31                      3                         1   \n",
            "420282            7268.31                      3                         1   \n",
            "420283            7268.31                      3                         1   \n",
            "420284            7268.31                      3                         1   \n",
            "\n",
            "        Temp_Category  \n",
            "0                   1  \n",
            "1                   1  \n",
            "2                   1  \n",
            "3                   1  \n",
            "4                   1  \n",
            "...               ...  \n",
            "420280              3  \n",
            "420281              3  \n",
            "420282              3  \n",
            "420283              3  \n",
            "420284              3  \n",
            "\n",
            "[420285 rows x 34 columns]\n",
            "========================================================================================================================================================================================================\n",
            "        Store  Dept  Type    Size  Temperature  Fuel_Price  MarkDown1  \\\n",
            "0           1     1     0  151315        55.32       3.386    6766.44   \n",
            "1           1     1     0  151315        61.24       3.314   11421.32   \n",
            "2           1     1     0  151315        52.92       3.252    9696.28   \n",
            "3           1     1     0  151315        56.23       3.211     883.59   \n",
            "4           1     1     0  151315        52.34       3.207    2460.03   \n",
            "...       ...   ...   ...     ...          ...         ...        ...   \n",
            "115059     45    98     1  118221        76.05       3.639    4842.29   \n",
            "115060     45    98     1  118221        77.50       3.614    9090.48   \n",
            "115061     45    98     1  118221        79.37       3.614    3789.94   \n",
            "115062     45    98     1  118221        82.84       3.737    2961.49   \n",
            "115063     45    98     1  118221        76.06       3.804     212.02   \n",
            "\n",
            "        MarkDown2  MarkDown3  MarkDown4  ...  BackToSchool  Store_Sales_Mean  \\\n",
            "0         5147.70      50.82    3639.90  ...             0      19833.820652   \n",
            "1         3370.89      40.28    4646.79  ...             0      19833.820652   \n",
            "2          292.10     103.78    1133.15  ...             0      19833.820652   \n",
            "3            4.17   74910.32     209.91  ...             0      19833.820652   \n",
            "4            0.00    3838.35     150.57  ...             0      19833.820652   \n",
            "...           ...        ...        ...  ...           ...               ...   \n",
            "115059     975.03       3.00    2449.97  ...             0      11689.711747   \n",
            "115060    2268.58     582.74    5797.47  ...             0      11689.711747   \n",
            "115061    1827.31      85.72     744.84  ...             0      11689.711747   \n",
            "115062    1047.07     204.19     363.00  ...             0      11689.711747   \n",
            "115063     851.73       2.06      10.88  ...             0      11689.711747   \n",
            "\n",
            "        Store_Sales_Std  Store_Sales_Median  Dept_Sales_Mean  Dept_Sales_Std  \\\n",
            "0          22333.879707            10315.10     18935.972712    13703.945226   \n",
            "1          22333.879707            10315.10     18935.972712    13703.945226   \n",
            "2          22333.879707            10315.10     18935.972712    13703.945226   \n",
            "3          22333.879707            10315.10     18935.972712    13703.945226   \n",
            "4          22333.879707            10315.10     18935.972712    13703.945226   \n",
            "...                 ...                 ...              ...             ...   \n",
            "115059     14070.740594             6058.49      6856.441518     5629.824098   \n",
            "115060     14070.740594             6058.49      6856.441518     5629.824098   \n",
            "115061     14070.740594             6058.49      6856.441518     5629.824098   \n",
            "115062     14070.740594             6058.49      6856.441518     5629.824098   \n",
            "115063     14070.740594             6058.49      6856.441518     5629.824098   \n",
            "\n",
            "        Dept_Sales_Median  Type_Size_Interaction  Holiday_Type_Interaction  \\\n",
            "0                15314.91                      1                         0   \n",
            "1                15314.91                      1                         0   \n",
            "2                15314.91                      1                         0   \n",
            "3                15314.91                      1                         3   \n",
            "4                15314.91                      1                         0   \n",
            "...                   ...                    ...                       ...   \n",
            "115059            7268.31                      3                         1   \n",
            "115060            7268.31                      3                         1   \n",
            "115061            7268.31                      3                         1   \n",
            "115062            7268.31                      3                         1   \n",
            "115063            7268.31                      3                         1   \n",
            "\n",
            "        Temp_Category  \n",
            "0                   3  \n",
            "1                   3  \n",
            "2                   3  \n",
            "3                   3  \n",
            "4                   3  \n",
            "...               ...  \n",
            "115059              2  \n",
            "115060              2  \n",
            "115061              2  \n",
            "115062              2  \n",
            "115063              2  \n",
            "\n",
            "[115064 rows x 34 columns]\n"
          ]
        }
      ]
    },
    {
      "cell_type": "markdown",
      "source": [
        "**Model Training**"
      ],
      "metadata": {
        "id": "_VCCfcyJJK6O"
      }
    },
    {
      "cell_type": "code",
      "source": [
        "def weighted_mean_absolute_error(y_true, y_pred, sample_weight=None):\n",
        "    if sample_weight is None:\n",
        "        sample_weight = np.ones(len(y_true))\n",
        "    return np.average(np.abs(y_true - y_pred), weights=sample_weight)"
      ],
      "metadata": {
        "id": "k2XWu9n3JN7t"
      },
      "execution_count": 122,
      "outputs": []
    },
    {
      "cell_type": "code",
      "source": [
        "def calculate_metrics(y_true, y_pred, model_name=\"\"):\n",
        "    mae = mean_absolute_error(y_true, y_pred)\n",
        "    mse = mean_squared_error(y_true, y_pred)\n",
        "    rmse = np.sqrt(mse)\n",
        "    r2 = r2_score(y_true, y_pred)\n",
        "\n",
        "    mape = np.mean(np.abs((y_true - y_pred) / np.where(y_true != 0, y_true, 1))) * 100\n",
        "\n",
        "    wmae = np.average(np.abs(y_true - y_pred))\n",
        "\n",
        "    metrics = {\n",
        "        'MAE': mae,\n",
        "        'MSE': mse,\n",
        "        'RMSE': rmse,\n",
        "        'R2': r2,\n",
        "        'MAPE': mape,\n",
        "        'WMAE': wmae\n",
        "    }\n",
        "\n",
        "    print(f\"{model_name} Metrics:\")\n",
        "    for metric, value in metrics.items():\n",
        "        print(f\"  {metric}: {value:.4f}\")\n",
        "\n",
        "    return metrics"
      ],
      "metadata": {
        "id": "Pz_w3ouwoK2g"
      },
      "execution_count": 123,
      "outputs": []
    },
    {
      "cell_type": "code",
      "source": [
        "train_full_sorted = train_full.sort_values('Date')\n",
        "split_date = train_full_sorted['Date'].quantile(0.8)\n",
        "\n",
        "train_mask = train_full['Date'] <= split_date\n",
        "val_mask = train_full['Date'] > split_date\n",
        "\n",
        "X_train = X[train_mask]\n",
        "y_train = y[train_mask]\n",
        "X_val = X[val_mask]\n",
        "y_val = y[val_mask]"
      ],
      "metadata": {
        "id": "9Bv5ZZTc-Lb4"
      },
      "execution_count": 124,
      "outputs": []
    },
    {
      "cell_type": "code",
      "source": [
        "os.makedirs('models', exist_ok=True)\n",
        "model_results = {}\n",
        "from sklearn.linear_model import LinearRegression, Ridge, Lasso\n",
        "from sklearn.preprocessing import LabelEncoder, StandardScaler\n",
        "from sklearn.ensemble import RandomForestRegressor\n",
        "from sklearn.metrics import mean_absolute_error, mean_squared_error"
      ],
      "metadata": {
        "id": "JXUrLTiY-fU2"
      },
      "execution_count": 125,
      "outputs": []
    },
    {
      "cell_type": "code",
      "source": [
        "with mlflow.start_run(run_name=\"Linear_Regression\") as run:\n",
        "    mlflow.log_param(\"model_type\", \"Linear Regression\")\n",
        "    mlflow.log_param(\"features_count\", X_train.shape[1])\n",
        "    mlflow.log_param(\"train_size\", X_train.shape[0])\n",
        "    mlflow.log_param(\"val_size\", X_val.shape[0])\n",
        "\n",
        "    lr = LinearRegression()\n",
        "    lr.fit(X_train, y_train)\n",
        "\n",
        "    lr_train_pred = lr.predict(X_train)\n",
        "    lr_val_pred = lr.predict(X_val)\n",
        "\n",
        "    train_metrics = calculate_metrics(y_train, lr_train_pred, \"Linear Regression (Train)\")\n",
        "    val_metrics = calculate_metrics(y_val, lr_val_pred, \"Linear Regression (Val)\")\n",
        "\n",
        "    for metric, value in train_metrics.items():\n",
        "        mlflow.log_metric(f\"train_{metric.lower()}\", value)\n",
        "\n",
        "    for metric, value in val_metrics.items():\n",
        "        mlflow.log_metric(f\"val_{metric.lower()}\", value)\n",
        "\n",
        "    mlflow.sklearn.log_model(lr, \"linear_regression_model\")\n",
        "\n",
        "    joblib.dump(lr, 'models/linear_regression_model.pkl')\n",
        "\n",
        "    model_results['LinearRegression'] = {\n",
        "        'model': lr,\n",
        "        'val_metrics': val_metrics,\n",
        "        'run_id': run.info.run_id\n",
        "    }\n"
      ],
      "metadata": {
        "colab": {
          "base_uri": "https://localhost:8080/"
        },
        "id": "9BoFBbsvokeO",
        "outputId": "62ae1cb2-aced-4ae2-dd5f-a60aeac472f8"
      },
      "execution_count": 127,
      "outputs": [
        {
          "output_type": "stream",
          "name": "stderr",
          "text": [
            "2025/07/30 17:23:19 WARNING mlflow.models.model: `artifact_path` is deprecated. Please use `name` instead.\n"
          ]
        },
        {
          "output_type": "stream",
          "name": "stdout",
          "text": [
            "Linear Regression (Train) Metrics:\n",
            "  MAE: 7160.7770\n",
            "  MSE: 136859787.0574\n",
            "  RMSE: 11698.7088\n",
            "  R2: 0.6523\n",
            "  MAPE: 12529.0283\n",
            "  WMAE: 7160.7770\n",
            "Linear Regression (Val) Metrics:\n",
            "  MAE: 6735.7998\n",
            "  MSE: 89510679.6375\n",
            "  RMSE: 9461.0084\n",
            "  R2: 0.7218\n",
            "  MAPE: 36485.8000\n",
            "  WMAE: 6735.7998\n"
          ]
        },
        {
          "output_type": "stream",
          "name": "stderr",
          "text": [
            "\u001b[31m2025/07/30 17:23:22 WARNING mlflow.models.model: Model logged without a signature and input example. Please set `input_example` parameter when logging the model to auto infer the model signature.\u001b[0m\n"
          ]
        }
      ]
    },
    {
      "cell_type": "code",
      "source": [
        "with mlflow.start_run(run_name=\"Random_Forest\") as run:\n",
        "    rf_params = {\n",
        "        'n_estimators': 100,\n",
        "        'max_depth': 15,\n",
        "        'min_samples_split': 5,\n",
        "        'min_samples_leaf': 2,\n",
        "        'random_state': 42,\n",
        "        'n_jobs': -1\n",
        "    }\n",
        "\n",
        "    mlflow.log_param(\"model_type\", \"Random Forest\")\n",
        "    for param, value in rf_params.items():\n",
        "        mlflow.log_param(param, value)\n",
        "    mlflow.log_param(\"features_count\", X_train.shape[1])\n",
        "\n",
        "    rf = RandomForestRegressor(**rf_params)\n",
        "    rf.fit(X_train, y_train)\n",
        "\n",
        "    rf_train_pred = rf.predict(X_train)\n",
        "    rf_val_pred = rf.predict(X_val)\n",
        "\n",
        "    train_metrics = calculate_metrics(y_train, rf_train_pred, \"Random Forest (Train)\")\n",
        "    val_metrics = calculate_metrics(y_val, rf_val_pred, \"Random Forest (Val)\")\n",
        "\n",
        "    for metric, value in train_metrics.items():\n",
        "        mlflow.log_metric(f\"train_{metric.lower()}\", value)\n",
        "    for metric, value in val_metrics.items():\n",
        "        mlflow.log_metric(f\"val_{metric.lower()}\", value)\n",
        "\n",
        "    feature_importance = pd.DataFrame({\n",
        "        'feature': X_train.columns,\n",
        "        'importance': rf.feature_importances_\n",
        "    }).sort_values('importance', ascending=False)\n",
        "\n",
        "    top_10_features = feature_importance.head(10)\n",
        "    for idx, row in top_10_features.iterrows():\n",
        "        mlflow.log_metric(f\"feature_importance_{row['feature']}\", row['importance'])\n",
        "\n",
        "    mlflow.sklearn.log_model(rf, \"random_forest_model\")\n",
        "    joblib.dump(rf, 'models/random_forest_model.pkl')\n",
        "\n",
        "    model_results['RandomForest'] = {\n",
        "        'model': rf,\n",
        "        'val_metrics': val_metrics,\n",
        "        'run_id': run.info.run_id\n",
        "    }\n"
      ],
      "metadata": {
        "colab": {
          "base_uri": "https://localhost:8080/"
        },
        "id": "UMdmkYxgpq81",
        "outputId": "f30a2ce0-66c8-4c50-f418-8de031a45f6b"
      },
      "execution_count": 128,
      "outputs": [
        {
          "output_type": "stream",
          "name": "stderr",
          "text": [
            "2025/07/30 17:28:04 WARNING mlflow.models.model: `artifact_path` is deprecated. Please use `name` instead.\n"
          ]
        },
        {
          "output_type": "stream",
          "name": "stdout",
          "text": [
            "Random Forest (Train) Metrics:\n",
            "  MAE: 1230.6036\n",
            "  MSE: 6340282.2819\n",
            "  RMSE: 2517.9917\n",
            "  R2: 0.9839\n",
            "  MAPE: 1079.2664\n",
            "  WMAE: 1230.6036\n",
            "Random Forest (Val) Metrics:\n",
            "  MAE: 1661.9067\n",
            "  MSE: 9792586.2384\n",
            "  RMSE: 3129.3108\n",
            "  R2: 0.9696\n",
            "  MAPE: 3713.2180\n",
            "  WMAE: 1661.9067\n"
          ]
        },
        {
          "output_type": "stream",
          "name": "stderr",
          "text": [
            "\u001b[31m2025/07/30 17:28:11 WARNING mlflow.models.model: Model logged without a signature and input example. Please set `input_example` parameter when logging the model to auto infer the model signature.\u001b[0m\n"
          ]
        }
      ]
    },
    {
      "cell_type": "code",
      "source": [
        "with mlflow.start_run(run_name=\"XGBoost\") as run:\n",
        "    xgb_params = {\n",
        "        'n_estimators': 500,\n",
        "        'max_depth': 6,\n",
        "        'learning_rate': 0.1,\n",
        "        'subsample': 0.8,\n",
        "        'colsample_bytree': 0.8,\n",
        "        'random_state': 42,\n",
        "        'n_jobs': -1,\n",
        "        'early_stopping_rounds': 50,\n",
        "        'eval_metric': 'mae'\n",
        "    }\n",
        "\n",
        "    # Log parameters\n",
        "    mlflow.log_param(\"model_type\", \"XGBoost\")\n",
        "    for param, value in xgb_params.items():\n",
        "        mlflow.log_param(param, value)\n",
        "    mlflow.log_param(\"features_count\", X_train.shape[1])\n",
        "\n",
        "    xgb_model = xgb.XGBRegressor(\n",
        "        n_estimators=500,\n",
        "        max_depth=6,\n",
        "        learning_rate=0.1,\n",
        "        subsample=0.8,\n",
        "        colsample_bytree=0.8,\n",
        "        random_state=42,\n",
        "        n_jobs=-1,\n",
        "        early_stopping_rounds=50,\n",
        "        eval_metric='mae'\n",
        "    )\n",
        "\n",
        "    xgb_model.fit(\n",
        "        X_train, y_train,\n",
        "        eval_set=[(X_val, y_val)],\n",
        "        verbose=50\n",
        "    )\n",
        "\n",
        "    # Log best iteration and score\n",
        "    mlflow.log_metric(\"best_iteration\", xgb_model.best_iteration)\n",
        "    mlflow.log_metric(\"best_score\", xgb_model.best_score)\n",
        "\n",
        "    # Predictions\n",
        "    xgb_train_pred = xgb_model.predict(X_train)\n",
        "    xgb_val_pred = xgb_model.predict(X_val)\n",
        "\n",
        "    # Evaluate\n",
        "    train_metrics = calculate_metrics(y_train, xgb_train_pred, \"XGBoost (Train)\")\n",
        "    val_metrics = calculate_metrics(y_val, xgb_val_pred, \"XGBoost (Val)\")\n",
        "\n",
        "    # Log metrics\n",
        "    for metric, value in train_metrics.items():\n",
        "        mlflow.log_metric(f\"train_{metric.lower()}\", value)\n",
        "    for metric, value in val_metrics.items():\n",
        "        mlflow.log_metric(f\"val_{metric.lower()}\", value)\n",
        "\n",
        "    # Log top 10 important features\n",
        "    xgb_importance = pd.DataFrame({\n",
        "        'feature': X_train.columns,\n",
        "        'importance': xgb_model.feature_importances_\n",
        "    }).sort_values('importance', ascending=False)\n",
        "\n",
        "    top_10_features = xgb_importance.head(10)\n",
        "    for _, row in top_10_features.iterrows():\n",
        "        mlflow.log_metric(f\"feature_importance_{row['feature']}\", row['importance'])\n",
        "\n",
        "    # Log model\n",
        "    mlflow.xgboost.log_model(xgb_model, \"xgboost_model\")\n",
        "    joblib.dump(xgb_model, 'models/xgboost_model.pkl')\n",
        "\n",
        "    model_results['XGBoost'] = {\n",
        "        'model': xgb_model,\n",
        "        'val_metrics': val_metrics,\n",
        "        'run_id': run.info.run_id\n",
        "    }"
      ],
      "metadata": {
        "colab": {
          "base_uri": "https://localhost:8080/"
        },
        "id": "1appaKL7sJDg",
        "outputId": "be0227f7-bd2e-408d-8eab-20b0104a41da"
      },
      "execution_count": 129,
      "outputs": [
        {
          "output_type": "stream",
          "name": "stdout",
          "text": [
            "[0]\tvalidation_0-mae:12632.24710\n",
            "[50]\tvalidation_0-mae:3362.08911\n",
            "[100]\tvalidation_0-mae:3101.68872\n",
            "[150]\tvalidation_0-mae:2891.56696\n",
            "[200]\tvalidation_0-mae:2743.20671\n",
            "[250]\tvalidation_0-mae:2633.69475\n",
            "[300]\tvalidation_0-mae:2540.22463\n",
            "[350]\tvalidation_0-mae:2460.20640\n",
            "[400]\tvalidation_0-mae:2391.79362\n",
            "[450]\tvalidation_0-mae:2340.69790\n",
            "[499]\tvalidation_0-mae:2291.21676\n"
          ]
        },
        {
          "output_type": "stream",
          "name": "stderr",
          "text": [
            "2025/07/30 17:29:53 WARNING mlflow.models.model: `artifact_path` is deprecated. Please use `name` instead.\n"
          ]
        },
        {
          "output_type": "stream",
          "name": "stdout",
          "text": [
            "XGBoost (Train) Metrics:\n",
            "  MAE: 1859.0164\n",
            "  MSE: 9748211.0595\n",
            "  RMSE: 3122.2125\n",
            "  R2: 0.9752\n",
            "  MAPE: 2419.1423\n",
            "  WMAE: 1859.0164\n",
            "XGBoost (Val) Metrics:\n",
            "  MAE: 2290.7544\n",
            "  MSE: 14200514.7450\n",
            "  RMSE: 3768.3570\n",
            "  R2: 0.9559\n",
            "  MAPE: 7993.1636\n",
            "  WMAE: 2290.7544\n"
          ]
        },
        {
          "output_type": "stream",
          "name": "stderr",
          "text": [
            "\u001b[31m2025/07/30 17:29:56 WARNING mlflow.models.model: Model logged without a signature and input example. Please set `input_example` parameter when logging the model to auto infer the model signature.\u001b[0m\n"
          ]
        }
      ]
    },
    {
      "cell_type": "code",
      "source": [
        "with mlflow.start_run(run_name=\"Ensemble_Model\") as run:\n",
        "    ensemble_predictions = {\n",
        "        'rf': model_results['RandomForest']['model'].predict(X_val),\n",
        "        'xgb': model_results['XGBoost']['model'].predict(X_val),\n",
        "    }\n",
        "\n",
        "    simple_ensemble = np.mean([ensemble_predictions['rf'],\n",
        "                              ensemble_predictions['xgb']], axis=0)\n",
        "\n",
        "    weights = {\n",
        "        'rf': 1.0 / model_results['RandomForest']['val_metrics']['MAE'],\n",
        "        'xgb': 1.0 / model_results['XGBoost']['val_metrics']['MAE'],\n",
        "    }\n",
        "\n",
        "\n",
        "    total_weight = sum(weights.values())\n",
        "    weights = {k: v/total_weight for k, v in weights.items()}\n",
        "\n",
        "    weighted_ensemble = (weights['rf'] * ensemble_predictions['rf'] +\n",
        "                        weights['xgb'] * ensemble_predictions['xgb'])\n",
        "\n",
        "    mlflow.log_param(\"model_type\", \"Ensemble\")\n",
        "    mlflow.log_param(\"ensemble_method\", \"Weighted Average\")\n",
        "    for model, weight in weights.items():\n",
        "        mlflow.log_param(f\"weight_{model}\", weight)\n",
        "\n",
        "    simple_metrics = calculate_metrics(y_val, simple_ensemble, \"Simple Ensemble\")\n",
        "    weighted_metrics = calculate_metrics(y_val, weighted_ensemble, \"Weighted Ensemble\")\n",
        "\n",
        "    for metric, value in simple_metrics.items():\n",
        "        mlflow.log_metric(f\"simple_{metric.lower()}\", value)\n",
        "\n",
        "    for metric, value in weighted_metrics.items():\n",
        "        mlflow.log_metric(f\"weighted_{metric.lower()}\", value)\n",
        "\n",
        "    model_results['SimpleEnsemble'] = {\n",
        "        'predictions': simple_ensemble,\n",
        "        'val_metrics': simple_metrics,\n",
        "        'run_id': run.info.run_id\n",
        "    }\n",
        "\n",
        "    model_results['WeightedEnsemble'] = {\n",
        "        'predictions': weighted_ensemble,\n",
        "        'val_metrics': weighted_metrics,\n",
        "        'weights': weights\n",
        "    }"
      ],
      "metadata": {
        "colab": {
          "base_uri": "https://localhost:8080/"
        },
        "id": "x9s3ctCV-fqy",
        "outputId": "b003330b-7a47-4d68-a54d-d966029c1ed6"
      },
      "execution_count": 130,
      "outputs": [
        {
          "output_type": "stream",
          "name": "stdout",
          "text": [
            "Simple Ensemble Metrics:\n",
            "  MAE: 1857.3406\n",
            "  MSE: 10255574.5581\n",
            "  RMSE: 3202.4326\n",
            "  R2: 0.9681\n",
            "  MAPE: 5488.1678\n",
            "  WMAE: 1857.3406\n",
            "Weighted Ensemble Metrics:\n",
            "  MAE: 1805.9451\n",
            "  MSE: 9949001.5293\n",
            "  RMSE: 3154.2038\n",
            "  R2: 0.9691\n",
            "  MAPE: 5129.7732\n",
            "  WMAE: 1805.9451\n"
          ]
        }
      ]
    },
    {
      "cell_type": "code",
      "source": [
        "models_path = '/content/drive/MyDrive/models'\n",
        "os.makedirs(models_path, exist_ok=True)\n",
        "joblib.dump(xgb_model, f'{models_path}/xgboost_model.pkl')\n",
        "joblib.dump(rf, f'{models_path}/random_forest_model.pkl')\n",
        "joblib.dump(lr, f'{models_path}/linear_regression_model.pkl')\n",
        "joblib.dump(label_encoders, f'{models_path}/label_encoders.pkl')\n",
        "joblib.dump(feature_cols, f'{models_path}/feature_columns.pkl')\n",
        "\n",
        "print(\"Models saved to Google Drive:\")\n",
        "for file in os.listdir(models_path):\n",
        "    if file.endswith('.pkl'):\n",
        "        file_path = os.path.join(models_path, file)\n",
        "        size = os.path.getsize(file_path)\n",
        "        print(f\"   {file}\")"
      ],
      "metadata": {
        "colab": {
          "base_uri": "https://localhost:8080/"
        },
        "id": "uYIN5NvoePwf",
        "outputId": "f38e1efc-3164-4578-98e5-39bfe3a1b674"
      },
      "execution_count": 135,
      "outputs": [
        {
          "output_type": "stream",
          "name": "stdout",
          "text": [
            "Models saved to Google Drive:\n",
            "   xgboost_model.pkl\n",
            "   random_forest_model.pkl\n",
            "   linear_regression_model.pkl\n",
            "   label_encoders.pkl\n",
            "   feature_columns.pkl\n"
          ]
        }
      ]
    },
    {
      "cell_type": "code",
      "source": [
        "data_path = '/content/drive/MyDrive/data'\n",
        "os.makedirs(data_path, exist_ok=True)"
      ],
      "metadata": {
        "id": "9yTsDDiGfixk"
      },
      "execution_count": 137,
      "outputs": []
    },
    {
      "cell_type": "code",
      "source": [
        "test_full.to_csv('/content/drive/MyDrive/data/test_processed.csv', index=False)\n",
        "print(\"Processed test data saved to Google Drive\")"
      ],
      "metadata": {
        "colab": {
          "base_uri": "https://localhost:8080/"
        },
        "id": "CLmBO5Aifapf",
        "outputId": "65c67065-5fe2-4ef6-c32e-f2bf33e2eb7d"
      },
      "execution_count": 138,
      "outputs": [
        {
          "output_type": "stream",
          "name": "stdout",
          "text": [
            "Processed test data saved to Google Drive\n"
          ]
        }
      ]
    }
  ],
  "metadata": {
    "colab": {
      "provenance": []
    },
    "kernelspec": {
      "display_name": "Python 3",
      "name": "python3"
    },
    "language_info": {
      "name": "python"
    }
  },
  "nbformat": 4,
  "nbformat_minor": 0
}