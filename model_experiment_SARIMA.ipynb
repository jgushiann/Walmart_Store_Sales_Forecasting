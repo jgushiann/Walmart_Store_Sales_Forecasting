{
  "nbformat": 4,
  "nbformat_minor": 0,
  "metadata": {
    "colab": {
      "provenance": [],
      "gpuType": "T4"
    },
    "kernelspec": {
      "name": "python3",
      "display_name": "Python 3"
    },
    "language_info": {
      "name": "python"
    },
    "accelerator": "GPU"
  },
  "cells": [
    {
      "cell_type": "code",
      "execution_count": 1,
      "metadata": {
        "colab": {
          "base_uri": "https://localhost:8080/"
        },
        "id": "wYnOfB50qM5h",
        "outputId": "21adc23a-3425-4303-89e8-05f359114344"
      },
      "outputs": [
        {
          "output_type": "stream",
          "name": "stdout",
          "text": [
            "Drive already mounted at /content/drive; to attempt to forcibly remount, call drive.mount(\"/content/drive\", force_remount=True).\n"
          ]
        }
      ],
      "source": [
        "from google.colab import drive\n",
        "drive.mount('/content/drive')"
      ]
    },
    {
      "cell_type": "code",
      "source": [
        "!pip install dagshub --upgrade\n",
        "!pip install -q pandas scikit-learn mlflow joblib kaggle\n",
        "!pip install numpy==1.24.4\n",
        "!pip install pmdarima"
      ],
      "metadata": {
        "colab": {
          "base_uri": "https://localhost:8080/",
          "height": 1000
        },
        "id": "AfJ6_dEmqQDI",
        "outputId": "25dc5ef6-108f-4541-aca8-c7bc4f11c62d"
      },
      "execution_count": 2,
      "outputs": [
        {
          "output_type": "stream",
          "name": "stdout",
          "text": [
            "Requirement already satisfied: dagshub in /usr/local/lib/python3.11/dist-packages (0.6.2)\n",
            "Requirement already satisfied: PyYAML>=5 in /usr/local/lib/python3.11/dist-packages (from dagshub) (6.0.2)\n",
            "Requirement already satisfied: appdirs>=1.4.4 in /usr/local/lib/python3.11/dist-packages (from dagshub) (1.4.4)\n",
            "Requirement already satisfied: click>=8.0.4 in /usr/local/lib/python3.11/dist-packages (from dagshub) (8.2.1)\n",
            "Requirement already satisfied: httpx>=0.23.0 in /usr/local/lib/python3.11/dist-packages (from dagshub) (0.28.1)\n",
            "Requirement already satisfied: GitPython>=3.1.29 in /usr/local/lib/python3.11/dist-packages (from dagshub) (3.1.45)\n",
            "Requirement already satisfied: rich>=13.1.0 in /usr/local/lib/python3.11/dist-packages (from dagshub) (13.9.4)\n",
            "Requirement already satisfied: dacite~=1.6.0 in /usr/local/lib/python3.11/dist-packages (from dagshub) (1.6.0)\n",
            "Requirement already satisfied: tenacity>=8.2.2 in /usr/local/lib/python3.11/dist-packages (from dagshub) (8.5.0)\n",
            "Requirement already satisfied: gql[requests] in /usr/local/lib/python3.11/dist-packages (from dagshub) (3.5.3)\n",
            "Requirement already satisfied: dataclasses-json in /usr/local/lib/python3.11/dist-packages (from dagshub) (0.6.7)\n",
            "Requirement already satisfied: pandas in /usr/local/lib/python3.11/dist-packages (from dagshub) (2.2.2)\n",
            "Requirement already satisfied: treelib>=1.6.4 in /usr/local/lib/python3.11/dist-packages (from dagshub) (1.8.0)\n",
            "Requirement already satisfied: pathvalidate>=3.0.0 in /usr/local/lib/python3.11/dist-packages (from dagshub) (3.3.1)\n",
            "Requirement already satisfied: python-dateutil in /usr/local/lib/python3.11/dist-packages (from dagshub) (2.9.0.post0)\n",
            "Requirement already satisfied: boto3 in /usr/local/lib/python3.11/dist-packages (from dagshub) (1.40.1)\n",
            "Requirement already satisfied: semver in /usr/local/lib/python3.11/dist-packages (from dagshub) (3.0.4)\n",
            "Requirement already satisfied: dagshub-annotation-converter>=0.1.5 in /usr/local/lib/python3.11/dist-packages (from dagshub) (0.1.11)\n",
            "Requirement already satisfied: lxml in /usr/local/lib/python3.11/dist-packages (from dagshub-annotation-converter>=0.1.5->dagshub) (5.4.0)\n",
            "Requirement already satisfied: pillow in /usr/local/lib/python3.11/dist-packages (from dagshub-annotation-converter>=0.1.5->dagshub) (11.3.0)\n",
            "Requirement already satisfied: pydantic>=2.0.0 in /usr/local/lib/python3.11/dist-packages (from dagshub-annotation-converter>=0.1.5->dagshub) (2.11.7)\n",
            "Requirement already satisfied: typing-extensions in /usr/local/lib/python3.11/dist-packages (from dagshub-annotation-converter>=0.1.5->dagshub) (4.14.1)\n",
            "Requirement already satisfied: gitdb<5,>=4.0.1 in /usr/local/lib/python3.11/dist-packages (from GitPython>=3.1.29->dagshub) (4.0.12)\n",
            "Requirement already satisfied: anyio in /usr/local/lib/python3.11/dist-packages (from httpx>=0.23.0->dagshub) (4.9.0)\n",
            "Requirement already satisfied: certifi in /usr/local/lib/python3.11/dist-packages (from httpx>=0.23.0->dagshub) (2025.7.14)\n",
            "Requirement already satisfied: httpcore==1.* in /usr/local/lib/python3.11/dist-packages (from httpx>=0.23.0->dagshub) (1.0.9)\n",
            "Requirement already satisfied: idna in /usr/local/lib/python3.11/dist-packages (from httpx>=0.23.0->dagshub) (3.10)\n",
            "Requirement already satisfied: h11>=0.16 in /usr/local/lib/python3.11/dist-packages (from httpcore==1.*->httpx>=0.23.0->dagshub) (0.16.0)\n",
            "Requirement already satisfied: markdown-it-py>=2.2.0 in /usr/local/lib/python3.11/dist-packages (from rich>=13.1.0->dagshub) (3.0.0)\n",
            "Requirement already satisfied: pygments<3.0.0,>=2.13.0 in /usr/local/lib/python3.11/dist-packages (from rich>=13.1.0->dagshub) (2.19.2)\n",
            "Requirement already satisfied: six>=1.13.0 in /usr/local/lib/python3.11/dist-packages (from treelib>=1.6.4->dagshub) (1.17.0)\n",
            "Requirement already satisfied: botocore<1.41.0,>=1.40.1 in /usr/local/lib/python3.11/dist-packages (from boto3->dagshub) (1.40.1)\n",
            "Requirement already satisfied: jmespath<2.0.0,>=0.7.1 in /usr/local/lib/python3.11/dist-packages (from boto3->dagshub) (1.0.1)\n",
            "Requirement already satisfied: s3transfer<0.14.0,>=0.13.0 in /usr/local/lib/python3.11/dist-packages (from boto3->dagshub) (0.13.1)\n",
            "Requirement already satisfied: marshmallow<4.0.0,>=3.18.0 in /usr/local/lib/python3.11/dist-packages (from dataclasses-json->dagshub) (3.26.1)\n",
            "Requirement already satisfied: typing-inspect<1,>=0.4.0 in /usr/local/lib/python3.11/dist-packages (from dataclasses-json->dagshub) (0.9.0)\n",
            "Requirement already satisfied: graphql-core<3.2.7,>=3.2 in /usr/local/lib/python3.11/dist-packages (from gql[requests]->dagshub) (3.2.6)\n",
            "Requirement already satisfied: yarl<2.0,>=1.6 in /usr/local/lib/python3.11/dist-packages (from gql[requests]->dagshub) (1.20.1)\n",
            "Requirement already satisfied: backoff<3.0,>=1.11.1 in /usr/local/lib/python3.11/dist-packages (from gql[requests]->dagshub) (2.2.1)\n",
            "Requirement already satisfied: requests<3,>=2.26 in /usr/local/lib/python3.11/dist-packages (from gql[requests]->dagshub) (2.32.3)\n",
            "Requirement already satisfied: requests-toolbelt<2,>=1.0.0 in /usr/local/lib/python3.11/dist-packages (from gql[requests]->dagshub) (1.0.0)\n",
            "Requirement already satisfied: numpy>=1.23.2 in /usr/local/lib/python3.11/dist-packages (from pandas->dagshub) (1.26.4)\n",
            "Requirement already satisfied: pytz>=2020.1 in /usr/local/lib/python3.11/dist-packages (from pandas->dagshub) (2025.2)\n",
            "Requirement already satisfied: tzdata>=2022.7 in /usr/local/lib/python3.11/dist-packages (from pandas->dagshub) (2025.2)\n",
            "Requirement already satisfied: sniffio>=1.1 in /usr/local/lib/python3.11/dist-packages (from anyio->httpx>=0.23.0->dagshub) (1.3.1)\n",
            "Requirement already satisfied: urllib3!=2.2.0,<3,>=1.25.4 in /usr/local/lib/python3.11/dist-packages (from botocore<1.41.0,>=1.40.1->boto3->dagshub) (2.5.0)\n",
            "Requirement already satisfied: smmap<6,>=3.0.1 in /usr/local/lib/python3.11/dist-packages (from gitdb<5,>=4.0.1->GitPython>=3.1.29->dagshub) (5.0.2)\n",
            "Requirement already satisfied: mdurl~=0.1 in /usr/local/lib/python3.11/dist-packages (from markdown-it-py>=2.2.0->rich>=13.1.0->dagshub) (0.1.2)\n",
            "Requirement already satisfied: packaging>=17.0 in /usr/local/lib/python3.11/dist-packages (from marshmallow<4.0.0,>=3.18.0->dataclasses-json->dagshub) (25.0)\n",
            "Requirement already satisfied: annotated-types>=0.6.0 in /usr/local/lib/python3.11/dist-packages (from pydantic>=2.0.0->dagshub-annotation-converter>=0.1.5->dagshub) (0.7.0)\n",
            "Requirement already satisfied: pydantic-core==2.33.2 in /usr/local/lib/python3.11/dist-packages (from pydantic>=2.0.0->dagshub-annotation-converter>=0.1.5->dagshub) (2.33.2)\n",
            "Requirement already satisfied: typing-inspection>=0.4.0 in /usr/local/lib/python3.11/dist-packages (from pydantic>=2.0.0->dagshub-annotation-converter>=0.1.5->dagshub) (0.4.1)\n",
            "Requirement already satisfied: charset-normalizer<4,>=2 in /usr/local/lib/python3.11/dist-packages (from requests<3,>=2.26->gql[requests]->dagshub) (3.4.2)\n",
            "Requirement already satisfied: mypy-extensions>=0.3.0 in /usr/local/lib/python3.11/dist-packages (from typing-inspect<1,>=0.4.0->dataclasses-json->dagshub) (1.1.0)\n",
            "Requirement already satisfied: multidict>=4.0 in /usr/local/lib/python3.11/dist-packages (from yarl<2.0,>=1.6->gql[requests]->dagshub) (6.6.3)\n",
            "Requirement already satisfied: propcache>=0.2.1 in /usr/local/lib/python3.11/dist-packages (from yarl<2.0,>=1.6->gql[requests]->dagshub) (0.3.2)\n",
            "Collecting numpy==1.24.4\n",
            "  Using cached numpy-1.24.4-cp311-cp311-manylinux_2_17_x86_64.manylinux2014_x86_64.whl.metadata (5.6 kB)\n",
            "Using cached numpy-1.24.4-cp311-cp311-manylinux_2_17_x86_64.manylinux2014_x86_64.whl (17.3 MB)\n",
            "Installing collected packages: numpy\n",
            "  Attempting uninstall: numpy\n",
            "    Found existing installation: numpy 1.26.4\n",
            "    Uninstalling numpy-1.26.4:\n",
            "      Successfully uninstalled numpy-1.26.4\n",
            "\u001b[31mERROR: pip's dependency resolver does not currently take into account all the packages that are installed. This behaviour is the source of the following dependency conflicts.\n",
            "blosc2 3.6.1 requires numpy>=1.26, but you have numpy 1.24.4 which is incompatible.\n",
            "xarray-einstats 0.9.1 requires numpy>=1.25, but you have numpy 1.24.4 which is incompatible.\n",
            "jaxlib 0.5.1 requires numpy>=1.25, but you have numpy 1.24.4 which is incompatible.\n",
            "pymc 5.25.1 requires numpy>=1.25.0, but you have numpy 1.24.4 which is incompatible.\n",
            "treescope 0.1.9 requires numpy>=1.25.2, but you have numpy 1.24.4 which is incompatible.\n",
            "thinc 8.3.6 requires numpy<3.0.0,>=2.0.0, but you have numpy 1.24.4 which is incompatible.\n",
            "arviz 0.22.0 requires numpy>=1.26.0, but you have numpy 1.24.4 which is incompatible.\n",
            "opencv-contrib-python 4.12.0.88 requires numpy<2.3.0,>=2; python_version >= \"3.9\", but you have numpy 1.24.4 which is incompatible.\n",
            "opencv-python 4.12.0.88 requires numpy<2.3.0,>=2; python_version >= \"3.9\", but you have numpy 1.24.4 which is incompatible.\n",
            "scipy 1.16.0 requires numpy<2.6,>=1.25.2, but you have numpy 1.24.4 which is incompatible.\n",
            "tensorflow 2.18.0 requires numpy<2.1.0,>=1.26.0, but you have numpy 1.24.4 which is incompatible.\n",
            "opencv-python-headless 4.12.0.88 requires numpy<2.3.0,>=2; python_version >= \"3.9\", but you have numpy 1.24.4 which is incompatible.\n",
            "jax 0.5.2 requires numpy>=1.25, but you have numpy 1.24.4 which is incompatible.\n",
            "xarray 2025.7.1 requires numpy>=1.26, but you have numpy 1.24.4 which is incompatible.\u001b[0m\u001b[31m\n",
            "\u001b[0mSuccessfully installed numpy-1.24.4\n"
          ]
        },
        {
          "output_type": "display_data",
          "data": {
            "application/vnd.colab-display-data+json": {
              "pip_warning": {
                "packages": [
                  "numpy"
                ]
              },
              "id": "b461adb766a94e94a18ba7feeed214e1"
            }
          },
          "metadata": {}
        },
        {
          "output_type": "stream",
          "name": "stdout",
          "text": [
            "Requirement already satisfied: pmdarima in /usr/local/lib/python3.11/dist-packages (2.0.4)\n",
            "Requirement already satisfied: joblib>=0.11 in /usr/local/lib/python3.11/dist-packages (from pmdarima) (1.5.1)\n",
            "Requirement already satisfied: Cython!=0.29.18,!=0.29.31,>=0.29 in /usr/local/lib/python3.11/dist-packages (from pmdarima) (3.0.12)\n",
            "Requirement already satisfied: numpy>=1.21.2 in /usr/local/lib/python3.11/dist-packages (from pmdarima) (1.24.4)\n",
            "Requirement already satisfied: pandas>=0.19 in /usr/local/lib/python3.11/dist-packages (from pmdarima) (2.2.2)\n",
            "Requirement already satisfied: scikit-learn>=0.22 in /usr/local/lib/python3.11/dist-packages (from pmdarima) (1.6.1)\n",
            "Requirement already satisfied: scipy>=1.3.2 in /usr/local/lib/python3.11/dist-packages (from pmdarima) (1.16.0)\n",
            "Requirement already satisfied: statsmodels>=0.13.2 in /usr/local/lib/python3.11/dist-packages (from pmdarima) (0.14.5)\n",
            "Requirement already satisfied: urllib3 in /usr/local/lib/python3.11/dist-packages (from pmdarima) (2.5.0)\n",
            "Requirement already satisfied: setuptools!=50.0.0,>=38.6.0 in /usr/local/lib/python3.11/dist-packages (from pmdarima) (75.2.0)\n",
            "Requirement already satisfied: packaging>=17.1 in /usr/local/lib/python3.11/dist-packages (from pmdarima) (25.0)\n",
            "Requirement already satisfied: python-dateutil>=2.8.2 in /usr/local/lib/python3.11/dist-packages (from pandas>=0.19->pmdarima) (2.9.0.post0)\n",
            "Requirement already satisfied: pytz>=2020.1 in /usr/local/lib/python3.11/dist-packages (from pandas>=0.19->pmdarima) (2025.2)\n",
            "Requirement already satisfied: tzdata>=2022.7 in /usr/local/lib/python3.11/dist-packages (from pandas>=0.19->pmdarima) (2025.2)\n",
            "Requirement already satisfied: threadpoolctl>=3.1.0 in /usr/local/lib/python3.11/dist-packages (from scikit-learn>=0.22->pmdarima) (3.6.0)\n",
            "Collecting numpy>=1.21.2 (from pmdarima)\n",
            "  Using cached numpy-2.3.2-cp311-cp311-manylinux_2_27_x86_64.manylinux_2_28_x86_64.whl.metadata (62 kB)\n",
            "Requirement already satisfied: patsy>=0.5.6 in /usr/local/lib/python3.11/dist-packages (from statsmodels>=0.13.2->pmdarima) (1.0.1)\n",
            "Requirement already satisfied: six>=1.5 in /usr/local/lib/python3.11/dist-packages (from python-dateutil>=2.8.2->pandas>=0.19->pmdarima) (1.17.0)\n",
            "Using cached numpy-2.3.2-cp311-cp311-manylinux_2_27_x86_64.manylinux_2_28_x86_64.whl (16.9 MB)\n",
            "Installing collected packages: numpy\n",
            "  Attempting uninstall: numpy\n",
            "    Found existing installation: numpy 1.24.4\n",
            "    Uninstalling numpy-1.24.4:\n",
            "      Successfully uninstalled numpy-1.24.4\n",
            "\u001b[31mERROR: pip's dependency resolver does not currently take into account all the packages that are installed. This behaviour is the source of the following dependency conflicts.\n",
            "numba 0.60.0 requires numpy<2.1,>=1.22, but you have numpy 2.3.2 which is incompatible.\n",
            "cupy-cuda12x 13.3.0 requires numpy<2.3,>=1.22, but you have numpy 2.3.2 which is incompatible.\n",
            "opencv-contrib-python 4.12.0.88 requires numpy<2.3.0,>=2; python_version >= \"3.9\", but you have numpy 2.3.2 which is incompatible.\n",
            "opencv-python 4.12.0.88 requires numpy<2.3.0,>=2; python_version >= \"3.9\", but you have numpy 2.3.2 which is incompatible.\n",
            "tensorflow 2.18.0 requires numpy<2.1.0,>=1.26.0, but you have numpy 2.3.2 which is incompatible.\n",
            "opencv-python-headless 4.12.0.88 requires numpy<2.3.0,>=2; python_version >= \"3.9\", but you have numpy 2.3.2 which is incompatible.\u001b[0m\u001b[31m\n",
            "\u001b[0mSuccessfully installed numpy-2.3.2\n"
          ]
        },
        {
          "output_type": "display_data",
          "data": {
            "application/vnd.colab-display-data+json": {
              "pip_warning": {
                "packages": [
                  "numpy"
                ]
              },
              "id": "58c952db5e3d444bbfb1f7eed7190302"
            }
          },
          "metadata": {}
        }
      ]
    },
    {
      "cell_type": "code",
      "source": [
        "!pip install numpy==1.26.4\n",
        "\n",
        "!pip install --no-binary :all: pmdarima"
      ],
      "metadata": {
        "colab": {
          "base_uri": "https://localhost:8080/",
          "height": 651
        },
        "id": "lxjyXm372qwh",
        "outputId": "867afb02-a01d-4ce7-ad0e-75d8bcb8efca"
      },
      "execution_count": 1,
      "outputs": [
        {
          "output_type": "stream",
          "name": "stdout",
          "text": [
            "Collecting numpy==1.26.4\n",
            "  Using cached numpy-1.26.4-cp311-cp311-manylinux_2_17_x86_64.manylinux2014_x86_64.whl.metadata (61 kB)\n",
            "Using cached numpy-1.26.4-cp311-cp311-manylinux_2_17_x86_64.manylinux2014_x86_64.whl (18.3 MB)\n",
            "Installing collected packages: numpy\n",
            "  Attempting uninstall: numpy\n",
            "    Found existing installation: numpy 2.3.2\n",
            "    Uninstalling numpy-2.3.2:\n",
            "      Successfully uninstalled numpy-2.3.2\n",
            "\u001b[31mERROR: pip's dependency resolver does not currently take into account all the packages that are installed. This behaviour is the source of the following dependency conflicts.\n",
            "thinc 8.3.6 requires numpy<3.0.0,>=2.0.0, but you have numpy 1.26.4 which is incompatible.\n",
            "opencv-contrib-python 4.12.0.88 requires numpy<2.3.0,>=2; python_version >= \"3.9\", but you have numpy 1.26.4 which is incompatible.\n",
            "opencv-python 4.12.0.88 requires numpy<2.3.0,>=2; python_version >= \"3.9\", but you have numpy 1.26.4 which is incompatible.\n",
            "opencv-python-headless 4.12.0.88 requires numpy<2.3.0,>=2; python_version >= \"3.9\", but you have numpy 1.26.4 which is incompatible.\u001b[0m\u001b[31m\n",
            "\u001b[0mSuccessfully installed numpy-1.26.4\n"
          ]
        },
        {
          "output_type": "display_data",
          "data": {
            "application/vnd.colab-display-data+json": {
              "pip_warning": {
                "packages": [
                  "numpy"
                ]
              },
              "id": "0290800d84784e0bbee220f7525ee1c8"
            }
          },
          "metadata": {}
        },
        {
          "output_type": "stream",
          "name": "stdout",
          "text": [
            "Requirement already satisfied: pmdarima in /usr/local/lib/python3.11/dist-packages (2.0.4)\n",
            "Requirement already satisfied: joblib>=0.11 in /usr/local/lib/python3.11/dist-packages (from pmdarima) (1.5.1)\n",
            "Requirement already satisfied: Cython!=0.29.18,!=0.29.31,>=0.29 in /usr/local/lib/python3.11/dist-packages (from pmdarima) (3.0.12)\n",
            "Requirement already satisfied: numpy>=1.21.2 in /usr/local/lib/python3.11/dist-packages (from pmdarima) (1.26.4)\n",
            "Requirement already satisfied: pandas>=0.19 in /usr/local/lib/python3.11/dist-packages (from pmdarima) (2.2.2)\n",
            "Requirement already satisfied: scikit-learn>=0.22 in /usr/local/lib/python3.11/dist-packages (from pmdarima) (1.6.1)\n",
            "Requirement already satisfied: scipy>=1.3.2 in /usr/local/lib/python3.11/dist-packages (from pmdarima) (1.16.0)\n",
            "Requirement already satisfied: statsmodels>=0.13.2 in /usr/local/lib/python3.11/dist-packages (from pmdarima) (0.14.5)\n",
            "Requirement already satisfied: urllib3 in /usr/local/lib/python3.11/dist-packages (from pmdarima) (2.5.0)\n",
            "Requirement already satisfied: setuptools!=50.0.0,>=38.6.0 in /usr/local/lib/python3.11/dist-packages (from pmdarima) (75.2.0)\n",
            "Requirement already satisfied: packaging>=17.1 in /usr/local/lib/python3.11/dist-packages (from pmdarima) (25.0)\n",
            "Requirement already satisfied: python-dateutil>=2.8.2 in /usr/local/lib/python3.11/dist-packages (from pandas>=0.19->pmdarima) (2.9.0.post0)\n",
            "Requirement already satisfied: pytz>=2020.1 in /usr/local/lib/python3.11/dist-packages (from pandas>=0.19->pmdarima) (2025.2)\n",
            "Requirement already satisfied: tzdata>=2022.7 in /usr/local/lib/python3.11/dist-packages (from pandas>=0.19->pmdarima) (2025.2)\n",
            "Requirement already satisfied: threadpoolctl>=3.1.0 in /usr/local/lib/python3.11/dist-packages (from scikit-learn>=0.22->pmdarima) (3.6.0)\n",
            "Requirement already satisfied: patsy>=0.5.6 in /usr/local/lib/python3.11/dist-packages (from statsmodels>=0.13.2->pmdarima) (1.0.1)\n",
            "Requirement already satisfied: six>=1.5 in /usr/local/lib/python3.11/dist-packages (from python-dateutil>=2.8.2->pandas>=0.19->pmdarima) (1.17.0)\n"
          ]
        }
      ]
    },
    {
      "cell_type": "code",
      "source": [
        "import pandas as pd\n",
        "import numpy as np\n",
        "import matplotlib.pyplot as plt\n",
        "import seaborn as sns\n",
        "import joblib\n",
        "import warnings\n",
        "import os\n",
        "import zipfile\n",
        "import mlflow\n",
        "from itertools import product\n",
        "from concurrent.futures import ThreadPoolExecutor, as_completed\n",
        "from tqdm import tqdm\n",
        "\n",
        "from statsmodels.tsa.statespace.sarimax import SARIMAX\n",
        "from statsmodels.tsa.arima.model import ARIMA\n",
        "from statsmodels.tsa.seasonal import seasonal_decompose\n",
        "from statsmodels.graphics.tsaplots import plot_acf, plot_pacf\n",
        "from statsmodels.stats.diagnostic import acorr_ljungbox\n",
        "from statsmodels.tsa.stattools import adfuller\n",
        "from pmdarima import auto_arima\n",
        "\n",
        "from sklearn.pipeline import Pipeline\n",
        "from sklearn.compose import ColumnTransformer\n",
        "from sklearn.preprocessing import StandardScaler, OneHotEncoder\n",
        "from sklearn.impute import SimpleImputer\n",
        "from sklearn.model_selection import TimeSeriesSplit\n",
        "from sklearn.metrics import mean_absolute_error\n",
        "\n",
        "warnings.filterwarnings(\"ignore\")\n",
        "np.random.seed(42)"
      ],
      "metadata": {
        "id": "ZZlEoVjhuOba"
      },
      "execution_count": 2,
      "outputs": []
    },
    {
      "cell_type": "code",
      "source": [
        "from google.colab import files\n",
        "uploaded = files.upload()"
      ],
      "metadata": {
        "colab": {
          "base_uri": "https://localhost:8080/",
          "height": 73
        },
        "id": "Glf5a1D1usdH",
        "outputId": "f3b0d0d1-f330-4241-860e-3918f43401d4"
      },
      "execution_count": 3,
      "outputs": [
        {
          "output_type": "display_data",
          "data": {
            "text/plain": [
              "<IPython.core.display.HTML object>"
            ],
            "text/html": [
              "\n",
              "     <input type=\"file\" id=\"files-8f8c11d6-543d-476e-b6ff-31ee180f0b02\" name=\"files[]\" multiple disabled\n",
              "        style=\"border:none\" />\n",
              "     <output id=\"result-8f8c11d6-543d-476e-b6ff-31ee180f0b02\">\n",
              "      Upload widget is only available when the cell has been executed in the\n",
              "      current browser session. Please rerun this cell to enable.\n",
              "      </output>\n",
              "      <script>// Copyright 2017 Google LLC\n",
              "//\n",
              "// Licensed under the Apache License, Version 2.0 (the \"License\");\n",
              "// you may not use this file except in compliance with the License.\n",
              "// You may obtain a copy of the License at\n",
              "//\n",
              "//      http://www.apache.org/licenses/LICENSE-2.0\n",
              "//\n",
              "// Unless required by applicable law or agreed to in writing, software\n",
              "// distributed under the License is distributed on an \"AS IS\" BASIS,\n",
              "// WITHOUT WARRANTIES OR CONDITIONS OF ANY KIND, either express or implied.\n",
              "// See the License for the specific language governing permissions and\n",
              "// limitations under the License.\n",
              "\n",
              "/**\n",
              " * @fileoverview Helpers for google.colab Python module.\n",
              " */\n",
              "(function(scope) {\n",
              "function span(text, styleAttributes = {}) {\n",
              "  const element = document.createElement('span');\n",
              "  element.textContent = text;\n",
              "  for (const key of Object.keys(styleAttributes)) {\n",
              "    element.style[key] = styleAttributes[key];\n",
              "  }\n",
              "  return element;\n",
              "}\n",
              "\n",
              "// Max number of bytes which will be uploaded at a time.\n",
              "const MAX_PAYLOAD_SIZE = 100 * 1024;\n",
              "\n",
              "function _uploadFiles(inputId, outputId) {\n",
              "  const steps = uploadFilesStep(inputId, outputId);\n",
              "  const outputElement = document.getElementById(outputId);\n",
              "  // Cache steps on the outputElement to make it available for the next call\n",
              "  // to uploadFilesContinue from Python.\n",
              "  outputElement.steps = steps;\n",
              "\n",
              "  return _uploadFilesContinue(outputId);\n",
              "}\n",
              "\n",
              "// This is roughly an async generator (not supported in the browser yet),\n",
              "// where there are multiple asynchronous steps and the Python side is going\n",
              "// to poll for completion of each step.\n",
              "// This uses a Promise to block the python side on completion of each step,\n",
              "// then passes the result of the previous step as the input to the next step.\n",
              "function _uploadFilesContinue(outputId) {\n",
              "  const outputElement = document.getElementById(outputId);\n",
              "  const steps = outputElement.steps;\n",
              "\n",
              "  const next = steps.next(outputElement.lastPromiseValue);\n",
              "  return Promise.resolve(next.value.promise).then((value) => {\n",
              "    // Cache the last promise value to make it available to the next\n",
              "    // step of the generator.\n",
              "    outputElement.lastPromiseValue = value;\n",
              "    return next.value.response;\n",
              "  });\n",
              "}\n",
              "\n",
              "/**\n",
              " * Generator function which is called between each async step of the upload\n",
              " * process.\n",
              " * @param {string} inputId Element ID of the input file picker element.\n",
              " * @param {string} outputId Element ID of the output display.\n",
              " * @return {!Iterable<!Object>} Iterable of next steps.\n",
              " */\n",
              "function* uploadFilesStep(inputId, outputId) {\n",
              "  const inputElement = document.getElementById(inputId);\n",
              "  inputElement.disabled = false;\n",
              "\n",
              "  const outputElement = document.getElementById(outputId);\n",
              "  outputElement.innerHTML = '';\n",
              "\n",
              "  const pickedPromise = new Promise((resolve) => {\n",
              "    inputElement.addEventListener('change', (e) => {\n",
              "      resolve(e.target.files);\n",
              "    });\n",
              "  });\n",
              "\n",
              "  const cancel = document.createElement('button');\n",
              "  inputElement.parentElement.appendChild(cancel);\n",
              "  cancel.textContent = 'Cancel upload';\n",
              "  const cancelPromise = new Promise((resolve) => {\n",
              "    cancel.onclick = () => {\n",
              "      resolve(null);\n",
              "    };\n",
              "  });\n",
              "\n",
              "  // Wait for the user to pick the files.\n",
              "  const files = yield {\n",
              "    promise: Promise.race([pickedPromise, cancelPromise]),\n",
              "    response: {\n",
              "      action: 'starting',\n",
              "    }\n",
              "  };\n",
              "\n",
              "  cancel.remove();\n",
              "\n",
              "  // Disable the input element since further picks are not allowed.\n",
              "  inputElement.disabled = true;\n",
              "\n",
              "  if (!files) {\n",
              "    return {\n",
              "      response: {\n",
              "        action: 'complete',\n",
              "      }\n",
              "    };\n",
              "  }\n",
              "\n",
              "  for (const file of files) {\n",
              "    const li = document.createElement('li');\n",
              "    li.append(span(file.name, {fontWeight: 'bold'}));\n",
              "    li.append(span(\n",
              "        `(${file.type || 'n/a'}) - ${file.size} bytes, ` +\n",
              "        `last modified: ${\n",
              "            file.lastModifiedDate ? file.lastModifiedDate.toLocaleDateString() :\n",
              "                                    'n/a'} - `));\n",
              "    const percent = span('0% done');\n",
              "    li.appendChild(percent);\n",
              "\n",
              "    outputElement.appendChild(li);\n",
              "\n",
              "    const fileDataPromise = new Promise((resolve) => {\n",
              "      const reader = new FileReader();\n",
              "      reader.onload = (e) => {\n",
              "        resolve(e.target.result);\n",
              "      };\n",
              "      reader.readAsArrayBuffer(file);\n",
              "    });\n",
              "    // Wait for the data to be ready.\n",
              "    let fileData = yield {\n",
              "      promise: fileDataPromise,\n",
              "      response: {\n",
              "        action: 'continue',\n",
              "      }\n",
              "    };\n",
              "\n",
              "    // Use a chunked sending to avoid message size limits. See b/62115660.\n",
              "    let position = 0;\n",
              "    do {\n",
              "      const length = Math.min(fileData.byteLength - position, MAX_PAYLOAD_SIZE);\n",
              "      const chunk = new Uint8Array(fileData, position, length);\n",
              "      position += length;\n",
              "\n",
              "      const base64 = btoa(String.fromCharCode.apply(null, chunk));\n",
              "      yield {\n",
              "        response: {\n",
              "          action: 'append',\n",
              "          file: file.name,\n",
              "          data: base64,\n",
              "        },\n",
              "      };\n",
              "\n",
              "      let percentDone = fileData.byteLength === 0 ?\n",
              "          100 :\n",
              "          Math.round((position / fileData.byteLength) * 100);\n",
              "      percent.textContent = `${percentDone}% done`;\n",
              "\n",
              "    } while (position < fileData.byteLength);\n",
              "  }\n",
              "\n",
              "  // All done.\n",
              "  yield {\n",
              "    response: {\n",
              "      action: 'complete',\n",
              "    }\n",
              "  };\n",
              "}\n",
              "\n",
              "scope.google = scope.google || {};\n",
              "scope.google.colab = scope.google.colab || {};\n",
              "scope.google.colab._files = {\n",
              "  _uploadFiles,\n",
              "  _uploadFilesContinue,\n",
              "};\n",
              "})(self);\n",
              "</script> "
            ]
          },
          "metadata": {}
        },
        {
          "output_type": "stream",
          "name": "stdout",
          "text": [
            "Saving kaggle.json to kaggle.json\n"
          ]
        }
      ]
    },
    {
      "cell_type": "code",
      "source": [
        "mlflow.set_tracking_uri(\"mlruns\")\n",
        "mlflow.set_experiment(\"walmart_sales_forecasting_updated\")"
      ],
      "metadata": {
        "colab": {
          "base_uri": "https://localhost:8080/"
        },
        "id": "JjmXTDTeuxCz",
        "outputId": "6054d9eb-6e8c-4077-e104-a57c816d4ab7"
      },
      "execution_count": 4,
      "outputs": [
        {
          "output_type": "stream",
          "name": "stderr",
          "text": [
            "2025/08/02 08:39:28 INFO mlflow.tracking.fluent: Experiment with name 'walmart_sales_forecasting_updated' does not exist. Creating a new experiment.\n"
          ]
        },
        {
          "output_type": "execute_result",
          "data": {
            "text/plain": [
              "<Experiment: artifact_location='/content/mlruns/735797568602408188', creation_time=1754123968794, experiment_id='735797568602408188', last_update_time=1754123968794, lifecycle_stage='active', name='walmart_sales_forecasting_updated', tags={}>"
            ]
          },
          "metadata": {},
          "execution_count": 4
        }
      ]
    },
    {
      "cell_type": "code",
      "source": [
        "!mkdir -p ~/.kaggle\n",
        "!mv kaggle.json ~/.kaggle/\n",
        "!chmod 600 ~/.kaggle/kaggle.json"
      ],
      "metadata": {
        "id": "MRX2wVHzu0Yg"
      },
      "execution_count": 5,
      "outputs": []
    },
    {
      "cell_type": "code",
      "source": [
        "!kaggle competitions download -c walmart-recruiting-store-sales-forecasting\n",
        "!mkdir -p data\n",
        "!unzip walmart-recruiting-store-sales-forecasting.zip -d data/"
      ],
      "metadata": {
        "colab": {
          "base_uri": "https://localhost:8080/"
        },
        "id": "2XbllmIJu2XH",
        "outputId": "d78f829d-8830-4934-9bd7-219f608b0f64"
      },
      "execution_count": 6,
      "outputs": [
        {
          "output_type": "stream",
          "name": "stdout",
          "text": [
            "Downloading walmart-recruiting-store-sales-forecasting.zip to /content\n",
            "\r  0% 0.00/2.70M [00:00<?, ?B/s]\n",
            "\r100% 2.70M/2.70M [00:00<00:00, 1.10GB/s]\n",
            "Archive:  walmart-recruiting-store-sales-forecasting.zip\n",
            "  inflating: data/features.csv.zip   \n",
            "  inflating: data/sampleSubmission.csv.zip  \n",
            "  inflating: data/stores.csv         \n",
            "  inflating: data/test.csv.zip       \n",
            "  inflating: data/train.csv.zip      \n"
          ]
        }
      ]
    },
    {
      "cell_type": "code",
      "source": [
        "data_dir = \"data\"\n",
        "for file in os.listdir(data_dir):\n",
        "    if file.endswith(\".zip\"):\n",
        "        file_path = os.path.join(data_dir, file)\n",
        "        with zipfile.ZipFile(file_path, 'r') as zip_ref:\n",
        "            zip_ref.extractall(data_dir)\n",
        "        print(f\"Unzipped {file}\")\n",
        "\n",
        "!rm data/*.zip\n",
        "print(\"Data files:\", os.listdir(\"data\"))"
      ],
      "metadata": {
        "colab": {
          "base_uri": "https://localhost:8080/"
        },
        "id": "dWJnrNXFsG32",
        "outputId": "fee53b72-5736-445a-d710-1d1bb8579e9c"
      },
      "execution_count": 7,
      "outputs": [
        {
          "output_type": "stream",
          "name": "stdout",
          "text": [
            "Unzipped features.csv.zip\n",
            "Unzipped train.csv.zip\n",
            "Unzipped test.csv.zip\n",
            "Unzipped sampleSubmission.csv.zip\n",
            "Data files: ['stores.csv', 'test.csv', 'sampleSubmission.csv', 'features.csv', 'train.csv']\n"
          ]
        }
      ]
    },
    {
      "cell_type": "code",
      "source": [
        "import os\n",
        "print(os.listdir(\"data\"))"
      ],
      "metadata": {
        "colab": {
          "base_uri": "https://localhost:8080/"
        },
        "id": "QGArYWsEvIi2",
        "outputId": "c4a26d4e-cc58-44b7-b7f9-bb0af5a0464a"
      },
      "execution_count": 8,
      "outputs": [
        {
          "output_type": "stream",
          "name": "stdout",
          "text": [
            "['stores.csv', 'test.csv', 'sampleSubmission.csv', 'features.csv', 'train.csv']\n"
          ]
        }
      ]
    },
    {
      "cell_type": "code",
      "source": [
        "train = pd.read_csv(\"data/train.csv\")\n",
        "stores = pd.read_csv(\"data/stores.csv\")\n",
        "features = pd.read_csv(\"data/features.csv\")\n",
        "test = pd.read_csv(\"data/test.csv\")\n",
        "\n",
        "print(\"Train shape:\", train.shape)\n",
        "print(\"Stores shape:\", stores.shape)\n",
        "print(\"Features shape:\", features.shape)\n",
        "print(\"Test shape:\", test.shape)"
      ],
      "metadata": {
        "colab": {
          "base_uri": "https://localhost:8080/"
        },
        "id": "J4BGh263vf9w",
        "outputId": "ea7556bc-e4a6-44ae-ceb5-44df109504bd"
      },
      "execution_count": 9,
      "outputs": [
        {
          "output_type": "stream",
          "name": "stdout",
          "text": [
            "Train shape: (421570, 5)\n",
            "Stores shape: (45, 3)\n",
            "Features shape: (8190, 12)\n",
            "Test shape: (115064, 4)\n"
          ]
        }
      ]
    },
    {
      "cell_type": "code",
      "source": [
        "def preprocess_data(train, test, stores, features):\n",
        "    #Converting dates\n",
        "    train['Date'] = pd.to_datetime(train['Date'])\n",
        "    test['Date'] = pd.to_datetime(test['Date'])\n",
        "    features['Date'] = pd.to_datetime(features['Date'])\n",
        "\n",
        "    #Merging datasets\n",
        "    train_full = train.merge(stores, on='Store').merge(features, on=['Store', 'Date'])\n",
        "    test_full = test.merge(stores, on='Store').merge(features, on=['Store', 'Date'])\n",
        "\n",
        "    print(f\"Merged train shape: {train_full.shape}\")\n",
        "    print(f\"Merged test shape: {test_full.shape}\")\n",
        "\n",
        "    #fixing duplicate IsHoliday_y IsHoliday_x columns\n",
        "    if 'IsHoliday_x' in train_full.columns and 'IsHoliday_y' in train_full.columns:\n",
        "        train_full['IsHoliday'] = train_full['IsHoliday_x']\n",
        "        train_full = train_full.drop(columns=['IsHoliday_x', 'IsHoliday_y'])\n",
        "\n",
        "    if 'IsHoliday_x' in test_full.columns and 'IsHoliday_y' in test_full.columns:\n",
        "        test_full['IsHoliday'] = test_full['IsHoliday_x']\n",
        "        test_full = test_full.drop(columns=['IsHoliday_x', 'IsHoliday_y'])\n",
        "\n",
        "    #filling missing values\n",
        "    markdown_cols = ['MarkDown1', 'MarkDown2', 'MarkDown3', 'MarkDown4', 'MarkDown5']\n",
        "    train_full[markdown_cols] = train_full[markdown_cols].fillna(0)\n",
        "    test_full[markdown_cols] = test_full[markdown_cols].fillna(0)\n",
        "\n",
        "    train_full['CPI'] = train_full['CPI'].fillna(train_full['CPI'].median())\n",
        "    train_full['Unemployment'] = train_full['Unemployment'].fillna(train_full['Unemployment'].median())\n",
        "    train_full['IsHoliday'] = train_full['IsHoliday'].astype(int)\n",
        "\n",
        "    test_full['CPI'] = test_full['CPI'].fillna(test_full['CPI'].median())\n",
        "    test_full['Unemployment'] = test_full['Unemployment'].fillna(test_full['Unemployment'].median())\n",
        "    test_full['IsHoliday'] = test_full['IsHoliday'].astype(int)\n",
        "\n",
        "    #data cleaning\n",
        "    if 'Weekly_Sales' in train_full.columns:\n",
        "        print(f\"Original train data: {len(train_full)} rows\")\n",
        "        train_full = train_full[train_full['Weekly_Sales'] >= 0]\n",
        "        print(f\"After removing negative sales: {len(train_full)} rows\")\n",
        "\n",
        "        Q1 = train_full['Weekly_Sales'].quantile(0.25)\n",
        "        Q3 = train_full['Weekly_Sales'].quantile(0.75)\n",
        "        IQR = Q3 - Q1\n",
        "        upper_bound = Q3 + 2.5 * IQR\n",
        "\n",
        "        holiday_mask = (train_full['IsHoliday'] == 1) | (train_full['Date'].dt.month.isin([11, 12]))\n",
        "        outlier_mask = train_full['Weekly_Sales'] > upper_bound\n",
        "        outliers_to_cap = (~holiday_mask & outlier_mask).sum()\n",
        "\n",
        "        print(f\"Outliers to cap: {outliers_to_cap}\")\n",
        "        train_full.loc[~holiday_mask & outlier_mask, 'Weekly_Sales'] = upper_bound\n",
        "\n",
        "    train_full = train_full.sort_values(['Store', 'Dept', 'Date'])\n",
        "    test_full = test_full.sort_values(['Store', 'Dept', 'Date'])\n",
        "\n",
        "    return train_full, test_full\n"
      ],
      "metadata": {
        "id": "v4sjbJK2ygCu"
      },
      "execution_count": 10,
      "outputs": []
    },
    {
      "cell_type": "code",
      "source": [
        "def add_features(df):\n",
        "    df = df.copy()\n",
        "\n",
        "    #converting temperature\n",
        "    df['Temperature'] = (df['Temperature'] - 32) * (5.0 / 9.0)\n",
        "\n",
        "    #time features\n",
        "    df['Day'] = df['Date'].dt.day\n",
        "    df['Month'] = df['Date'].dt.month\n",
        "    df['Year'] = df['Date'].dt.year\n",
        "    df['DayOfWeek'] = df['Date'].dt.dayofweek\n",
        "    df['WeekOfYear'] = df['Date'].dt.isocalendar().week\n",
        "    df['Quarter'] = df['Date'].dt.quarter\n",
        "\n",
        "    #holiday features\n",
        "    df['SuperbowlWeek'] = df['WeekOfYear'].isin([6]).astype(int)\n",
        "    df['LaborDayWeek'] = df['WeekOfYear'].isin([36]).astype(int)\n",
        "    df['ThanksgivingWeek'] = df['WeekOfYear'].isin([47, 48]).astype(int)\n",
        "    df['ChristmasWeek'] = df['WeekOfYear'].isin([52, 1]).astype(int)\n",
        "\n",
        "    df['Days_to_Thanksgiving'] = (pd.to_datetime(df['Year'].astype(str) + '-11-24') - df['Date']).dt.days\n",
        "    df['Days_to_Christmas'] = (pd.to_datetime(df['Year'].astype(str) + '-12-24') - df['Date']).dt.days\n",
        "\n",
        "    df.loc[df['Days_to_Christmas'] < -30, 'Days_to_Christmas'] += 365\n",
        "\n",
        "    type_mapping = {'A': 3, 'B': 2, 'C': 1}\n",
        "    df['Type'] = df['Type'].map(type_mapping)\n",
        "\n",
        "    return df"
      ],
      "metadata": {
        "id": "k7L52pe3yvV0"
      },
      "execution_count": 11,
      "outputs": []
    },
    {
      "cell_type": "code",
      "source": [
        "train_full, test_full = preprocess_data(train, test, stores, features)\n",
        "train_full = add_features(train_full)\n",
        "test_full = add_features(test_full)"
      ],
      "metadata": {
        "colab": {
          "base_uri": "https://localhost:8080/"
        },
        "id": "mdcx51nfzCoO",
        "outputId": "ae3788d7-275d-4615-b521-122b0ebd42d9"
      },
      "execution_count": 12,
      "outputs": [
        {
          "output_type": "stream",
          "name": "stdout",
          "text": [
            "Merged train shape: (421570, 17)\n",
            "Merged test shape: (115064, 16)\n",
            "Original train data: 421570 rows\n",
            "After removing negative sales: 420285 rows\n",
            "Outliers to cap: 14153\n"
          ]
        }
      ]
    },
    {
      "cell_type": "code",
      "source": [
        "def prepare_store_data(train_full, test_full):\n",
        "    train_aggregated = {}\n",
        "    test_aggregated = {}\n",
        "\n",
        "    #features to use\n",
        "    group_features = ['IsHoliday', 'Temperature', 'Fuel_Price', 'CPI', 'Unemployment',\n",
        "                      'Type', 'Size', 'Day', 'Month', 'Year', 'DayOfWeek', 'WeekOfYear', 'Quarter',\n",
        "                      'SuperbowlWeek', 'LaborDayWeek', 'ThanksgivingWeek', 'ChristmasWeek',\n",
        "                      'Days_to_Thanksgiving', 'Days_to_Christmas'] + \\\n",
        "                     ['MarkDown1', 'MarkDown2', 'MarkDown3', 'MarkDown4', 'MarkDown5']\n",
        "\n",
        "    #prcessing trainng data\n",
        "    for store_id in tqdm(train_full['Store'].unique(), desc=\"Processing training stores\"):\n",
        "        store_data = train_full[train_full['Store'] == store_id].copy()\n",
        "\n",
        "        weekly = store_data.groupby('Date').agg({\n",
        "            **{col: 'first' for col in group_features},\n",
        "            'Weekly_Sales': 'sum'\n",
        "        }).reset_index()\n",
        "\n",
        "        weekly = weekly.sort_values('Date').reset_index(drop=True)\n",
        "\n",
        "        dept_props = store_data.groupby('Dept')['Weekly_Sales'].sum()\n",
        "        total_sales = dept_props.sum()\n",
        "        if total_sales > 0:\n",
        "            dept_props = (dept_props / total_sales).to_dict()\n",
        "        else:\n",
        "            unique_depts = store_data['Dept'].unique()\n",
        "            dept_props = {dept: 1/len(unique_depts) for dept in unique_depts}\n",
        "\n",
        "        train_aggregated[store_id] = (weekly, dept_props)\n",
        "\n",
        "    for store_id in tqdm(test_full['Store'].unique(), desc=\"Processing test stores\"):\n",
        "        store_data = test_full[test_full['Store'] == store_id].copy()\n",
        "        weekly = store_data.groupby('Date').agg({col: 'first' for col in group_features}).reset_index()\n",
        "        weekly = weekly.sort_values('Date').reset_index(drop=True)\n",
        "        test_aggregated[store_id] = (weekly, None)\n",
        "\n",
        "    return train_aggregated, test_aggregated, group_features"
      ],
      "metadata": {
        "id": "V7HizqH3zDIS"
      },
      "execution_count": 13,
      "outputs": []
    },
    {
      "cell_type": "code",
      "source": [
        "train_aggregated, test_aggregated, group_features = prepare_store_data(train_full, test_full)"
      ],
      "metadata": {
        "colab": {
          "base_uri": "https://localhost:8080/"
        },
        "id": "_sTXKz0lzOIV",
        "outputId": "6d4a65a4-ca3b-461a-b04c-73aef11b37b9"
      },
      "execution_count": 14,
      "outputs": [
        {
          "output_type": "stream",
          "name": "stderr",
          "text": [
            "Processing training stores: 100%|██████████| 45/45 [00:00<00:00, 49.02it/s]\n",
            "Processing test stores: 100%|██████████| 45/45 [00:00<00:00, 77.40it/s]\n"
          ]
        }
      ]
    },
    {
      "cell_type": "code",
      "source": [
        "def find_best_sarimax_params(series, seasonal_period=52, max_p=2, max_q=2):\n",
        "    try:\n",
        "        auto_model = auto_arima(\n",
        "            series,\n",
        "            seasonal=True,\n",
        "            m=seasonal_period,\n",
        "            max_p=max_p, max_q=max_q,\n",
        "            max_P=1, max_Q=1,\n",
        "            suppress_warnings=True,\n",
        "            stepwise=True,\n",
        "            error_action='ignore'\n",
        "        )\n",
        "        return auto_model.order, auto_model.seasonal_order, auto_model.aic()\n",
        "    except:\n",
        "        return (1, 1, 1), (1, 1, 1, seasonal_period), float('inf')"
      ],
      "metadata": {
        "id": "8tumtJc9zP9x"
      },
      "execution_count": 15,
      "outputs": []
    },
    {
      "cell_type": "code",
      "source": [
        "def train_store_models(train_aggregated):\n",
        "    store_models = {}\n",
        "\n",
        "    with mlflow.start_run(run_name=\"SARIMAX_Store_Models_Training\"):\n",
        "        mlflow.log_param(\"total_stores\", len(train_aggregated))\n",
        "        mlflow.log_param(\"seasonal_period\", 52)\n",
        "\n",
        "        successful_models = 0\n",
        "        for store_id in tqdm(list(train_aggregated.keys()), desc=\"Training store models\"):\n",
        "            try:\n",
        "                df, dept_props = train_aggregated[store_id]\n",
        "\n",
        "                if len(df) < 52:\n",
        "                    print(f\"Skipping store {store_id}: insufficient data ({len(df)} weeks)\")\n",
        "                    continue\n",
        "\n",
        "                #best params\n",
        "                order, seasonal_order, aic = find_best_sarimax_params(df['Weekly_Sales'].values)\n",
        "\n",
        "                #fit model\n",
        "                df['Weekly_Sales'] = pd.to_numeric(df['Weekly_Sales'], errors='coerce').fillna(0).astype(np.float64)\n",
        "                exog = df[group_features].apply(pd.to_numeric, errors='coerce').fillna(0).astype(np.float64)\n",
        "                model = SARIMAX(\n",
        "                   endog=df['Weekly_Sales'].values,\n",
        "                   exog=exog.values,\n",
        "                   order=order,\n",
        "                   seasonal_order=seasonal_order,\n",
        "                   enforce_stationarity=False,\n",
        "                   enforce_invertibility=False\n",
        "                )\n",
        "\n",
        "                fitted_model = model.fit(\n",
        "                    disp=False,\n",
        "                    maxiter=100,\n",
        "                    method='lbfgs'\n",
        "                )\n",
        "\n",
        "                store_models[store_id] = (fitted_model, dept_props, order, seasonal_order)\n",
        "                successful_models += 1\n",
        "\n",
        "            except Exception as e:\n",
        "                print(f\"Failed to fit model for store {store_id}: {str(e)}\")\n",
        "                continue\n",
        "\n",
        "        mlflow.log_metric(\"successful_models\", successful_models)\n",
        "        mlflow.log_metric(\"success_rate\", successful_models / len(train_aggregated))\n",
        "\n",
        "        print(f\"Successfully trained {successful_models} out of {len(train_aggregated)} store models\")\n",
        "\n",
        "    return store_models"
      ],
      "metadata": {
        "id": "PgHTBAbkzVbk"
      },
      "execution_count": 18,
      "outputs": []
    },
    {
      "cell_type": "code",
      "source": [
        "store_models = train_store_models(train_aggregated)"
      ],
      "metadata": {
        "colab": {
          "base_uri": "https://localhost:8080/"
        },
        "id": "a5ExiHc26A__",
        "outputId": "1f744bd3-1859-480d-c848-ee20aa9a87fc"
      },
      "execution_count": 19,
      "outputs": [
        {
          "output_type": "stream",
          "name": "stderr",
          "text": [
            "Training store models: 100%|██████████| 46/46 [51:08<00:00, 66.72s/it]"
          ]
        },
        {
          "output_type": "stream",
          "name": "stdout",
          "text": [
            "Failed to fit model for store Weekly_Sales: too many values to unpack (expected 2)\n",
            "Successfully trained 45 out of 46 store models\n"
          ]
        },
        {
          "output_type": "stream",
          "name": "stderr",
          "text": [
            "\n"
          ]
        }
      ]
    },
    {
      "cell_type": "code",
      "source": [
        "max_train_date = train_full['Date'].max()"
      ],
      "metadata": {
        "id": "ZXV0ilrazgEi"
      },
      "execution_count": 20,
      "outputs": []
    },
    {
      "cell_type": "code",
      "source": [
        "def get_forecast(sample, store_models, test_aggregated, train_full):\n",
        "    store = sample['Store']\n",
        "    dept = sample['Dept']\n",
        "    pred_date = sample['Date']\n",
        "\n",
        "    if store not in store_models:\n",
        "        store_avg = train_full[train_full['Store'] == store]['Weekly_Sales'].mean()\n",
        "        dept_avg = train_full[(train_full['Store'] == store) & (train_full['Dept'] == dept)]['Weekly_Sales'].mean()\n",
        "        return dept_avg if not pd.isna(dept_avg) else (store_avg if not pd.isna(store_avg) else 0)\n",
        "\n",
        "    fitted_model, dept_props, order, seasonal_order = store_models[store]\n",
        "    test_df, _ = test_aggregated[store]\n",
        "\n",
        "    test_df = test_df.sort_values('Date').reset_index(drop=True)\n",
        "\n",
        "    weeks_ahead = (pred_date - max_train_date).days // 7\n",
        "\n",
        "    if weeks_ahead <= 0:\n",
        "        return 0\n",
        "\n",
        "    try:\n",
        "        matching_rows = test_df[test_df['Date'] == pred_date]\n",
        "        if matching_rows.empty:\n",
        "            return 0\n",
        "\n",
        "        exog_row = matching_rows.iloc[0][group_features].values.reshape(1, -1)\n",
        "\n",
        "        forecast = fitted_model.forecast(steps=1, exog=exog_row)[0]\n",
        "\n",
        "        if dept in dept_props:\n",
        "            return max(0, forecast * dept_props[dept])\n",
        "        else:\n",
        "            return max(0, forecast / max(len(dept_props), 1))\n",
        "\n",
        "    except Exception as e:\n",
        "        dept_avg = train_full[(train_full['Store'] == store) & (train_full['Dept'] == dept)]['Weekly_Sales'].mean()\n",
        "        return dept_avg if not pd.isna(dept_avg) else 0"
      ],
      "metadata": {
        "id": "_1-0MA9Pzhse"
      },
      "execution_count": 21,
      "outputs": []
    },
    {
      "cell_type": "code",
      "source": [
        "def process_batch(batch_indices, test_full, store_models, test_aggregated, train_full):\n",
        "    batch_results = []\n",
        "    for idx in batch_indices:\n",
        "        sample = test_full.iloc[idx]\n",
        "        prediction = get_forecast(sample, store_models, test_aggregated, train_full)\n",
        "        batch_results.append({\n",
        "            'Id': f\"{sample['Store']}_{sample['Dept']}_{sample['Date'].strftime('%Y-%m-%d')}\",\n",
        "            'Weekly_Sales': max(0, prediction)\n",
        "        })\n",
        "    return batch_results"
      ],
      "metadata": {
        "id": "Gk6ZxUFyzpPc"
      },
      "execution_count": 22,
      "outputs": []
    },
    {
      "cell_type": "code",
      "source": [
        "submission_data = []\n",
        "\n",
        "batch_size = 1000\n",
        "total_rows = len(test_full)\n",
        "\n",
        "for start_idx in tqdm(range(0, total_rows, batch_size), desc=\"Processing prediction batches\"):\n",
        "    end_idx = min(start_idx + batch_size, total_rows)\n",
        "    batch_indices = list(range(start_idx, end_idx))\n",
        "\n",
        "    batch_results = process_batch(batch_indices, test_full, store_models, test_aggregated, train_full)\n",
        "    submission_data.extend(batch_results)"
      ],
      "metadata": {
        "colab": {
          "base_uri": "https://localhost:8080/"
        },
        "id": "X0Td8GKuzsRS",
        "outputId": "3bf7351b-e8e5-4c4a-c68d-e6445c4c3fd7"
      },
      "execution_count": 23,
      "outputs": [
        {
          "output_type": "stream",
          "name": "stderr",
          "text": [
            "Processing prediction batches: 100%|██████████| 116/116 [06:01<00:00,  3.12s/it]\n"
          ]
        }
      ]
    },
    {
      "cell_type": "code",
      "source": [
        "submission_df = pd.DataFrame(submission_data)\n",
        "submission_df = submission_df.sort_values('Id').reset_index(drop=True)"
      ],
      "metadata": {
        "id": "8jbNewRNzwYM"
      },
      "execution_count": 24,
      "outputs": []
    },
    {
      "cell_type": "code",
      "source": [
        "with mlflow.start_run(run_name=\"Final_Predictions\"):\n",
        "    mlflow.log_metric(\"total_predictions\", len(submission_df))\n",
        "    mlflow.log_metric(\"avg_prediction\", submission_df['Weekly_Sales'].mean())\n",
        "    mlflow.log_metric(\"median_prediction\", submission_df['Weekly_Sales'].median())\n",
        "    mlflow.log_metric(\"zero_predictions\", (submission_df['Weekly_Sales'] == 0).sum())\n",
        "    mlflow.log_metric(\"max_prediction\", submission_df['Weekly_Sales'].max())\n",
        "    mlflow.log_metric(\"min_prediction\", submission_df['Weekly_Sales'].min())"
      ],
      "metadata": {
        "id": "l11SoE1Uzyez"
      },
      "execution_count": 25,
      "outputs": []
    },
    {
      "cell_type": "code",
      "source": [
        "submission_df.to_csv(\"data/walmart_sarimax_submission_polished.csv\", index=False)\n",
        "print(f\"Saved {len(submission_df)} predictions to submission file.\")"
      ],
      "metadata": {
        "colab": {
          "base_uri": "https://localhost:8080/"
        },
        "id": "_7LPVJqLz2yQ",
        "outputId": "ec47b60a-8f1d-4972-cb8e-7df47abf47ae"
      },
      "execution_count": 26,
      "outputs": [
        {
          "output_type": "stream",
          "name": "stdout",
          "text": [
            "Saved 115064 predictions to submission file.\n"
          ]
        }
      ]
    },
    {
      "cell_type": "code",
      "source": [
        "print(f\"Total stores processed: {len(train_aggregated)}\")\n",
        "print(f\"Successful models trained: {len(store_models)}\")\n",
        "print(f\"Model success rate: {len(store_models)/len(train_aggregated)*100:.1f}%\")"
      ],
      "metadata": {
        "colab": {
          "base_uri": "https://localhost:8080/"
        },
        "id": "wmnJGkrDz6CZ",
        "outputId": "f7679932-d6ea-47c7-d85e-e506ad6374a4"
      },
      "execution_count": 29,
      "outputs": [
        {
          "output_type": "stream",
          "name": "stdout",
          "text": [
            "Total stores processed: 46\n",
            "Successful models trained: 45\n",
            "Model success rate: 97.8%\n"
          ]
        }
      ]
    },
    {
      "cell_type": "code",
      "source": [
        "sample_store = 1\n",
        "df, _ = train_aggregated[sample_store]\n",
        "fitted, *_ = store_models[sample_store]\n",
        "\n",
        "plt.figure(figsize=(12, 5))\n",
        "plt.plot(df['Date'], df['Weekly_Sales'], label='Actual')\n",
        "plt.plot(df['Date'], fitted.fittedvalues, label='Fitted')\n",
        "plt.title(f'Store {sample_store} - Weekly Sales')\n",
        "plt.legend()\n",
        "plt.show()"
      ],
      "metadata": {
        "colab": {
          "base_uri": "https://localhost:8080/",
          "height": 468
        },
        "id": "mKuzVNolMPpq",
        "outputId": "dc495ad4-4f32-439b-f22d-7c46c32298de"
      },
      "execution_count": 30,
      "outputs": [
        {
          "output_type": "display_data",
          "data": {
            "text/plain": [
              "<Figure size 1200x500 with 1 Axes>"
            ],
            "image/png": "[encoded data removed]"
          },
          "metadata": {}
        }
      ]
    }
  ]
}