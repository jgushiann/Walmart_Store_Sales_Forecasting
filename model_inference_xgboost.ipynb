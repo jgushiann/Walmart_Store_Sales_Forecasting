{
  "nbformat": 4,
  "nbformat_minor": 0,
  "metadata": {
    "colab": {
      "provenance": [],
      "gpuType": "T4"
    },
    "kernelspec": {
      "name": "python3",
      "display_name": "Python 3"
    },
    "language_info": {
      "name": "python"
    },
    "accelerator": "GPU"
  },
  "cells": [
    {
      "cell_type": "code",
      "execution_count": 24,
      "metadata": {
        "id": "Q_5rnMH-J_b6"
      },
      "outputs": [],
      "source": [
        "import pandas as pd\n",
        "import numpy as np\n",
        "import joblib\n",
        "import xgboost as xgb\n",
        "from sklearn.preprocessing import LabelEncoder\n",
        "from google.colab import drive\n",
        "import warnings\n",
        "import os\n",
        "from datetime import datetime\n",
        "import json\n",
        "\n",
        "warnings.filterwarnings('ignore')"
      ]
    },
    {
      "cell_type": "code",
      "source": [
        "drive.mount('/content/drive')"
      ],
      "metadata": {
        "colab": {
          "base_uri": "https://localhost:8080/"
        },
        "id": "EXVg7HqXcVwQ",
        "outputId": "16a652ec-3721-4a06-c627-3da43f6ebb70"
      },
      "execution_count": 25,
      "outputs": [
        {
          "output_type": "stream",
          "name": "stdout",
          "text": [
            "Drive already mounted at /content/drive; to attempt to forcibly remount, call drive.mount(\"/content/drive\", force_remount=True).\n"
          ]
        }
      ]
    },
    {
      "cell_type": "code",
      "source": [
        "models_path = '/content/drive/MyDrive/models'\n",
        "\n",
        "try:\n",
        "    xgb_model = joblib.load(f'{models_path}/xgboost_model.pkl')\n",
        "    rf_model = joblib.load(f'{models_path}/random_forest_model.pkl')\n",
        "    lr_model = joblib.load(f'{models_path}/linear_regression_model.pkl')\n",
        "    label_encoders = joblib.load(f'{models_path}/label_encoders.pkl')\n",
        "    feature_cols = joblib.load(f'{models_path}/feature_columns.pkl')\n",
        "    print(\"All models loaded successfully from Google Drive\")\n",
        "except FileNotFoundError as e:\n",
        "    print(f\"Error loading models: {e}\")"
      ],
      "metadata": {
        "colab": {
          "base_uri": "https://localhost:8080/"
        },
        "id": "MjecPUwYeVJF",
        "outputId": "f5852250-0b8c-445f-e404-4345f0fda69d"
      },
      "execution_count": 26,
      "outputs": [
        {
          "output_type": "stream",
          "name": "stdout",
          "text": [
            "All models loaded successfully from Google Drive\n"
          ]
        }
      ]
    },
    {
      "cell_type": "code",
      "source": [
        "test_full = pd.read_csv('/content/drive/MyDrive/data/test_processed.csv')"
      ],
      "metadata": {
        "id": "vKhvOduOft65"
      },
      "execution_count": 27,
      "outputs": []
    },
    {
      "cell_type": "code",
      "source": [
        "test = pd.read_csv('/content/drive/MyDrive/data/test.csv')"
      ],
      "metadata": {
        "id": "Ymyf_WNZgy1M"
      },
      "execution_count": 28,
      "outputs": []
    },
    {
      "cell_type": "code",
      "source": [
        "print(test_full)"
      ],
      "metadata": {
        "colab": {
          "base_uri": "https://localhost:8080/"
        },
        "id": "oNBI3kPDgUNu",
        "outputId": "3afe9ec5-19ad-4f05-b1d8-28cd6d3fe60b"
      },
      "execution_count": 29,
      "outputs": [
        {
          "output_type": "stream",
          "name": "stdout",
          "text": [
            "        Store  Dept        Date Type    Size  Temperature  Fuel_Price  \\\n",
            "0           1     1  2012-11-02    A  151315        55.32       3.386   \n",
            "1           1     1  2012-11-09    A  151315        61.24       3.314   \n",
            "2           1     1  2012-11-16    A  151315        52.92       3.252   \n",
            "3           1     1  2012-11-23    A  151315        56.23       3.211   \n",
            "4           1     1  2012-11-30    A  151315        52.34       3.207   \n",
            "...       ...   ...         ...  ...     ...          ...         ...   \n",
            "115059     45    98  2013-06-28    B  118221        76.05       3.639   \n",
            "115060     45    98  2013-07-05    B  118221        77.50       3.614   \n",
            "115061     45    98  2013-07-12    B  118221        79.37       3.614   \n",
            "115062     45    98  2013-07-19    B  118221        82.84       3.737   \n",
            "115063     45    98  2013-07-26    B  118221        76.06       3.804   \n",
            "\n",
            "        MarkDown1  MarkDown2  MarkDown3  ...  BackToSchool  Store_Sales_Mean  \\\n",
            "0         6766.44    5147.70      50.82  ...             0      19833.820652   \n",
            "1        11421.32    3370.89      40.28  ...             0      19833.820652   \n",
            "2         9696.28     292.10     103.78  ...             0      19833.820652   \n",
            "3          883.59       4.17   74910.32  ...             0      19833.820652   \n",
            "4         2460.03       0.00    3838.35  ...             0      19833.820652   \n",
            "...           ...        ...        ...  ...           ...               ...   \n",
            "115059    4842.29     975.03       3.00  ...             0      11689.711747   \n",
            "115060    9090.48    2268.58     582.74  ...             0      11689.711747   \n",
            "115061    3789.94    1827.31      85.72  ...             0      11689.711747   \n",
            "115062    2961.49    1047.07     204.19  ...             0      11689.711747   \n",
            "115063     212.02     851.73       2.06  ...             0      11689.711747   \n",
            "\n",
            "        Store_Sales_Std  Store_Sales_Median  Dept_Sales_Mean  Dept_Sales_Std  \\\n",
            "0          22333.879707            10315.10     18935.972712    13703.945226   \n",
            "1          22333.879707            10315.10     18935.972712    13703.945226   \n",
            "2          22333.879707            10315.10     18935.972712    13703.945226   \n",
            "3          22333.879707            10315.10     18935.972712    13703.945226   \n",
            "4          22333.879707            10315.10     18935.972712    13703.945226   \n",
            "...                 ...                 ...              ...             ...   \n",
            "115059     14070.740594             6058.49      6856.441518     5629.824098   \n",
            "115060     14070.740594             6058.49      6856.441518     5629.824098   \n",
            "115061     14070.740594             6058.49      6856.441518     5629.824098   \n",
            "115062     14070.740594             6058.49      6856.441518     5629.824098   \n",
            "115063     14070.740594             6058.49      6856.441518     5629.824098   \n",
            "\n",
            "        Dept_Sales_Median  Type_Size_Interaction  Holiday_Type_Interaction  \\\n",
            "0                15314.91               A_Medium                       0_A   \n",
            "1                15314.91               A_Medium                       0_A   \n",
            "2                15314.91               A_Medium                       0_A   \n",
            "3                15314.91               A_Medium                       1_A   \n",
            "4                15314.91               A_Medium                       0_A   \n",
            "...                   ...                    ...                       ...   \n",
            "115059            7268.31               B_Medium                       0_B   \n",
            "115060            7268.31               B_Medium                       0_B   \n",
            "115061            7268.31               B_Medium                       0_B   \n",
            "115062            7268.31               B_Medium                       0_B   \n",
            "115063            7268.31               B_Medium                       0_B   \n",
            "\n",
            "        Temp_Category  \n",
            "0                Warm  \n",
            "1                Warm  \n",
            "2                Warm  \n",
            "3                Warm  \n",
            "4                Warm  \n",
            "...               ...  \n",
            "115059            Hot  \n",
            "115060            Hot  \n",
            "115061            Hot  \n",
            "115062            Hot  \n",
            "115063            Hot  \n",
            "\n",
            "[115064 rows x 35 columns]\n"
          ]
        }
      ]
    },
    {
      "cell_type": "code",
      "source": [
        "print(test)"
      ],
      "metadata": {
        "colab": {
          "base_uri": "https://localhost:8080/"
        },
        "id": "OHiWLr2kgizd",
        "outputId": "f340d8ed-01f2-4e0c-e2de-a99c0a5aa22f"
      },
      "execution_count": 30,
      "outputs": [
        {
          "output_type": "stream",
          "name": "stdout",
          "text": [
            "        Store  Dept        Date  IsHoliday\n",
            "0           1     1  2012-11-02      False\n",
            "1           1     1  2012-11-09      False\n",
            "2           1     1  2012-11-16      False\n",
            "3           1     1  2012-11-23       True\n",
            "4           1     1  2012-11-30      False\n",
            "...       ...   ...         ...        ...\n",
            "115059     45    98  2013-06-28      False\n",
            "115060     45    98  2013-07-05      False\n",
            "115061     45    98  2013-07-12      False\n",
            "115062     45    98  2013-07-19      False\n",
            "115063     45    98  2013-07-26      False\n",
            "\n",
            "[115064 rows x 4 columns]\n"
          ]
        }
      ]
    },
    {
      "cell_type": "code",
      "source": [
        "CONFIG = {\n",
        "    'models_path': '/content/drive/MyDrive/models',\n",
        "    'data_path': '/content/drive/MyDrive/data',\n",
        "    'output_path': '/content/drive/MyDrive/predictions',\n",
        "    'ensemble_weights': {\n",
        "        'xgboost': 0.5,\n",
        "        'random_forest': 0.3,\n",
        "        'linear_regression': 0.2\n",
        "    },\n",
        "    'categorical_features': ['Type', 'Season', 'Type_Size_Interaction', 'Holiday_Type_Interaction', 'Temp_Category']\n",
        "}"
      ],
      "metadata": {
        "id": "Nf3bi6BFkPyA"
      },
      "execution_count": 31,
      "outputs": []
    },
    {
      "cell_type": "code",
      "source": [
        "features_to_drop = [\n",
        "    'Date',\n",
        "    'Weekly_Sales',\n",
        "    'Weekly_Sales_Lag1', 'Weekly_Sales_Lag4', 'Weekly_Sales_Lag52',\n",
        "    'Weekly_Sales_Roll4_Mean', 'Weekly_Sales_Roll12_Mean'\n",
        "]\n",
        "\n",
        "X_test = test_full[feature_cols].copy()\n",
        "print(f\"Test features shape: {X_test.shape}\")"
      ],
      "metadata": {
        "colab": {
          "base_uri": "https://localhost:8080/"
        },
        "id": "4_iTKZOtg60_",
        "outputId": "cd7cf649-74ab-4d8f-a3ef-829e66f0d6c2"
      },
      "execution_count": 32,
      "outputs": [
        {
          "output_type": "stream",
          "name": "stdout",
          "text": [
            "Test features shape: (115064, 34)\n"
          ]
        }
      ]
    },
    {
      "cell_type": "code",
      "source": [
        "categorical_features = ['Type', 'Season', 'Type_Size_Interaction', 'Holiday_Type_Interaction', 'Temp_Category']\n",
        "\n",
        "for col in categorical_features:\n",
        "    if col in X_test.columns and col in label_encoders:\n",
        "        le = label_encoders[col]\n",
        "\n",
        "        unique_test_values = set(X_test[col].astype(str).unique())\n",
        "        known_classes = set(le.classes_)\n",
        "        unknown_values = unique_test_values - known_classes\n",
        "\n",
        "        if unknown_values:\n",
        "            print(f\"Warning: Unknown categories in {col}: {unknown_values}\")\n",
        "            most_frequent_class = le.classes_[0]  # Assumes first class is most frequent\n",
        "            X_test[col] = X_test[col].astype(str).replace(list(unknown_values), most_frequent_class)\n",
        "\n",
        "        X_test[col] = le.transform(X_test[col].astype(str))\n",
        "        print(f\" Encoded {col}\")\n"
      ],
      "metadata": {
        "colab": {
          "base_uri": "https://localhost:8080/"
        },
        "id": "MesV2xybhC3b",
        "outputId": "10607b1c-6c51-4d07-8bde-b36800b59e32"
      },
      "execution_count": 33,
      "outputs": [
        {
          "output_type": "stream",
          "name": "stdout",
          "text": [
            "Warning: Unknown categories in Type: {'B', 'C', 'A'}\n",
            " Encoded Type\n",
            "Warning: Unknown categories in Season: {'Fall', 'Winter', 'Spring', 'Summer'}\n",
            " Encoded Season\n",
            "Warning: Unknown categories in Type_Size_Interaction: {'A_Large', 'A_Small', 'B_Medium', 'C_Small', 'A_Medium', 'B_Small'}\n",
            " Encoded Type_Size_Interaction\n",
            "Warning: Unknown categories in Holiday_Type_Interaction: {'0_A', '1_B', '1_A', '0_B', '0_C', '1_C'}\n",
            " Encoded Holiday_Type_Interaction\n",
            "Warning: Unknown categories in Temp_Category: {'Hot', 'Cool', 'Cold', 'Warm'}\n",
            " Encoded Temp_Category\n"
          ]
        }
      ]
    },
    {
      "cell_type": "code",
      "source": [
        "missing_before = X_test.isnull().sum().sum()\n",
        "X_test = X_test.fillna(0)"
      ],
      "metadata": {
        "id": "ey43s05EhJl5"
      },
      "execution_count": 36,
      "outputs": []
    },
    {
      "cell_type": "code",
      "source": [
        "if set(X_test.columns) != set(feature_cols):\n",
        "    missing_features = set(feature_cols) - set(X_test.columns)\n",
        "    extra_features = set(X_test.columns) - set(feature_cols)\n",
        "\n",
        "    if missing_features:\n",
        "        print(f\"Warning: Missing features in test data: {missing_features}\")\n",
        "        for feature in missing_features:\n",
        "            X_test[feature] = 0\n",
        "    if extra_features:\n",
        "        print(f\"Warning: Extra features in test data: {extra_features}\")\n",
        "\n",
        "    X_test = X_test[feature_cols]\n",
        "\n",
        "print(\"Test data preparation completed\")"
      ],
      "metadata": {
        "colab": {
          "base_uri": "https://localhost:8080/"
        },
        "id": "Y7kesfiOhWcy",
        "outputId": "9b8179b7-a0e7-44ed-b930-a8ffd8bd9cdb"
      },
      "execution_count": 37,
      "outputs": [
        {
          "output_type": "stream",
          "name": "stdout",
          "text": [
            "Test data preparation completed\n"
          ]
        }
      ]
    },
    {
      "cell_type": "code",
      "source": [
        "xgb_predictions = xgb_model.predict(X_test)\n",
        "print(f\"XGBoost: min={xgb_predictions.min():.2f}, max={xgb_predictions.max():.2f}, mean={xgb_predictions.mean():.2f}\")"
      ],
      "metadata": {
        "colab": {
          "base_uri": "https://localhost:8080/"
        },
        "id": "arXGw5p0haGN",
        "outputId": "87e34cf8-30b6-47ff-af87-5b447187585d"
      },
      "execution_count": 39,
      "outputs": [
        {
          "output_type": "stream",
          "name": "stdout",
          "text": [
            "XGBoost: min=-8019.81, max=473360.78, mean=15708.55\n"
          ]
        }
      ]
    },
    {
      "cell_type": "code",
      "source": [
        "rf_predictions = rf_model.predict(X_test)\n",
        "print(f\"Random Forest: min={rf_predictions.min():.2f}, max={rf_predictions.max():.2f}, mean={rf_predictions.mean():.2f}\")"
      ],
      "metadata": {
        "colab": {
          "base_uri": "https://localhost:8080/"
        },
        "id": "zogllT0thixg",
        "outputId": "5b3074f6-0858-4d91-8e49-bca04103467b"
      },
      "execution_count": 40,
      "outputs": [
        {
          "output_type": "stream",
          "name": "stdout",
          "text": [
            "Random Forest: min=2.59, max=396870.24, mean=15612.31\n"
          ]
        }
      ]
    },
    {
      "cell_type": "code",
      "source": [
        "lr_predictions = lr_model.predict(X_test)\n",
        "print(f\"Linear Regression: min={lr_predictions.min():.2f}, max={lr_predictions.max():.2f}, mean={lr_predictions.mean():.2f}\")"
      ],
      "metadata": {
        "colab": {
          "base_uri": "https://localhost:8080/"
        },
        "id": "pMPYkC0Chm14",
        "outputId": "fa0ddfe5-7808-4f93-ae86-cbaad1df6248"
      },
      "execution_count": 41,
      "outputs": [
        {
          "output_type": "stream",
          "name": "stdout",
          "text": [
            "Linear Regression: min=-19947.51, max=83872.74, mean=12535.78\n"
          ]
        }
      ]
    },
    {
      "cell_type": "code",
      "source": [
        "weights = CONFIG['ensemble_weights']\n",
        "ensemble_predictions = (\n",
        "    weights['xgboost'] * xgb_predictions +\n",
        "    weights['random_forest'] * rf_predictions +\n",
        "    weights['linear_regression'] * lr_predictions\n",
        ")\n",
        "\n",
        "print(f\"Ensemble prediction: min={ensemble_predictions.min():.2f}, max={ensemble_predictions.max():.2f}, mean={ensemble_predictions.mean():.2f}\")"
      ],
      "metadata": {
        "colab": {
          "base_uri": "https://localhost:8080/"
        },
        "id": "9KcGPt8TlJWc",
        "outputId": "c6587372-2c32-4b91-d22b-60965c8ef1b5"
      },
      "execution_count": 42,
      "outputs": [
        {
          "output_type": "stream",
          "name": "stdout",
          "text": [
            "Ensemble prediction: min=-4099.77, max=359142.80, mean=15045.12\n"
          ]
        }
      ]
    },
    {
      "cell_type": "code",
      "source": [
        "os.makedirs(CONFIG['output_path'], exist_ok=True)\n",
        "\n",
        "results_df = pd.DataFrame({\n",
        "    'Store': test['Store'] if 'Store' in test.columns else range(len(ensemble_predictions)),\n",
        "    'Dept': test['Dept'] if 'Dept' in test.columns else 1,\n",
        "    'Date': test['Date'] if 'Date' in test.columns else pd.Timestamp.now(),\n",
        "    'Weekly_Sales_Pred_XGB': xgb_predictions,\n",
        "    'Weekly_Sales_Pred_RF': rf_predictions,\n",
        "    'Weekly_Sales_Pred_LR': lr_predictions,\n",
        "    'Weekly_Sales_Pred_Ensemble': ensemble_predictions\n",
        "})"
      ],
      "metadata": {
        "id": "fOYwI3kIlK_g"
      },
      "execution_count": 45,
      "outputs": []
    },
    {
      "cell_type": "code",
      "source": [
        "submission_df = pd.DataFrame({\n",
        "    'Id': test.index if 'Id' not in test.columns else test['Id'],\n",
        "    'Weekly_Sales': ensemble_predictions\n",
        "})"
      ],
      "metadata": {
        "id": "s3s8SLiVlVKv"
      },
      "execution_count": 47,
      "outputs": []
    },
    {
      "cell_type": "code",
      "source": [
        "timestamp = datetime.now().strftime(\"%Y%m%d_%H%M%S\")\n",
        "results_file = f\"{CONFIG['output_path']}/detailed_predictions_{timestamp}.csv\"\n",
        "submission_file = f\"{CONFIG['output_path']}/submission_{timestamp}.csv\"\n",
        "\n",
        "results_df.to_csv(results_file, index=False)\n",
        "submission_df.to_csv(submission_file, index=False)"
      ],
      "metadata": {
        "id": "Mm5kYMXilZ1L"
      },
      "execution_count": 48,
      "outputs": []
    },
    {
      "cell_type": "code",
      "source": [
        "metadata = {\n",
        "    'timestamp': timestamp,\n",
        "    'num_predictions': len(ensemble_predictions),\n",
        "    'ensemble_weights': CONFIG['ensemble_weights'],\n",
        "    'prediction_stats': {\n",
        "        'min': float(ensemble_predictions.min()),\n",
        "        'max': float(ensemble_predictions.max()),\n",
        "        'mean': float(ensemble_predictions.mean()),\n",
        "        'std': float(ensemble_predictions.std())\n",
        "    },\n",
        "    'individual_model_stats': {\n",
        "        'xgboost': {\n",
        "            'min': float(xgb_predictions.min()),\n",
        "            'max': float(xgb_predictions.max()),\n",
        "            'mean': float(xgb_predictions.mean())\n",
        "        },\n",
        "        'random_forest': {\n",
        "            'min': float(rf_predictions.min()),\n",
        "            'max': float(rf_predictions.max()),\n",
        "            'mean': float(rf_predictions.mean())\n",
        "        },\n",
        "        'linear_regression': {\n",
        "            'min': float(lr_predictions.min()),\n",
        "            'max': float(lr_predictions.max()),\n",
        "            'mean': float(lr_predictions.mean())\n",
        "        }\n",
        "    }\n",
        "}\n",
        "\n",
        "metadata_file = f\"{CONFIG['output_path']}/metadata_{timestamp}.json\"\n",
        "with open(metadata_file, 'w') as f:\n",
        "    json.dump(metadata, f, indent=2)"
      ],
      "metadata": {
        "id": "2HFbJ9hnlb0N"
      },
      "execution_count": 49,
      "outputs": []
    },
    {
      "cell_type": "code",
      "source": [
        "print(f\"Test samples processed: {len(ensemble_predictions)}\")\n",
        "print(f\"Features used: {len(feature_cols)}\")\n",
        "print(f\"Models used: 3 (XGBoost, Random Forest, Linear Regression)\")\n",
        "print(f\"Ensemble weights: XGB={weights['xgboost']}, RF={weights['random_forest']}, LR={weights['linear_regression']}\")\n",
        "print(f\"Ensemble prediction range: [{ensemble_predictions.min():.2f}, {ensemble_predictions.max():.2f}]\")\n",
        "print(f\"Ensemble prediction mean: {ensemble_predictions.mean():.2f}\")"
      ],
      "metadata": {
        "colab": {
          "base_uri": "https://localhost:8080/"
        },
        "id": "FBFPrbuTliIz",
        "outputId": "7499d41e-e0b0-4d9a-8001-50d3eef8c0fd"
      },
      "execution_count": 51,
      "outputs": [
        {
          "output_type": "stream",
          "name": "stdout",
          "text": [
            "Test samples processed: 115064\n",
            "Features used: 34\n",
            "Models used: 3 (XGBoost, Random Forest, Linear Regression)\n",
            "Ensemble weights: XGB=0.5, RF=0.3, LR=0.2\n",
            "Ensemble prediction range: [-4099.77, 359142.80]\n",
            "Ensemble prediction mean: 15045.12\n"
          ]
        }
      ]
    }
  ]
}